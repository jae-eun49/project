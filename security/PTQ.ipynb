{
 "cells": [
  {
   "cell_type": "markdown",
   "id": "c688ae26-bef9-4988-9133-0346dc4eff32",
   "metadata": {},
   "source": [
    "# Module"
   ]
  },
  {
   "cell_type": "code",
   "execution_count": 1,
   "id": "d5075e9a-43ff-49f5-888b-342d5ecda78b",
   "metadata": {},
   "outputs": [],
   "source": [
    "import argparse\n",
    "from tqdm import tqdm_notebook as tq\n",
    "import tqdm\n",
    "import os, time, math, copy\n",
    "import numpy as np\n",
    "import torch\n",
    "import torch.nn as nn\n",
    "import torchvision.transforms as transforms\n",
    "import torchvision.datasets as datasets\n",
    "import torch.nn.functional as F\n",
    "import torch.optim as optim\n",
    "from torch.autograd import Variable\n",
    "from collections import namedtuple\n",
    "import matplotlib.pyplot as plt\n",
    "\n",
    "torch.set_printoptions(precision=8, linewidth=50000)\n",
    "import warnings\n",
    "warnings.filterwarnings(action='ignore')"
   ]
  },
  {
   "cell_type": "markdown",
   "id": "3ff365a5-2a3c-4c10-96db-c2d798de3517",
   "metadata": {},
   "source": [
    "# Print Colors"
   ]
  },
  {
   "cell_type": "code",
   "execution_count": 2,
   "id": "f8afcf2b-07ca-4b03-93e7-89634b8b20e7",
   "metadata": {},
   "outputs": [],
   "source": [
    "BLACK\t= '\\033[30m'\n",
    "RED\t\t= '\\033[31m'\n",
    "GREEN\t= '\\033[32m'\n",
    "YELLOW\t= '\\033[33m'\n",
    "BLUE\t= '\\033[34m'\n",
    "MAGENTA\t= '\\033[35m'\n",
    "CYAN\t= '\\033[36m'\n",
    "RESET\t= '\\033[0m'\n",
    "SEL\t\t= '\\033[7m'"
   ]
  },
  {
   "cell_type": "code",
   "execution_count": 3,
   "id": "0d6f449a-b38f-449a-abfc-dbdfffd65a81",
   "metadata": {},
   "outputs": [],
   "source": [
    "class\tfxp:\n",
    "\tdef\t__init__(self, bIn, iBWF):\n",
    "\t\tself.iFullBW\t= len(bIn)\n",
    "\t\tself.iIntgBW\t= self.iFullBW - iBWF\n",
    "\t\tself.bSign\t\t= bIn[0]\n",
    "\t\tself.bIntg\t\t= bIn[:self.iIntgBW]\n",
    "\t\tself.bFrac\t\t= bIn[self.iIntgBW:]\n",
    "\t\tself.fFull\t\t= 0\n",
    "\t\ttry:\n",
    "\t\t\tfor idx, bit in enumerate(bIn):\n",
    "\t\t\t\tif\tidx == 0:\n",
    "\t\t\t\t\tself.fFull = self.fFull + int(bit,2) * -pow(2, self.iIntgBW - 1)\n",
    "\t\t\t\telse:\n",
    "\t\t\t\t\tself.fFull = self.fFull + int(bit,2) * pow(2, self.iIntgBW - 1 - idx)\n",
    "\t\texcept:\n",
    "\t\t\tprint(bIn)\n",
    "\t\tself.dispFull\t= RED + self.bIntg + BLUE + self.bFrac + RESET\n",
    "\t\treturn"
   ]
  },
  {
   "cell_type": "code",
   "execution_count": 4,
   "id": "610b93d9-8619-4bcc-b29d-9a3d35104bea",
   "metadata": {},
   "outputs": [],
   "source": [
    "class\tflp2fix:\n",
    "\tdef\t__init__(self, fIn, iBW, iBWF):\n",
    "\t\tself.fMin\t\t= fxp('1' + (iBW-1)*'0', iBWF).fFull\n",
    "\t\tself.fMax\t\t= fxp('0' + (iBW-1)*'1', iBWF).fFull\n",
    "\t\tself.fResol\t\t= 2 ** -iBWF\n",
    "\t\tif fIn < self.fMin or fIn > self.fMax:\n",
    "\t\t\tprint('Out of input range during flp -> fix converting ')\n",
    "\t\t\n",
    "\t\tself.iBW\t\t= iBW\n",
    "\t\tself.iBWI\t\t= iBW - iBWF\n",
    "\t\tself.iBWF\t\t= iBWF\n",
    "\n",
    "\t\tself.iFLP2INT\t= abs(int(fIn * 2 ** iBWF))\n",
    "\t\tif fIn < 0:\n",
    "\t\t\tself.iFLP2INT = 2 ** (iBW-1) - self.iFLP2INT\n",
    "\n",
    "\t\tif fIn >= 0:\n",
    "\t\t\tself.bFull = bin(self.iFLP2INT)[2:].rjust(iBW, '0')\n",
    "\t\telse:\n",
    "\t\t\tself.bFull = '1'+bin(self.iFLP2INT)[2:].rjust(iBW-1, '0')\n",
    "\t\t\tif len(self.bFull) > iBW:\n",
    "\t\t\t\tself.bFull = '0' * iBW\n",
    "\n",
    "\t\tself.cssFxp\t\t= fxp(self.bFull, self.iBWF)\n",
    "\t\tself.bSign\t\t= self.cssFxp.bSign\n",
    "\t\tself.bIntg\t\t= self.cssFxp.bIntg\n",
    "\t\tself.bFrac\t\t= self.cssFxp.bFrac\n",
    "\t\tself.fFull\t\t= self.cssFxp.fFull\n",
    "\t\treturn"
   ]
  },
  {
   "cell_type": "code",
   "execution_count": 5,
   "id": "48099f0b-1b79-482e-8ec7-e978b1909645",
   "metadata": {},
   "outputs": [],
   "source": [
    "def\tflp2fixTensor(fIn, iBW, iBWF):\n",
    "\tfMin = - 2 ** (iBW - iBWF - 1)\n",
    "\tfMax = (2 ** (iBW-1) - 1) * (2 ** -iBWF)\n",
    "\tfTensor = fIn * (2 ** iBWF)\n",
    "\tfTensor = fTensor.round() * (2 ** -iBWF)\n",
    "\treturn fTensor"
   ]
  },
  {
   "cell_type": "markdown",
   "id": "74b68ddb-8ef2-42a1-94c1-4f708b4907d7",
   "metadata": {},
   "source": [
    "# User Define Variable"
   ]
  },
  {
   "cell_type": "code",
   "execution_count": 6,
   "id": "470d6312-f557-4f84-899f-95686b41e1e6",
   "metadata": {},
   "outputs": [],
   "source": [
    "data_path = '~/dataset'"
   ]
  },
  {
   "cell_type": "markdown",
   "id": "002c0a67-1a39-4ce3-913b-749c11f6878b",
   "metadata": {},
   "source": [
    "# Parser"
   ]
  },
  {
   "cell_type": "code",
   "execution_count": 8,
   "id": "aa129a9b-9a85-4de6-b42a-f8cbfc31231b",
   "metadata": {},
   "outputs": [],
   "source": [
    "parser = argparse.ArgumentParser(description='PyTorch for MNIST dataset')\n",
    "parser.add_argument('--device', type=str, default='cpu', help='Device')\n",
    "parser.add_argument('--shuffle', action='store_true', default=False, help='enables data shuffle')\n",
    "parser.add_argument('--dataset', type=str, default='mnist', help='training dataset')\n",
    "parser.add_argument('--data_path', type=str, default=data_path, help='path to MNIST')\n",
    "parser.add_argument('--batch_size', type=int, default=64, help='batch size')\n",
    "parser.add_argument('--epochs', type=int, default=10, help='number of epochs to train')\n",
    "parser.add_argument('--lr', type=float, default=0.001, help='learning rate')\n",
    "parser.add_argument('--optimizer', type=str, default='adam', help='optimizer')\n",
    "parser.add_argument('--loss_func', type=str, default='cel', help='optimizer')\n",
    "parser.add_argument('--quant_opt', type=str, default='asym', help='Type of Quantization')\n",
    "parser.add_argument('--full_bits', type=int, default=8, help='Number of Quantization Bits')\n",
    "parser.add_argument('--frac_bits', type=int, default=4, help='Number of Quantization Bits')\n",
    "parser.add_argument('--act_quant', type=bool, default=False, help='Activation Quantization')\n",
    "parser.add_argument('--disp', type=bool, default=False, help='Display Model Information')\n",
    "\n",
    "args = parser.parse_args(args=[])"
   ]
  },
  {
   "cell_type": "markdown",
   "id": "87afa21c-b407-4698-bf0b-85e9dc4c94f1",
   "metadata": {},
   "source": [
    "# Preparing Data"
   ]
  },
  {
   "cell_type": "code",
   "execution_count": 9,
   "id": "7c82ac1a-0065-4d3f-a915-a01a91eb47a4",
   "metadata": {},
   "outputs": [],
   "source": [
    "kwargs = {'num_workers': 1, 'pin_memory': True} if args.device == 'cuda' else {}\n",
    "if args.dataset == 'mnist':\n",
    "\ttrain_loader = torch.utils.data.DataLoader(\n",
    "\t\tdataset=datasets.MNIST(\n",
    "\t\t\troot=args.data_path,\n",
    "\t\t\ttrain=True,\n",
    "\t\t\tdownload=True,\n",
    "\t\t\ttransform=transforms.ToTensor()\n",
    "\t\t),\n",
    "\t\tbatch_size=args.batch_size,\n",
    "\t\tshuffle=args.shuffle,\n",
    "\t\t**kwargs\n",
    "\t)\n",
    "\n",
    "\ttest_loader = torch.utils.data.DataLoader(\n",
    "\t\tdataset=datasets.MNIST(\n",
    "\t\t\troot=args.data_path,\n",
    "\t\t\ttrain=False,\n",
    "\t\t\tdownload=True,\n",
    "\t\t\ttransform=transforms.ToTensor()\n",
    "\t\t),\n",
    "\t\tbatch_size=args.batch_size,\n",
    "\t\tshuffle=args.shuffle,\n",
    "\t\t**kwargs\n",
    "\t)"
   ]
  },
  {
   "cell_type": "markdown",
   "id": "625782c6-b278-4485-a8c9-7c6fec5aafdf",
   "metadata": {},
   "source": [
    "# Build Model"
   ]
  },
  {
   "cell_type": "code",
   "execution_count": 10,
   "id": "98354784-1637-4f2c-85b2-6b53f0805bd9",
   "metadata": {},
   "outputs": [],
   "source": [
    "class MLP(nn.Module):\n",
    "\tdef __init__(self):\n",
    "\t\tsuper(MLP, self).__init__()\n",
    "\t\tself.flatten = nn.Flatten()\n",
    "\t\tself.fc1 = nn.Linear(28*28, 32)\n",
    "\t\tself.relu1 = nn.ReLU()\n",
    "\t\tself.fc2 = nn.Linear(32, 16)\n",
    "\t\tself.relu2 = nn.ReLU()\n",
    "\t\tself.fc3 = nn.Linear(16, 10)\n",
    "\t\t\n",
    "\tdef forward(self, x):\n",
    "\t\tx = self.flatten(x)\n",
    "\t\tx = self.fc1(x)\n",
    "\t\tx = self.relu1(x)\n",
    "\t\tx = self.fc2(x)\n",
    "\t\tx = self.relu2(x)\n",
    "\t\tlogits = self.fc3(x)\n",
    "\t\treturn logits\n",
    "\t"
   ]
  },
  {
   "cell_type": "code",
   "execution_count": 11,
   "id": "9ebfd9aa-9e7b-4638-8db1-101093cdfb89",
   "metadata": {},
   "outputs": [],
   "source": [
    "def genOptimizer(model, args):\n",
    "\tif args.optimizer == 'sgd':\n",
    "\t\toptimizer = torch.optim.SGD(model.parameters(), lr=args.lr)\n",
    "\tif args.optimizer == 'adam':\n",
    "\t\toptimizer = torch.optim.Adam(model.parameters(), lr=args.lr)\n",
    "\treturn optimizer\n",
    "\n",
    "def genLossFunc(args):\n",
    "\tif args.loss_func == 'cel':\n",
    "\t\tloss_func = nn.CrossEntropyLoss()\n",
    "\treturn loss_func\n"
   ]
  },
  {
   "cell_type": "code",
   "execution_count": 12,
   "id": "eb8fe687-70b1-4f29-8dd4-316acae35dab",
   "metadata": {},
   "outputs": [],
   "source": [
    "def train(train_loader, model, epoch, args):\n",
    "\tmodel.train()\n",
    "\tloss_func = genLossFunc(args)\n",
    "\toptimizer = genOptimizer(model, args)\n",
    "\tmax_batch_index = int(np.floor(len(train_loader.dataset)/args.batch_size))\n",
    "\trunning_loss = 0\n",
    "\tfor batch_index, (image, label) in enumerate(tq(train_loader, desc='Train', leave=False)):\n",
    "\t\timage, label = image.to(args.device), label.to(args.device)\n",
    "\t\tpred = model(image)\n",
    "\t\tloss = loss_func(pred, label)\n",
    "\t\trunning_loss += loss.item()#*image.size(0)\n",
    "\n",
    "\t\toptimizer.zero_grad()\n",
    "\t\tloss.backward()\n",
    "\t\toptimizer.step()\n",
    "\t\t\t\t\n",
    "\tprint(f'Epoch {epoch+1:<3d}: Avg. Loss: {running_loss/len(train_loader.dataset):.4f}', end = '\\t')"
   ]
  },
  {
   "cell_type": "code",
   "execution_count": 13,
   "id": "29189102-050a-463a-bbb8-18ca4ab3700b",
   "metadata": {},
   "outputs": [],
   "source": [
    "def test(test_loader, model, epoch, args):\n",
    "\tmodel.eval()\n",
    "\twith torch.no_grad():\n",
    "\t\tloss_func = genLossFunc(args)\n",
    "\t\tloss, correct = 0, 0\n",
    "# \t\tfor batch_index, (image, label) in enumerate(tq(test_loader, desc='Test', leave=False)):\n",
    "\t\tfor batch_index, (image, label) in enumerate(test_loader):\n",
    "\t\t\timage, label = image.to(args.device), label.to(args.device)\n",
    "\t\t\tpred = model(image)\n",
    "\t\t\tloss += loss_func(pred, label).item()#*image.size(0)\n",
    "\t\t\tcorrect += (pred.argmax(1) == label).type(torch.int).sum().item()\n",
    "\tloss /= len(test_loader.dataset)\n",
    "\tcorrect_rate = 100 * correct / len(test_loader.dataset)\n",
    "\tprint(f'Accuracy: {correct}/{len(test_loader.dataset)} ({correct_rate:>.1f}%)')"
   ]
  },
  {
   "cell_type": "code",
   "execution_count": 14,
   "id": "a37298e4-2310-43d0-8990-500051f14cd3",
   "metadata": {},
   "outputs": [
    {
     "data": {
      "application/vnd.jupyter.widget-view+json": {
       "model_id": "",
       "version_major": 2,
       "version_minor": 0
      },
      "text/plain": [
       "Train:   0%|          | 0/938 [00:00<?, ?it/s]"
      ]
     },
     "metadata": {},
     "output_type": "display_data"
    },
    {
     "name": "stdout",
     "output_type": "stream",
     "text": [
      "Epoch 1  : Avg. Loss: 0.0079\tAccuracy: 9192/10000 (91.9%)\n"
     ]
    },
    {
     "data": {
      "application/vnd.jupyter.widget-view+json": {
       "model_id": "",
       "version_major": 2,
       "version_minor": 0
      },
      "text/plain": [
       "Train:   0%|          | 0/938 [00:00<?, ?it/s]"
      ]
     },
     "metadata": {},
     "output_type": "display_data"
    },
    {
     "name": "stdout",
     "output_type": "stream",
     "text": [
      "Epoch 2  : Avg. Loss: 0.0037\tAccuracy: 9371/10000 (93.7%)\n"
     ]
    },
    {
     "data": {
      "application/vnd.jupyter.widget-view+json": {
       "model_id": "",
       "version_major": 2,
       "version_minor": 0
      },
      "text/plain": [
       "Train:   0%|          | 0/938 [00:00<?, ?it/s]"
      ]
     },
     "metadata": {},
     "output_type": "display_data"
    },
    {
     "name": "stdout",
     "output_type": "stream",
     "text": [
      "Epoch 3  : Avg. Loss: 0.0030\tAccuracy: 9463/10000 (94.6%)\n"
     ]
    },
    {
     "data": {
      "application/vnd.jupyter.widget-view+json": {
       "model_id": "",
       "version_major": 2,
       "version_minor": 0
      },
      "text/plain": [
       "Train:   0%|          | 0/938 [00:00<?, ?it/s]"
      ]
     },
     "metadata": {},
     "output_type": "display_data"
    },
    {
     "name": "stdout",
     "output_type": "stream",
     "text": [
      "Epoch 4  : Avg. Loss: 0.0025\tAccuracy: 9501/10000 (95.0%)\n"
     ]
    },
    {
     "data": {
      "application/vnd.jupyter.widget-view+json": {
       "model_id": "",
       "version_major": 2,
       "version_minor": 0
      },
      "text/plain": [
       "Train:   0%|          | 0/938 [00:00<?, ?it/s]"
      ]
     },
     "metadata": {},
     "output_type": "display_data"
    },
    {
     "name": "stdout",
     "output_type": "stream",
     "text": [
      "Epoch 5  : Avg. Loss: 0.0022\tAccuracy: 9544/10000 (95.4%)\n"
     ]
    },
    {
     "data": {
      "application/vnd.jupyter.widget-view+json": {
       "model_id": "",
       "version_major": 2,
       "version_minor": 0
      },
      "text/plain": [
       "Train:   0%|          | 0/938 [00:00<?, ?it/s]"
      ]
     },
     "metadata": {},
     "output_type": "display_data"
    },
    {
     "name": "stdout",
     "output_type": "stream",
     "text": [
      "Epoch 6  : Avg. Loss: 0.0020\tAccuracy: 9562/10000 (95.6%)\n"
     ]
    },
    {
     "data": {
      "application/vnd.jupyter.widget-view+json": {
       "model_id": "",
       "version_major": 2,
       "version_minor": 0
      },
      "text/plain": [
       "Train:   0%|          | 0/938 [00:00<?, ?it/s]"
      ]
     },
     "metadata": {},
     "output_type": "display_data"
    },
    {
     "name": "stdout",
     "output_type": "stream",
     "text": [
      "Epoch 7  : Avg. Loss: 0.0018\tAccuracy: 9575/10000 (95.8%)\n"
     ]
    },
    {
     "data": {
      "application/vnd.jupyter.widget-view+json": {
       "model_id": "",
       "version_major": 2,
       "version_minor": 0
      },
      "text/plain": [
       "Train:   0%|          | 0/938 [00:00<?, ?it/s]"
      ]
     },
     "metadata": {},
     "output_type": "display_data"
    },
    {
     "name": "stdout",
     "output_type": "stream",
     "text": [
      "Epoch 8  : Avg. Loss: 0.0017\tAccuracy: 9584/10000 (95.8%)\n"
     ]
    },
    {
     "data": {
      "application/vnd.jupyter.widget-view+json": {
       "model_id": "",
       "version_major": 2,
       "version_minor": 0
      },
      "text/plain": [
       "Train:   0%|          | 0/938 [00:00<?, ?it/s]"
      ]
     },
     "metadata": {},
     "output_type": "display_data"
    },
    {
     "name": "stdout",
     "output_type": "stream",
     "text": [
      "Epoch 9  : Avg. Loss: 0.0016\tAccuracy: 9597/10000 (96.0%)\n"
     ]
    },
    {
     "data": {
      "application/vnd.jupyter.widget-view+json": {
       "model_id": "",
       "version_major": 2,
       "version_minor": 0
      },
      "text/plain": [
       "Train:   0%|          | 0/938 [00:00<?, ?it/s]"
      ]
     },
     "metadata": {},
     "output_type": "display_data"
    },
    {
     "name": "stdout",
     "output_type": "stream",
     "text": [
      "Epoch 10 : Avg. Loss: 0.0015\tAccuracy: 9610/10000 (96.1%)\n",
      "Done!\n"
     ]
    }
   ],
   "source": [
    "def main(model):\n",
    "\tfor epoch in range(args.epochs):\n",
    "\t\ttrain(train_loader, model, epoch, args)\n",
    "\t\ttest(test_loader, model, epoch, args)\n",
    "\tprint(\"Done!\")\n",
    "\treturn model\n",
    "\n",
    "model = main(MLP().to(args.device))"
   ]
  },
  {
   "cell_type": "code",
   "execution_count": 15,
   "id": "6e96bc23-f8ea-4b1a-a4ea-5615558658f3",
   "metadata": {},
   "outputs": [],
   "source": [
    "def model2fix(model, full_width=args.full_bits, frac_width=args.frac_bits):\n",
    "\tfor name, _ in model.named_parameters():\n",
    "\t\texec(f'model.{name}.data = flp2fixTensor(model.{name}.data, {full_width}, {frac_width})')\n",
    "\treturn model\n",
    "\n",
    "def in2fix(images, full_width=args.full_bits, frac_width=args.frac_bits):\n",
    "\tdim_images = images.size()\n",
    "\timages = images.view(-1)\n",
    "\tfor idx_image, image in enumerate(images):\n",
    "\t\ttemp_css = flp2fix(image, full_width, frac_width)\n",
    "\t\timages[idx_image] = torch.tensor(temp_css.fFull)\n",
    "\t\tdel temp_css\n",
    "\treturn images.view(dim_images)"
   ]
  },
  {
   "cell_type": "code",
   "execution_count": 16,
   "id": "ebfd12bd-736c-4f63-af51-25495477c998",
   "metadata": {},
   "outputs": [],
   "source": [
    "def quantFixForward(model, x, args):\n",
    "\tcmodel = copy.deepcopy(model).to(args.device)\n",
    "\twith torch.no_grad():\n",
    "\t\tx = cmodel.flatten(x)\n",
    "\t\tact0 = flp2fixTensor(x, args.full_bits, args.frac_bits)\n",
    "\t\t\n",
    "\t\tact1 = model.relu1(cmodel.fc1(act0))\n",
    "\t\tact1 = flp2fixTensor(act1, args.full_bits, args.frac_bits)\n",
    "\n",
    "\t\tact2 = cmodel.relu2(cmodel.fc2(act1))\n",
    "\t\tact2 = flp2fixTensor(act2, args.full_bits, args.frac_bits)\n",
    "\t\t\n",
    "\t\tact3 = cmodel.fc3(act2)\n",
    "\t\tact3 = flp2fixTensor(act3, args.full_bits, args.frac_bits)\n",
    "\treturn cmodel, act0, act1, act2, act3 "
   ]
  },
  {
   "cell_type": "code",
   "execution_count": 17,
   "id": "b3d35ae3-970e-4386-9e03-86690e48af4b",
   "metadata": {},
   "outputs": [],
   "source": [
    "def testQuant(model, test_loader, args):\n",
    "\tqmodel = copy.deepcopy(model).to(args.device)\n",
    "\tqmodel = model2fix(qmodel, args.full_bits, args.frac_bits)\n",
    "\tqmodel.eval()\n",
    "\n",
    "\twith torch.no_grad():\n",
    "\t\tloss_func = genLossFunc(args)\n",
    "\t\tloss, correct = 0, 0\n",
    "\t\tfor batch_index, (image, label) in enumerate(test_loader):\n",
    "\t\t\timage, label = image.to(args.device), label.to(args.device)\n",
    "\t\t\tqmodel, act0, act1, act2, act3  = quantFixForward(qmodel, image, args)\n",
    "\t\t\ty = act3\n",
    "\t\t\tloss += loss_func(y, label).item()#*image.size(0)\n",
    "\t\t\tcorrect += (y.argmax(1) == label).type(torch.int).sum().item()\n",
    "\tcorrect_rate = 100 * correct / len(test_loader.dataset)\n",
    "\tprint(f'Accuracy: {correct}/{len(test_loader.dataset)} ({correct_rate:>.1f}%) Loss: {loss/len(test_loader.dataset):.2f}')\n",
    "\treturn qmodel, act0, act1, act2, act3"
   ]
  },
  {
   "cell_type": "code",
   "execution_count": 18,
   "id": "cab11ff5-8eea-4928-85a9-b92145de83d7",
   "metadata": {},
   "outputs": [
    {
     "name": "stdout",
     "output_type": "stream",
     "text": [
      "Accuracy: 9597/10000 (96.0%) Loss: 0.00\n"
     ]
    }
   ],
   "source": [
    "qmodel, act0, act1, act2, act3 = testQuant(model, test_loader, args)"
   ]
  },
  {
   "cell_type": "code",
   "execution_count": 19,
   "id": "3992d273-b6c9-49a8-9951-603cc33e2f17",
   "metadata": {},
   "outputs": [
    {
     "data": {
      "text/plain": [
       "tensor([[ 0.00000000,  6.93750000,  0.00000000,  1.50000000,  0.00000000,  2.37500000,  5.93750000,  0.00000000,  2.31250000,  0.00000000,  3.87500000,  1.00000000,  2.62500000,  3.12500000,  0.00000000,  1.12500000,  0.00000000,  1.00000000,  0.00000000,  4.43750000,  2.43750000,  1.00000000,  2.93750000,  0.81250000,  1.75000000,  4.31250000,  2.43750000,  4.25000000,  4.31250000,  2.06250000,  0.00000000,  0.00000000],\n",
       "        [ 0.00000000,  4.62500000,  0.00000000,  0.68750000,  0.31250000,  0.00000000,  0.00000000,  4.75000000,  0.00000000,  4.56250000,  7.06250000,  5.50000000,  0.00000000,  5.00000000,  3.18750000,  0.00000000,  1.50000000,  3.43750000,  0.00000000,  2.50000000,  6.18750000,  0.00000000,  8.25000000,  0.00000000,  3.56250000,  5.50000000,  6.12500000,  2.12500000,  0.00000000,  5.75000000,  0.43750000,  0.00000000],\n",
       "        [ 0.00000000, 11.06250000,  0.00000000,  4.18750000,  0.00000000,  0.00000000,  2.31250000,  1.75000000,  2.93750000,  2.43750000,  6.87500000,  3.75000000,  0.00000000,  5.25000000,  3.12500000,  0.18750000,  3.62500000,  4.25000000,  0.00000000,  3.87500000,  2.87500000,  0.00000000,  5.12500000,  4.81250000,  4.25000000,  4.31250000,  2.18750000,  1.81250000,  0.00000000,  4.37500000,  0.00000000,  1.56250000],\n",
       "        [ 0.00000000,  4.31250000,  3.87500000,  0.00000000,  0.18750000,  3.87500000,  0.00000000,  0.00000000,  3.25000000,  2.81250000,  0.12500000,  2.37500000,  0.00000000,  4.87500000,  0.25000000,  6.62500000,  0.00000000,  0.37500000,  6.37500000,  2.81250000,  0.00000000,  3.43750000,  0.00000000,  0.00000000,  6.68750000,  3.81250000,  3.18750000,  0.87500000,  0.00000000,  3.75000000,  4.31250000,  1.93750000],\n",
       "        [ 0.00000000,  8.62500000,  5.18750000,  6.12500000,  0.00000000,  0.00000000,  0.00000000,  2.68750000,  1.06250000,  8.37500000,  0.00000000,  6.50000000,  2.81250000,  3.56250000,  6.87500000,  3.68750000,  0.00000000,  0.87500000,  5.50000000,  8.00000000,  0.00000000,  2.31250000,  2.18750000,  5.87500000,  7.50000000,  1.81250000,  0.00000000,  0.00000000,  5.68750000,  2.62500000,  0.00000000,  1.18750000],\n",
       "        [ 0.00000000, 10.00000000, 10.93750000,  0.00000000,  2.62500000,  2.75000000,  0.00000000,  0.00000000,  3.93750000,  0.00000000,  0.00000000,  6.18750000,  0.06250000,  1.25000000,  0.00000000,  0.00000000,  0.00000000,  0.06250000,  0.00000000,  5.43750000,  0.00000000,  6.12500000,  0.00000000,  0.87500000,  0.00000000, 11.31250000,  0.75000000,  4.93750000,  0.00000000,  3.12500000,  3.18750000,  2.81250000],\n",
       "        [ 0.00000000,  3.68750000,  0.00000000,  0.00000000,  2.25000000,  1.43750000,  3.87500000,  1.50000000,  0.75000000,  6.62500000,  5.93750000,  2.81250000,  0.00000000,  7.31250000,  2.18750000,  4.43750000,  0.62500000,  4.43750000,  1.75000000,  5.12500000,  6.37500000,  0.00000000,  4.62500000,  1.00000000,  4.06250000,  1.18750000,  5.31250000,  0.18750000,  0.00000000,  6.00000000,  0.00000000,  0.00000000],\n",
       "        [ 0.00000000, 12.62500000,  3.43750000,  2.50000000,  1.56250000,  0.00000000,  0.00000000,  3.81250000,  5.06250000,  3.81250000,  3.50000000,  5.93750000,  3.93750000,  7.31250000,  1.00000000,  3.81250000,  0.00000000,  2.25000000,  2.56250000, 10.87500000,  2.75000000,  0.81250000,  1.00000000,  3.25000000,  2.56250000,  6.00000000,  0.00000000,  0.00000000,  0.00000000,  6.87500000,  0.00000000,  0.62500000],\n",
       "        [ 0.00000000,  4.06250000,  6.06250000,  0.00000000,  2.18750000,  2.37500000,  0.00000000,  0.00000000,  0.81250000,  4.12500000,  0.00000000,  1.00000000,  5.00000000,  7.37500000,  0.81250000, 10.62500000,  0.00000000,  0.00000000,  6.31250000,  4.68750000,  0.18750000,  2.68750000,  0.00000000,  0.00000000,  1.87500000,  5.31250000,  3.50000000,  0.00000000,  0.00000000,  6.31250000,  5.62500000,  5.37500000],\n",
       "        [ 0.00000000, 12.93750000, 13.93750000,  0.00000000,  8.75000000,  0.00000000,  0.00000000,  0.00000000,  2.37500000,  8.00000000,  0.00000000,  7.12500000,  5.81250000,  2.06250000,  4.75000000,  0.25000000,  0.00000000,  0.00000000,  7.62500000,  9.93750000,  0.00000000,  0.00000000,  0.00000000,  0.00000000,  2.62500000,  4.12500000,  0.00000000,  0.00000000,  0.00000000,  2.18750000,  0.00000000,  6.93750000],\n",
       "        [ 0.00000000,  7.56250000,  2.00000000,  0.56250000,  0.00000000,  0.00000000,  3.37500000,  0.00000000,  4.00000000,  0.00000000,  2.12500000,  2.62500000,  2.00000000,  1.31250000,  0.00000000,  0.00000000,  0.00000000,  3.75000000,  0.00000000,  4.25000000,  1.75000000,  1.12500000,  2.75000000,  0.68750000,  2.00000000,  4.50000000,  2.31250000,  3.12500000,  6.75000000,  0.37500000,  0.00000000,  0.00000000],\n",
       "        [ 0.00000000,  4.93750000,  1.87500000,  0.68750000,  0.00000000,  0.00000000,  0.00000000,  4.50000000,  0.00000000,  3.62500000,  7.62500000,  7.37500000,  2.93750000,  2.18750000,  2.06250000,  0.00000000,  0.56250000,  0.75000000,  0.00000000,  3.56250000,  8.37500000,  0.00000000,  9.25000000,  0.00000000,  3.37500000,  8.62500000,  3.81250000,  1.50000000,  0.00000000,  4.43750000,  1.93750000,  0.00000000],\n",
       "        [ 0.00000000,  8.43750000,  0.00000000,  5.62500000,  5.43750000,  0.00000000,  5.00000000,  0.00000000,  0.00000000,  3.87500000,  5.12500000,  4.75000000,  0.00000000,  3.00000000,  3.00000000,  0.00000000,  2.62500000,  0.00000000,  0.00000000,  4.06250000,  1.81250000,  1.31250000,  1.87500000,  4.50000000,  0.00000000,  5.93750000,  0.31250000,  2.50000000,  0.00000000,  4.50000000,  0.00000000,  0.00000000],\n",
       "        [ 0.00000000,  4.25000000,  2.18750000,  0.00000000,  2.62500000,  4.06250000,  0.00000000,  0.00000000,  3.93750000,  5.06250000,  1.00000000,  3.87500000,  0.00000000,  5.68750000,  0.00000000,  5.43750000,  0.00000000,  2.62500000,  4.56250000,  3.31250000,  0.00000000,  3.68750000,  0.81250000,  0.81250000,  7.31250000,  3.56250000,  5.37500000,  1.50000000,  1.68750000,  4.25000000,  3.00000000,  0.00000000],\n",
       "        [ 0.00000000,  8.06250000,  3.81250000,  3.93750000,  5.12500000,  0.43750000,  0.00000000,  1.68750000,  1.18750000,  7.00000000,  0.18750000,  5.93750000,  0.00000000,  0.75000000,  1.06250000,  1.18750000,  0.00000000,  1.56250000,  5.25000000,  7.31250000,  0.00000000,  1.31250000,  2.06250000,  6.18750000,  4.68750000,  1.93750000,  0.00000000,  2.50000000,  5.93750000,  2.75000000,  0.00000000,  0.00000000],\n",
       "        [ 0.00000000,  7.68750000, 10.93750000,  0.00000000,  8.12500000,  0.87500000,  0.00000000,  0.00000000,  0.00000000,  2.31250000,  0.00000000,  6.06250000,  0.00000000,  0.00000000,  4.06250000,  0.00000000,  0.00000000,  0.00000000,  0.31250000,  2.37500000,  0.00000000,  4.93750000,  0.00000000,  0.00000000,  0.00000000, 11.31250000,  2.00000000,  7.31250000,  0.00000000,  4.62500000,  5.12500000,  5.12500000]])"
      ]
     },
     "execution_count": 19,
     "metadata": {},
     "output_type": "execute_result"
    }
   ],
   "source": [
    "act1"
   ]
  },
  {
   "cell_type": "code",
   "execution_count": null,
   "id": "56b718f0-bb86-49af-8f3e-adb23b3d848a",
   "metadata": {},
   "outputs": [],
   "source": []
  }
 ],
 "metadata": {
  "kernelspec": {
   "display_name": "Python 3",
   "language": "python",
   "name": "python3"
  },
  "language_info": {
   "codemirror_mode": {
    "name": "ipython",
    "version": 3
   },
   "file_extension": ".py",
   "mimetype": "text/x-python",
   "name": "python",
   "nbconvert_exporter": "python",
   "pygments_lexer": "ipython3",
   "version": "3.8.10"
  }
 },
 "nbformat": 4,
 "nbformat_minor": 5
}
