{
 "cells": [
  {
   "cell_type": "code",
   "execution_count": 3,
   "id": "3fbc3276-8cd4-4af3-9d2e-41fa5d160c37",
   "metadata": {},
   "outputs": [],
   "source": [
    "#! /usr/local/python3.8.6/bin/python3\n",
    "\n",
    "import\tos, sys, re, csv, json\n",
    "import\targparse\n",
    "import time"
   ]
  },
  {
   "cell_type": "code",
   "execution_count": null,
   "id": "aac4c1ec-fd39-433f-8f08-9ea8ff69a9dd",
   "metadata": {},
   "outputs": [],
   "source": [
    "# ----------------------------------------------------------------------\n",
    "#\tColors\n",
    "# ----------------------------------------------------------------------\n",
    "BLACK\t= '\\033[30m'\n",
    "RED\t\t= '\\033[31m'\n",
    "GREEN\t= '\\033[32m'\n",
    "YELLOW\t= '\\033[33m'\n",
    "BLUE\t= '\\033[34m'\n",
    "MAGENTA\t= '\\033[35m'\n",
    "CYAN\t= '\\033[36m'\n",
    "RESET\t= '\\033[0m'\n",
    "SEL\t\t= '\\033[7m'"
   ]
  },
  {
   "cell_type": "code",
   "execution_count": 14,
   "id": "9970fb76-fee8-4c59-957e-662b45353691",
   "metadata": {},
   "outputs": [],
   "source": [
    "# ----------------------------------------------------------------------\n",
    "#\tSimulation Configuration (Don't touch below)\n",
    "# ----------------------------------------------------------------------\n",
    "srcList\t\t\t= ['0_scrit.sp', '1_perturb_vec.sp', '2_acadm.sp', '3_dcadm.sp', '4_slopes.sp']\n",
    "varRegExpr\t\t= r'(?P<key>{\\S+})'\n",
    "#srcRegExpr\t\t= r'{(?P<key>\\S+):(?P<value>\\S+)}'"
   ]
  },
  {
   "cell_type": "code",
   "execution_count": 11,
   "id": "340ea5b5-7713-46c9-a771-a09f7e815ffc",
   "metadata": {},
   "outputs": [
    {
     "name": "stdout",
     "output_type": "stream",
     "text": [
      "1.1<class 'float'>\n",
      "2.0<class 'float'>\n",
      "3<class 'str'>\n",
      "4<class 'str'>\n"
     ]
    }
   ],
   "source": [
    "for i in [1.1, 2., '3', '4']:\n",
    "\tprint(i, end = '')\n",
    "\tprint(type(i))"
   ]
  },
  {
   "cell_type": "code",
   "execution_count": 12,
   "id": "835d3077-1bc5-406b-b8cc-61ec2d2e9a9a",
   "metadata": {},
   "outputs": [],
   "source": [
    "# ----------------------------------------------------------------------\n",
    "#\tUser Configuration\n",
    "# ----------------------------------------------------------------------\n",
    "srcPath\t\t\t= './src'\n",
    "simPath\t\t\t= './sim'\n",
    "\n",
    "dvtList\t\t\t= ['dvt_pul', 'dvt_pur', 'dvt_pgl', 'dvt_pgr', 'dvt_pdl', 'dvt_pdr']\n",
    "\n",
    "# Please refer to the absolute path\n",
    "simLibFile\t\t= '/setup/PDK/S28LPP_2107/FullCustom/LN28LPP_HSPICE_S00-V2.0.1.2/HSPICE/LN28LPP_Hspice.lib'\n",
    "simNetFile\t\t= '/home/woong/test/netlist'\n",
    "\n",
    "simPvtP\t\t\t= 'NN'\n",
    "simPvtV\t\t\t= '0.9'\n",
    "simPvtT\t\t\t= '25'\n",
    "simVtSigPU \t\t= '0.035'\n",
    "simVtSigPG \t\t= '0.035'\n",
    "simVtSigPD \t\t= '0.035'\n",
    "simAstVBS\t\t= '1.0'\n",
    "simAstWLU\t\t= '1.0'\n",
    "simAstSBL\t\t= '1.0'\n",
    "simVecRatio\t\t= '0.8'\n",
    "simFO4DLY\t\t= '0.01n'\n",
    "simAstTotal\t\t= '10'\n",
    "simAstValid\t\t= '4'\n",
    "simBlCap\t\t= '15'\n",
    "simOptRange\t\t= '10'"
   ]
  },
  {
   "cell_type": "code",
   "execution_count": 15,
   "id": "ab044e6f-6d85-4e8f-afff-80e245da9c9b",
   "metadata": {},
   "outputs": [
    {
     "data": {
      "text/plain": [
       "_StoreAction(option_strings=['--sim_optrange'], dest='sim_optrange', nargs=None, const=None, default='10', type=<class 'str'>, choices=None, help='ADM Sigma Range', metavar=None)"
      ]
     },
     "execution_count": 15,
     "metadata": {},
     "output_type": "execute_result"
    }
   ],
   "source": [
    "# ----------------------------------------------------------------------\n",
    "#\tParser\t\n",
    "# ----------------------------------------------------------------------\n",
    "parser = argparse.ArgumentParser(description='ADM/WRM simulator')\n",
    "\n",
    "parser.add_argument('--check',\t\t\taction='store_true',\t\t\t\t\t\t\thelp='Check the simulation is runnable')\n",
    "parser.add_argument('--dvt',\t\t\ttype=list,\t\t\t\tdefault=dvtList,\t\thelp='Delta Vth variables')\n",
    "parser.add_argument('--src_list',\t\ttype=list,\t\t\t\tdefault=srcList,\t\thelp='Spice Source File List')\n",
    "parser.add_argument('--src_path',\t\ttype=str,\t\t\t\tdefault=srcPath,\t\thelp='Spice Source File Path')\n",
    "parser.add_argument('--var_regexpr',\ttype=str,\t\t\t\tdefault=varRegExpr,\t\thelp='Regular Expression for Variables in Spice Source File')\n",
    "parser.add_argument('--sim_lib',\t\ttype=str,\t\t\t\tdefault=simLibFile,\t\thelp='SPICE library file')\n",
    "parser.add_argument('--sim_net',\t\ttype=str,\t\t\t\tdefault=simNetFile,\t\thelp='SPICE netlist file')\n",
    "parser.add_argument('--sim_path',\t\ttype=str,\t\t\t\tdefault=simPath,\t\thelp='Spice Run Path')\n",
    "parser.add_argument('--sim_pvt_p',\t\ttype=str,\t\t\t\tdefault=simPvtP,\t\thelp='Process Corner', choices=['SS', 'NN', 'FF', 'SF', 'FS'])\n",
    "parser.add_argument('--sim_pvt_v',\t\ttype=str,\t\t\t\tdefault=simPvtV,\t\thelp='Supply Voltage')\n",
    "parser.add_argument('--sim_pvt_t',\t\ttype=str,\t\t\t\tdefault=simPvtT,\t\thelp='Temperatur')\n",
    "parser.add_argument('--sim_vtsig_pu',\ttype=str,\t\t\t\tdefault=simVtSigPU,\t\thelp='One sigma value of the pull-up\tPMOS VTH variation')\n",
    "parser.add_argument('--sim_vtsig_pg',\ttype=str,\t\t\t\tdefault=simVtSigPG,\t\thelp='One sigma value of the access \tNMOS VTH variation')\n",
    "parser.add_argument('--sim_vtsig_pd',\ttype=str,\t\t\t\tdefault=simVtSigPD,\t\thelp='One sigma value of the pull-down\tNMOS VTH variation')\n",
    "parser.add_argument('--sim_ast_vbs',\ttype=str,\t\t\t\tdefault=simAstVBS,\t\thelp='Read Assist: VDD Boosting')\n",
    "parser.add_argument('--sim_ast_wlu',\ttype=str,\t\t\t\tdefault=simAstWLU,\t\thelp='Read Assist: WL Under Drive')\n",
    "parser.add_argument('--sim_ast_sbl',\ttype=str,\t\t\t\tdefault=simAstSBL,\t\thelp='Read Assist: Suppressed BL')\n",
    "parser.add_argument('--sim_ast_total',\ttype=str,\t\t\t\tdefault=simAstTotal,\thelp='SRAM Assist: Total Pulse-Width')\n",
    "parser.add_argument('--sim_ast_valid',\ttype=str,\t\t\t\tdefault=simAstValid,\thelp='SRAM Assist: Assist Pulse-Width')\n",
    "parser.add_argument('--sim_vec_ratio',\ttype=str,\t\t\t\tdefault=simVecRatio,\thelp='Most Probable Vector Ratio corresponding to the Natural Vector')\n",
    "parser.add_argument('--sim_fo4dly',\t\ttype=str,\t\t\t\tdefault=simFO4DLY,\t\thelp='FO4 Delay')\n",
    "parser.add_argument('--sim_blcap',\t\ttype=str,\t\t\t\tdefault=simBlCap,\t\thelp='BL Capacitance')\n",
    "parser.add_argument('--sim_optrange',\ttype=str,\t\t\t\tdefault=simOptRange,\thelp='ADM Sigma Range')"
   ]
  },
  {
   "cell_type": "code",
   "execution_count": 17,
   "id": "a35c798c-d32a-49c1-8dd0-1469448a6ce9",
   "metadata": {},
   "outputs": [],
   "source": [
    "args = parser.parse_args(args=[])"
   ]
  },
  {
   "cell_type": "code",
   "execution_count": 22,
   "id": "aafee8e8-d2ad-480b-a105-1a30b2a05471",
   "metadata": {},
   "outputs": [],
   "source": [
    "fh = open('woong', 'w')"
   ]
  },
  {
   "cell_type": "code",
   "execution_count": 24,
   "id": "c269139e-d7ff-4655-8379-075a62bddf42",
   "metadata": {},
   "outputs": [],
   "source": [
    "fh.write('test')\n",
    "fh.close()"
   ]
  },
  {
   "cell_type": "code",
   "execution_count": 26,
   "id": "4361f0c2-1ec4-4c7f-aa65-037b03b9bb41",
   "metadata": {},
   "outputs": [],
   "source": [
    "fileName = 'vlsisys.txt'"
   ]
  },
  {
   "cell_type": "code",
   "execution_count": 31,
   "id": "859bc57f-b370-49fe-b423-95f0224ec6e5",
   "metadata": {},
   "outputs": [],
   "source": [
    "with open(fileName, 'w') as fh:\n",
    "\tfor i in range(100):\n",
    "\t\tfh.write(str(i)+'\\n')"
   ]
  },
  {
   "cell_type": "code",
   "execution_count": 35,
   "id": "ba13271b-dc04-49bd-971a-a3cd1fd71d3a",
   "metadata": {},
   "outputs": [
    {
     "name": "stdout",
     "output_type": "stream",
     "text": [
      "99\n",
      "\n"
     ]
    }
   ],
   "source": [
    "with open(fileName, 'r') as fh:\n",
    "\tlines = fh.readlines()\n",
    "\tfor line in lines:\n",
    "\t\tif '99' in line:\n",
    "\t\t\tprint(line)"
   ]
  },
  {
   "cell_type": "code",
   "execution_count": 42,
   "id": "5e5a6b0b-28a6-4bee-87dd-1997532c73a0",
   "metadata": {},
   "outputs": [
    {
     "name": "stdout",
     "output_type": "stream",
     "text": [
      "3!4!1!2!"
     ]
    }
   ],
   "source": [
    "for x in ['3', '4', '1', '2']:\n",
    "\tprint(x, end='!')"
   ]
  },
  {
   "cell_type": "code",
   "execution_count": 45,
   "id": "fbb09a27-a167-4261-867d-1cbfac2f423c",
   "metadata": {},
   "outputs": [
    {
     "data": {
      "text/plain": [
       "0"
      ]
     },
     "execution_count": 45,
     "metadata": {},
     "output_type": "execute_result"
    }
   ],
   "source": [
    "os.system(f'gvim -p {args.sim_net}')"
   ]
  },
  {
   "cell_type": "code",
   "execution_count": null,
   "id": "272418ad-c665-4b15-b4a3-3adc08ca9dee",
   "metadata": {},
   "outputs": [],
   "source": [
    "# ----------------------------------------------------------------------\n",
    "#\tFunctions\n",
    "# ----------------------------------------------------------------------\n",
    "def\tcheckNetlist(args):\n",
    "\tprint(CYAN, end='')\n",
    "\tprint(f'======================================================================')\n",
    "\tprint(f' Netlist Check')\n",
    "\tprint(f'======================================================================')\n",
    "\tprint(RESET, end='')\n",
    "\terr_flag = False\n",
    "\twith open(args.sim_net, 'r') as f:\n",
    "\t\tctx = f.read()\n",
    "\t\tfor dvt_param in args.dvt:\n",
    "\t\t\tif dvt_param not in ctx:\n",
    "\t\t\t\tprint(f' - [DVT Parameter] \"{dvt_param}\" is not included in the netlist file')\n",
    "\t\t\t\terr_flag = True\n",
    "\t\tfor param in ['vdd', 'wl', 'q', 'qb', 'blt', 'blb']:\n",
    "\t\t\tif param not in ctx:\n",
    "\t\t\t\tprint(f' - [Net] \"{param}\" is not specified in the netlist file')\n",
    "\t\t\t\terr_flag = True\n",
    "\tif err_flag:\n",
    "\t\tos.system(f'gvim -p {args.net}')"
   ]
  },
  {
   "cell_type": "code",
   "execution_count": 46,
   "id": "2cdae25f-de57-485a-9d49-272c48557e0b",
   "metadata": {},
   "outputs": [],
   "source": [
    "def\tgetFileList(path, end_sw=''):\n",
    "\tfile_list = sorted( os.listdir(path) )\n",
    "\treturn [file for file in file_list if file.endswith(end_sw)]"
   ]
  },
  {
   "cell_type": "code",
   "execution_count": 52,
   "id": "bc5530ee-fd11-4841-a751-c6e804865ce5",
   "metadata": {},
   "outputs": [],
   "source": [
    "def\tgetFileVariable(infile, args):\n",
    "\twith open(infile, 'r') as fh:\n",
    "\t\tctx\t\t\t= fh.read()\n",
    "\t\tfile_vars\t= re.findall(args.var_regexpr, ctx)\n",
    "\treturn file_vars"
   ]
  },
  {
   "cell_type": "code",
   "execution_count": 53,
   "id": "f5fd2bd1-7c84-49f8-a855-bbeddc0e584b",
   "metadata": {},
   "outputs": [
    {
     "data": {
      "text/plain": [
       "['{SIM_LIB}',\n",
       " '{SIM_PVT_P}',\n",
       " '{SIM_PVT_V}',\n",
       " '{SIM_PVT_T}',\n",
       " '{SIM_NET}',\n",
       " '{SIM_VTSIG_PU}',\n",
       " '{SIM_VTSIG_PU}',\n",
       " '{SIM_VTSIG_PU}',\n",
       " '{SIM_AST_VBS}',\n",
       " '{SIM_AST_WLU}',\n",
       " '{SIM_AST_SBL}']"
      ]
     },
     "execution_count": 53,
     "metadata": {},
     "output_type": "execute_result"
    }
   ],
   "source": [
    "getFileVariable('./src/0_scrit.sp', args)"
   ]
  },
  {
   "cell_type": "code",
   "execution_count": 54,
   "id": "3fe23d02-746f-4904-992f-c57ba2381c8f",
   "metadata": {},
   "outputs": [],
   "source": [
    "def\tgenSpiceFile(infile, outfile, simDict):\n",
    "\twith open(infile, 'r') as fh:\n",
    "\t\tctx\t\t\t= fh.read()\n",
    "\t\tfor key in simDict.keys():\n",
    "\t\t\tctx = ctx.replace('{' + key + '}', simDict[key])\n",
    "\twith open(outfile, 'w') as fh:\n",
    "\t\tfh.write(ctx)"
   ]
  },
  {
   "cell_type": "code",
   "execution_count": 69,
   "id": "e40ac9b3-0f68-4de5-a73b-090e79c44bc2",
   "metadata": {},
   "outputs": [],
   "source": [
    "a = 'vlsisys'"
   ]
  },
  {
   "cell_type": "code",
   "execution_count": 70,
   "id": "d6a1b234-20d4-48dc-baf2-200e3031d13e",
   "metadata": {},
   "outputs": [
    {
     "data": {
      "text/plain": [
       "'vlsisystem'"
      ]
     },
     "execution_count": 70,
     "metadata": {},
     "output_type": "execute_result"
    }
   ],
   "source": [
    "a.replace('sys', 'system')"
   ]
  },
  {
   "cell_type": "code",
   "execution_count": 71,
   "id": "4e71c6a2-39e3-4c2d-8d37-01d37ee8aa58",
   "metadata": {},
   "outputs": [
    {
     "data": {
      "text/plain": [
       "'vlsisys'"
      ]
     },
     "execution_count": 71,
     "metadata": {},
     "output_type": "execute_result"
    }
   ],
   "source": [
    "a"
   ]
  },
  {
   "cell_type": "code",
   "execution_count": 67,
   "id": "f49ee68e-a619-4086-986c-ecafd59560b0",
   "metadata": {},
   "outputs": [
    {
     "data": {
      "text/plain": [
       "'test'"
      ]
     },
     "execution_count": 67,
     "metadata": {},
     "output_type": "execute_result"
    }
   ],
   "source": [
    "simDict['SIM_LIB']"
   ]
  },
  {
   "cell_type": "code",
   "execution_count": 66,
   "id": "4e3db217-0a4a-4979-9021-eaa13191cde0",
   "metadata": {},
   "outputs": [],
   "source": [
    "simDict['SIM_LIB'] = 'test'"
   ]
  },
  {
   "cell_type": "code",
   "execution_count": 68,
   "id": "a3565751-5492-4794-83d3-51ffd7b12b9a",
   "metadata": {},
   "outputs": [],
   "source": [
    "genSpiceFile('./src/0_scrit.sp', './outputFromJupyter', simDict)"
   ]
  },
  {
   "cell_type": "code",
   "execution_count": 75,
   "id": "751c01ad-2da2-48fc-b1b1-1a9c8099a36a",
   "metadata": {},
   "outputs": [
    {
     "name": "stdout",
     "output_type": "stream",
     "text": [
      "ddddvlsisysd\n"
     ]
    }
   ],
   "source": [
    "print(f'dddd{a}d')"
   ]
  },
  {
   "cell_type": "code",
   "execution_count": null,
   "id": "f7d2fe92-2abb-4bb3-94b5-dd85a643079a",
   "metadata": {},
   "outputs": [],
   "source": []
  },
  {
   "cell_type": "code",
   "execution_count": 76,
   "id": "eac14eaa-1dd2-4548-b19f-943a8e45af32",
   "metadata": {},
   "outputs": [],
   "source": [
    "a = 'a,b,c'"
   ]
  },
  {
   "cell_type": "code",
   "execution_count": 78,
   "id": "c89a1c01-2872-4b89-a210-a59080bfff1d",
   "metadata": {},
   "outputs": [
    {
     "data": {
      "text/plain": [
       "['a,b,', '']"
      ]
     },
     "execution_count": 78,
     "metadata": {},
     "output_type": "execute_result"
    }
   ],
   "source": [
    "a.split('c')"
   ]
  },
  {
   "cell_type": "code",
   "execution_count": null,
   "id": "5f214eae-3c54-4626-8c9a-952d48e00543",
   "metadata": {},
   "outputs": [],
   "source": [
    "def\trunSpiceFile(infile, args):\n",
    "\tos.system(f'hspice64 -i {infile} -o {args.sim_path} > /dev/null 2>&1')"
   ]
  },
  {
   "cell_type": "code",
   "execution_count": 79,
   "id": "6afe0f6d-b40c-4ccc-9ef2-a785aeae2f86",
   "metadata": {},
   "outputs": [],
   "source": [
    "def\tgenDictFromMeas(infile):\n",
    "\tvalue_flag = 0\n",
    "\twith open(infile, 'r') as fh:\n",
    "\t\tlines = fh.read().splitlines()\n",
    "\tkeys\t= lines[-2].split(',')\n",
    "\tvalues\t= lines[-1].split(',')\n",
    "\treturn dict(zip(keys, values))"
   ]
  },
  {
   "cell_type": "code",
   "execution_count": 85,
   "id": "7ad97949-9292-42ab-af36-72b7001ee68b",
   "metadata": {},
   "outputs": [],
   "source": [
    "returnedDict = genDictFromMeas('./0_scrit')"
   ]
  },
  {
   "cell_type": "code",
   "execution_count": 86,
   "id": "1f3cf1e4-067c-45c2-a40a-f4dd4e1d638b",
   "metadata": {},
   "outputs": [
    {
     "data": {
      "text/plain": [
       "{'index': '1',\n",
       " 'sigval': '   5.311808',\n",
       " 'icrit': ' 1.52119e-16',\n",
       " 'vflip': '   0.263571',\n",
       " 'v0': '   0.187000',\n",
       " 'vtrip': '   0.263571',\n",
       " 'temper': '  25.000000',\n",
       " 'alter#': '1'}"
      ]
     },
     "execution_count": 86,
     "metadata": {},
     "output_type": "execute_result"
    }
   ],
   "source": [
    "returnedDict"
   ]
  },
  {
   "cell_type": "code",
   "execution_count": null,
   "id": "9619df94-c851-4f84-99b0-7f692035f622",
   "metadata": {},
   "outputs": [],
   "source": [
    "class\tcssADM:\n",
    "\tdef\t__init__(self, args):\n",
    "\t\tself.srcFiles\t= getFileList(args.src_path)\n",
    "\t\tself.simDict\t= {}\n",
    "\t\tfor arg in dir(args):\n",
    "\t\t\tif 'sim' in arg:\n",
    "\t\t\t\tself.simDict[arg.upper()] = eval(f'args.{arg}')\n",
    "\tdef STEP1(self, args):\n",
    "\t\tprint(RED, end='')\n",
    "\t\tprint('======================================================================')\n",
    "\t\tprint(' Step 1: Find SCRIT')\n",
    "\t\tprint('======================================================================')\n",
    "\t\tprint(RESET, end='')\n",
    "\t\tsrcFile = args.src_path + '/' + self.srcFiles[0]\n",
    "\t\trunFile = args.sim_path + '/' + self.srcFiles[0]\n",
    "\t\tgenSpiceFile(srcFile, runFile, self.simDict)\n",
    "\t\trunSpiceFile(runFile, args)\n",
    "\t\tstep1Dict = genDictFromMeas(args.sim_path + '/0_scrit.ms0.csv')\n",
    "\t\tself.simDict['SIM_SCRIT'] = step1Dict['sigval']\n",
    "\t\tprint(f' - SCRIT: {step1Dict[\"sigval\"]}')\n",
    "\t\treturn\tstep1Dict['sigval']\n",
    "\n",
    "\tdef STEP2(self, args):\n",
    "\t\tprint(RED, end='')\n",
    "\t\tprint('======================================================================')\n",
    "\t\tprint(' Step 2: Build Hybrid Perturbation Vector')\n",
    "\t\tprint('======================================================================')\n",
    "\t\tprint(RESET, end='')\n",
    "\t\tsrcFile = args.src_path + '/' + self.srcFiles[1]\n",
    "\t\trunFile = args.sim_path + '/' + self.srcFiles[1]\n",
    "\t\tgenSpiceFile(srcFile, runFile, self.simDict)\n",
    "\t\trunSpiceFile(runFile, args)\n",
    "\t\tstep2Dict = genDictFromMeas(args.sim_path + '/1_perturb_vec.ms6.csv')\n",
    "\t\tself.simDict['SIM_HVEC_PUL'] = step2Dict['vechybrid_pul']\n",
    "\t\tself.simDict['SIM_HVEC_PUR'] = step2Dict['vechybrid_pur']\n",
    "\t\tself.simDict['SIM_HVEC_PGL'] = step2Dict['vechybrid_pgl']\n",
    "\t\tself.simDict['SIM_HVEC_PGR'] = step2Dict['vechybrid_pgr']\n",
    "\t\tself.simDict['SIM_HVEC_PDL'] = step2Dict['vechybrid_pdl']\n",
    "\t\tself.simDict['SIM_HVEC_PDR'] = step2Dict['vechybrid_pdr']\n",
    "\t\tprint(f' - HVEC_PUL: {step2Dict[\"vechybrid_pul\"]}')\n",
    "\t\tprint(f' - HVEC_PUR: {step2Dict[\"vechybrid_pur\"]}')\n",
    "\t\tprint(f' - HVEC_PGL: {step2Dict[\"vechybrid_pgl\"]}')\n",
    "\t\tprint(f' - HVEC_PGR: {step2Dict[\"vechybrid_pgr\"]}')\n",
    "\t\tprint(f' - HVEC_PDL: {step2Dict[\"vechybrid_pdl\"]}')\n",
    "\t\tprint(f' - HVEC_PDR: {step2Dict[\"vechybrid_pdr\"]}')\n",
    "\t\n",
    "\tdef STEP3(self, args):\n",
    "\t\tprint(RED, end='')\n",
    "\t\tprint('======================================================================')\n",
    "\t\tprint(' Step 3: Simulate acADM')\n",
    "\t\tprint('======================================================================')\n",
    "\t\tprint(RESET, end='')\n",
    "\t\tsrcFile = args.src_path + '/' + self.srcFiles[2]\n",
    "\t\trunFile = args.sim_path + '/' + self.srcFiles[2]\n",
    "\t\tgenSpiceFile(srcFile, runFile, self.simDict)\n",
    "\t\trunSpiceFile(runFile, args)\n",
    "\t\tstep3Dict = genDictFromMeas(args.sim_path + '/2_acadm.mt0.csv')\n",
    "\t\tprint(f' - acADM: {step3Dict[\"acadm\"]}')\n",
    "\t\treturn\tstep3Dict['acadm']\n",
    "\n",
    "\n",
    "# ----------------------------------------------------------------------\n",
    "#\tMain\n",
    "# ----------------------------------------------------------------------\n",
    "def main():\n",
    "\targs = parser.parse_args()\n",
    "\tif args.check:\n",
    "\t\tcheckNetlist(args)\n",
    "\t\n",
    "\tADM = cssADM(args)\n",
    "\tscrit\t= ADM.STEP1(args)\n",
    "\tADM.STEP2(args)\n",
    "\tacadm\t= ADM.STEP3(args)\n",
    "\n",
    "if __name__ == '__main__':\n",
    "\tmain()"
   ]
  }
 ],
 "metadata": {
  "kernelspec": {
   "display_name": "Python 3",
   "language": "python",
   "name": "python3"
  },
  "language_info": {
   "codemirror_mode": {
    "name": "ipython",
    "version": 3
   },
   "file_extension": ".py",
   "mimetype": "text/x-python",
   "name": "python",
   "nbconvert_exporter": "python",
   "pygments_lexer": "ipython3",
   "version": "3.8.10"
  }
 },
 "nbformat": 4,
 "nbformat_minor": 5
}
