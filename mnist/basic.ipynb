{
 "cells": [
  {
   "cell_type": "markdown",
   "id": "e88a69fa-8aec-4b2f-abf8-603ec888d32b",
   "metadata": {},
   "source": [
    "# Import & Configuration"
   ]
  },
  {
   "cell_type": "code",
   "execution_count": 1,
   "id": "5e7954d7-fb2a-400c-bd98-20d7089fbf0e",
   "metadata": {},
   "outputs": [],
   "source": [
    "import torch\n",
    "import numpy as np\n",
    "from torch import nn\n",
    "from torch.utils.data import DataLoader\n",
    "from torchvision import datasets\n",
    "from torch.utils.tensorboard import SummaryWriter\n",
    "from torchvision.transforms import ToTensor, Lambda, Compose\n",
    "import matplotlib.pyplot as plt\n",
    "import warnings\n",
    "# select multiline -> 'ctrl + /' -> multiline comment\n",
    "# print option\n",
    "torch.set_printoptions(precision=4, linewidth=50000, sci_mode=None)\n",
    "# Control Warning Message\n",
    "warnings.filterwarnings(action='ignore')\n",
    "writer = SummaryWriter('runs')"
   ]
  },
  {
   "cell_type": "markdown",
   "id": "941cbcf6-f622-4bc6-a913-2eadb95e3cd5",
   "metadata": {},
   "source": [
    "# Preparing Data"
   ]
  },
  {
   "cell_type": "code",
   "execution_count": 2,
   "id": "effd1fea-9c77-4490-b8bc-5c7144579c2a",
   "metadata": {},
   "outputs": [
    {
     "data": {
      "text/plain": [
       "Dataset MNIST\n",
       "    Number of datapoints: 60000\n",
       "    Root location: /home/woong/dataset\n",
       "    Split: Train\n",
       "    StandardTransform\n",
       "Transform: ToTensor()"
      ]
     },
     "execution_count": 2,
     "metadata": {},
     "output_type": "execute_result"
    }
   ],
   "source": [
    "datasetDir = '~/dataset'\n",
    "trainData = datasets.MNIST(root=datasetDir, train=True,  download=True, transform=ToTensor())\n",
    "testData  = datasets.MNIST(root=datasetDir, train=False, download=True, transform=ToTensor())\n",
    "trainData"
   ]
  },
  {
   "cell_type": "code",
   "execution_count": 3,
   "id": "8a195859-6480-4b3e-9c2b-2fd280b8e362",
   "metadata": {},
   "outputs": [
    {
     "name": "stdout",
     "output_type": "stream",
     "text": [
      "[Print] Type of trainData : <class 'torchvision.datasets.mnist.MNIST'>\n",
      "[Print] Type of trainData.data : <class 'torch.Tensor'>\n",
      "[Print] Type of trainData.targets : <class 'torch.Tensor'>\n",
      "[Print] Type of trainData.classes : <class 'list'>\n"
     ]
    }
   ],
   "source": [
    "print('[Print] Type of trainData :', type(trainData))\n",
    "print('[Print] Type of trainData.data :', type(trainData.data))\n",
    "print('[Print] Type of trainData.targets :', type(trainData.targets))\n",
    "print('[Print] Type of trainData.classes :',type(trainData.classes))"
   ]
  },
  {
   "cell_type": "code",
   "execution_count": 4,
   "id": "efd1a309-2349-44c8-8b1c-67630dbe7663",
   "metadata": {},
   "outputs": [
    {
     "name": "stdout",
     "output_type": "stream",
     "text": [
      "tensor([5, 0, 4,  ..., 5, 6, 8])\n",
      "['0 - zero', '1 - one', '2 - two', '3 - three', '4 - four', '5 - five', '6 - six', '7 - seven', '8 - eight', '9 - nine']\n"
     ]
    }
   ],
   "source": [
    "print(trainData.targets)\n",
    "print(trainData.classes)"
   ]
  },
  {
   "cell_type": "code",
   "execution_count": 5,
   "id": "53e13e14-6eb3-4fef-8526-3ca6b5bfc06b",
   "metadata": {},
   "outputs": [
    {
     "name": "stdout",
     "output_type": "stream",
     "text": [
      "tensor([[  0,   0,   0,   0,   0,   0,   0,   0,   0,   0,   0,   0,   0,   0,   0,   0,   0,   0,   0,   0,   0,   0,   0,   0,   0,   0,   0,   0],\n",
      "        [  0,   0,   0,   0,   0,   0,   0,   0,   0,   0,   0,   0,   0,   0,   0,   0,   0,   0,   0,   0,   0,   0,   0,   0,   0,   0,   0,   0],\n",
      "        [  0,   0,   0,   0,   0,   0,   0,   0,   0,   0,   0,   0,   0,   0,   0,   0,   0,   0,   0,   0,   0,   0,   0,   0,   0,   0,   0,   0],\n",
      "        [  0,   0,   0,   0,   0,   0,   0,   0,   0,   0,   0,   0,   0,   0,   0,   0,   0,   0,   0,   0,   0,   0,   0,   0,   0,   0,   0,   0],\n",
      "        [  0,   0,   0,   0,   0,   0,   0,   0,   0,   0,   0,   0,   0,   0,   0,   0,   0,   0,   0,   0,   0,   0,   0,   0,   0,   0,   0,   0],\n",
      "        [  0,   0,   0,   0,   0,   0,   0,   0,   0,   0,   0,   0,   3,  18,  18,  18, 126, 136, 175,  26, 166, 255, 247, 127,   0,   0,   0,   0],\n",
      "        [  0,   0,   0,   0,   0,   0,   0,   0,  30,  36,  94, 154, 170, 253, 253, 253, 253, 253, 225, 172, 253, 242, 195,  64,   0,   0,   0,   0],\n",
      "        [  0,   0,   0,   0,   0,   0,   0,  49, 238, 253, 253, 253, 253, 253, 253, 253, 253, 251,  93,  82,  82,  56,  39,   0,   0,   0,   0,   0],\n",
      "        [  0,   0,   0,   0,   0,   0,   0,  18, 219, 253, 253, 253, 253, 253, 198, 182, 247, 241,   0,   0,   0,   0,   0,   0,   0,   0,   0,   0],\n",
      "        [  0,   0,   0,   0,   0,   0,   0,   0,  80, 156, 107, 253, 253, 205,  11,   0,  43, 154,   0,   0,   0,   0,   0,   0,   0,   0,   0,   0],\n",
      "        [  0,   0,   0,   0,   0,   0,   0,   0,   0,  14,   1, 154, 253,  90,   0,   0,   0,   0,   0,   0,   0,   0,   0,   0,   0,   0,   0,   0],\n",
      "        [  0,   0,   0,   0,   0,   0,   0,   0,   0,   0,   0, 139, 253, 190,   2,   0,   0,   0,   0,   0,   0,   0,   0,   0,   0,   0,   0,   0],\n",
      "        [  0,   0,   0,   0,   0,   0,   0,   0,   0,   0,   0,  11, 190, 253,  70,   0,   0,   0,   0,   0,   0,   0,   0,   0,   0,   0,   0,   0],\n",
      "        [  0,   0,   0,   0,   0,   0,   0,   0,   0,   0,   0,   0,  35, 241, 225, 160, 108,   1,   0,   0,   0,   0,   0,   0,   0,   0,   0,   0],\n",
      "        [  0,   0,   0,   0,   0,   0,   0,   0,   0,   0,   0,   0,   0,  81, 240, 253, 253, 119,  25,   0,   0,   0,   0,   0,   0,   0,   0,   0],\n",
      "        [  0,   0,   0,   0,   0,   0,   0,   0,   0,   0,   0,   0,   0,   0,  45, 186, 253, 253, 150,  27,   0,   0,   0,   0,   0,   0,   0,   0],\n",
      "        [  0,   0,   0,   0,   0,   0,   0,   0,   0,   0,   0,   0,   0,   0,   0,  16,  93, 252, 253, 187,   0,   0,   0,   0,   0,   0,   0,   0],\n",
      "        [  0,   0,   0,   0,   0,   0,   0,   0,   0,   0,   0,   0,   0,   0,   0,   0,   0, 249, 253, 249,  64,   0,   0,   0,   0,   0,   0,   0],\n",
      "        [  0,   0,   0,   0,   0,   0,   0,   0,   0,   0,   0,   0,   0,   0,  46, 130, 183, 253, 253, 207,   2,   0,   0,   0,   0,   0,   0,   0],\n",
      "        [  0,   0,   0,   0,   0,   0,   0,   0,   0,   0,   0,   0,  39, 148, 229, 253, 253, 253, 250, 182,   0,   0,   0,   0,   0,   0,   0,   0],\n",
      "        [  0,   0,   0,   0,   0,   0,   0,   0,   0,   0,  24, 114, 221, 253, 253, 253, 253, 201,  78,   0,   0,   0,   0,   0,   0,   0,   0,   0],\n",
      "        [  0,   0,   0,   0,   0,   0,   0,   0,  23,  66, 213, 253, 253, 253, 253, 198,  81,   2,   0,   0,   0,   0,   0,   0,   0,   0,   0,   0],\n",
      "        [  0,   0,   0,   0,   0,   0,  18, 171, 219, 253, 253, 253, 253, 195,  80,   9,   0,   0,   0,   0,   0,   0,   0,   0,   0,   0,   0,   0],\n",
      "        [  0,   0,   0,   0,  55, 172, 226, 253, 253, 253, 253, 244, 133,  11,   0,   0,   0,   0,   0,   0,   0,   0,   0,   0,   0,   0,   0,   0],\n",
      "        [  0,   0,   0,   0, 136, 253, 253, 253, 212, 135, 132,  16,   0,   0,   0,   0,   0,   0,   0,   0,   0,   0,   0,   0,   0,   0,   0,   0],\n",
      "        [  0,   0,   0,   0,   0,   0,   0,   0,   0,   0,   0,   0,   0,   0,   0,   0,   0,   0,   0,   0,   0,   0,   0,   0,   0,   0,   0,   0],\n",
      "        [  0,   0,   0,   0,   0,   0,   0,   0,   0,   0,   0,   0,   0,   0,   0,   0,   0,   0,   0,   0,   0,   0,   0,   0,   0,   0,   0,   0],\n",
      "        [  0,   0,   0,   0,   0,   0,   0,   0,   0,   0,   0,   0,   0,   0,   0,   0,   0,   0,   0,   0,   0,   0,   0,   0,   0,   0,   0,   0]], dtype=torch.uint8)\n"
     ]
    }
   ],
   "source": [
    "print(trainData.data[0])"
   ]
  },
  {
   "cell_type": "code",
   "execution_count": 6,
   "id": "bb3a96a8-17bf-4731-9330-1609287d04ad",
   "metadata": {},
   "outputs": [
    {
     "name": "stdout",
     "output_type": "stream",
     "text": [
      "tensor(5)\n"
     ]
    }
   ],
   "source": [
    "print(trainData.targets[0])"
   ]
  },
  {
   "cell_type": "code",
   "execution_count": 7,
   "id": "ad84a37c-5565-4a7b-bff0-ebdf62d52676",
   "metadata": {},
   "outputs": [
    {
     "name": "stdout",
     "output_type": "stream",
     "text": [
      "(tensor([[[0.0, 0.0, 0.0, 0.0, 0.0, 0.0, 0.0, 0.0, 0.0, 0.0, 0.0, 0.0, 0.0, 0.0, 0.0, 0.0, 0.0, 0.0, 0.0, 0.0, 0.0, 0.0, 0.0, 0.0, 0.0, 0.0, 0.0, 0.0],\n",
      "         [0.0, 0.0, 0.0, 0.0, 0.0, 0.0, 0.0, 0.0, 0.0, 0.0, 0.0, 0.0, 0.0, 0.0, 0.0, 0.0, 0.0, 0.0, 0.0, 0.0, 0.0, 0.0, 0.0, 0.0, 0.0, 0.0, 0.0, 0.0],\n",
      "         [0.0, 0.0, 0.0, 0.0, 0.0, 0.0, 0.0, 0.0, 0.0, 0.0, 0.0, 0.0, 0.0, 0.0, 0.0, 0.0, 0.0, 0.0, 0.0, 0.0, 0.0, 0.0, 0.0, 0.0, 0.0, 0.0, 0.0, 0.0],\n",
      "         [0.0, 0.0, 0.0, 0.0, 0.0, 0.0, 0.0, 0.0, 0.0, 0.0, 0.0, 0.0, 0.0, 0.0, 0.0, 0.0, 0.0, 0.0, 0.0, 0.0, 0.0, 0.0, 0.0, 0.0, 0.0, 0.0, 0.0, 0.0],\n",
      "         [0.0, 0.0, 0.0, 0.0, 0.0, 0.0, 0.0, 0.0, 0.0, 0.0, 0.0, 0.0, 0.0, 0.0, 0.0, 0.0, 0.0, 0.0, 0.0, 0.0, 0.0, 0.0, 0.0, 0.0, 0.0, 0.0, 0.0, 0.0],\n",
      "         [0.0, 0.0, 0.0, 0.0, 0.0, 0.0, 0.0, 0.0, 0.0, 0.0, 0.0, 0.0, 0.0, 0.1, 0.1, 0.1, 0.5, 0.5, 0.7, 0.1, 0.7, 1.0, 1.0, 0.5, 0.0, 0.0, 0.0, 0.0],\n",
      "         [0.0, 0.0, 0.0, 0.0, 0.0, 0.0, 0.0, 0.0, 0.1, 0.1, 0.4, 0.6, 0.7, 1.0, 1.0, 1.0, 1.0, 1.0, 0.9, 0.7, 1.0, 0.9, 0.8, 0.3, 0.0, 0.0, 0.0, 0.0],\n",
      "         [0.0, 0.0, 0.0, 0.0, 0.0, 0.0, 0.0, 0.2, 0.9, 1.0, 1.0, 1.0, 1.0, 1.0, 1.0, 1.0, 1.0, 1.0, 0.4, 0.3, 0.3, 0.2, 0.2, 0.0, 0.0, 0.0, 0.0, 0.0],\n",
      "         [0.0, 0.0, 0.0, 0.0, 0.0, 0.0, 0.0, 0.1, 0.9, 1.0, 1.0, 1.0, 1.0, 1.0, 0.8, 0.7, 1.0, 0.9, 0.0, 0.0, 0.0, 0.0, 0.0, 0.0, 0.0, 0.0, 0.0, 0.0],\n",
      "         [0.0, 0.0, 0.0, 0.0, 0.0, 0.0, 0.0, 0.0, 0.3, 0.6, 0.4, 1.0, 1.0, 0.8, 0.0, 0.0, 0.2, 0.6, 0.0, 0.0, 0.0, 0.0, 0.0, 0.0, 0.0, 0.0, 0.0, 0.0],\n",
      "         [0.0, 0.0, 0.0, 0.0, 0.0, 0.0, 0.0, 0.0, 0.0, 0.1, 0.0, 0.6, 1.0, 0.4, 0.0, 0.0, 0.0, 0.0, 0.0, 0.0, 0.0, 0.0, 0.0, 0.0, 0.0, 0.0, 0.0, 0.0],\n",
      "         [0.0, 0.0, 0.0, 0.0, 0.0, 0.0, 0.0, 0.0, 0.0, 0.0, 0.0, 0.5, 1.0, 0.7, 0.0, 0.0, 0.0, 0.0, 0.0, 0.0, 0.0, 0.0, 0.0, 0.0, 0.0, 0.0, 0.0, 0.0],\n",
      "         [0.0, 0.0, 0.0, 0.0, 0.0, 0.0, 0.0, 0.0, 0.0, 0.0, 0.0, 0.0, 0.7, 1.0, 0.3, 0.0, 0.0, 0.0, 0.0, 0.0, 0.0, 0.0, 0.0, 0.0, 0.0, 0.0, 0.0, 0.0],\n",
      "         [0.0, 0.0, 0.0, 0.0, 0.0, 0.0, 0.0, 0.0, 0.0, 0.0, 0.0, 0.0, 0.1, 0.9, 0.9, 0.6, 0.4, 0.0, 0.0, 0.0, 0.0, 0.0, 0.0, 0.0, 0.0, 0.0, 0.0, 0.0],\n",
      "         [0.0, 0.0, 0.0, 0.0, 0.0, 0.0, 0.0, 0.0, 0.0, 0.0, 0.0, 0.0, 0.0, 0.3, 0.9, 1.0, 1.0, 0.5, 0.1, 0.0, 0.0, 0.0, 0.0, 0.0, 0.0, 0.0, 0.0, 0.0],\n",
      "         [0.0, 0.0, 0.0, 0.0, 0.0, 0.0, 0.0, 0.0, 0.0, 0.0, 0.0, 0.0, 0.0, 0.0, 0.2, 0.7, 1.0, 1.0, 0.6, 0.1, 0.0, 0.0, 0.0, 0.0, 0.0, 0.0, 0.0, 0.0],\n",
      "         [0.0, 0.0, 0.0, 0.0, 0.0, 0.0, 0.0, 0.0, 0.0, 0.0, 0.0, 0.0, 0.0, 0.0, 0.0, 0.1, 0.4, 1.0, 1.0, 0.7, 0.0, 0.0, 0.0, 0.0, 0.0, 0.0, 0.0, 0.0],\n",
      "         [0.0, 0.0, 0.0, 0.0, 0.0, 0.0, 0.0, 0.0, 0.0, 0.0, 0.0, 0.0, 0.0, 0.0, 0.0, 0.0, 0.0, 1.0, 1.0, 1.0, 0.3, 0.0, 0.0, 0.0, 0.0, 0.0, 0.0, 0.0],\n",
      "         [0.0, 0.0, 0.0, 0.0, 0.0, 0.0, 0.0, 0.0, 0.0, 0.0, 0.0, 0.0, 0.0, 0.0, 0.2, 0.5, 0.7, 1.0, 1.0, 0.8, 0.0, 0.0, 0.0, 0.0, 0.0, 0.0, 0.0, 0.0],\n",
      "         [0.0, 0.0, 0.0, 0.0, 0.0, 0.0, 0.0, 0.0, 0.0, 0.0, 0.0, 0.0, 0.2, 0.6, 0.9, 1.0, 1.0, 1.0, 1.0, 0.7, 0.0, 0.0, 0.0, 0.0, 0.0, 0.0, 0.0, 0.0],\n",
      "         [0.0, 0.0, 0.0, 0.0, 0.0, 0.0, 0.0, 0.0, 0.0, 0.0, 0.1, 0.4, 0.9, 1.0, 1.0, 1.0, 1.0, 0.8, 0.3, 0.0, 0.0, 0.0, 0.0, 0.0, 0.0, 0.0, 0.0, 0.0],\n",
      "         [0.0, 0.0, 0.0, 0.0, 0.0, 0.0, 0.0, 0.0, 0.1, 0.3, 0.8, 1.0, 1.0, 1.0, 1.0, 0.8, 0.3, 0.0, 0.0, 0.0, 0.0, 0.0, 0.0, 0.0, 0.0, 0.0, 0.0, 0.0],\n",
      "         [0.0, 0.0, 0.0, 0.0, 0.0, 0.0, 0.1, 0.7, 0.9, 1.0, 1.0, 1.0, 1.0, 0.8, 0.3, 0.0, 0.0, 0.0, 0.0, 0.0, 0.0, 0.0, 0.0, 0.0, 0.0, 0.0, 0.0, 0.0],\n",
      "         [0.0, 0.0, 0.0, 0.0, 0.2, 0.7, 0.9, 1.0, 1.0, 1.0, 1.0, 1.0, 0.5, 0.0, 0.0, 0.0, 0.0, 0.0, 0.0, 0.0, 0.0, 0.0, 0.0, 0.0, 0.0, 0.0, 0.0, 0.0],\n",
      "         [0.0, 0.0, 0.0, 0.0, 0.5, 1.0, 1.0, 1.0, 0.8, 0.5, 0.5, 0.1, 0.0, 0.0, 0.0, 0.0, 0.0, 0.0, 0.0, 0.0, 0.0, 0.0, 0.0, 0.0, 0.0, 0.0, 0.0, 0.0],\n",
      "         [0.0, 0.0, 0.0, 0.0, 0.0, 0.0, 0.0, 0.0, 0.0, 0.0, 0.0, 0.0, 0.0, 0.0, 0.0, 0.0, 0.0, 0.0, 0.0, 0.0, 0.0, 0.0, 0.0, 0.0, 0.0, 0.0, 0.0, 0.0],\n",
      "         [0.0, 0.0, 0.0, 0.0, 0.0, 0.0, 0.0, 0.0, 0.0, 0.0, 0.0, 0.0, 0.0, 0.0, 0.0, 0.0, 0.0, 0.0, 0.0, 0.0, 0.0, 0.0, 0.0, 0.0, 0.0, 0.0, 0.0, 0.0],\n",
      "         [0.0, 0.0, 0.0, 0.0, 0.0, 0.0, 0.0, 0.0, 0.0, 0.0, 0.0, 0.0, 0.0, 0.0, 0.0, 0.0, 0.0, 0.0, 0.0, 0.0, 0.0, 0.0, 0.0, 0.0, 0.0, 0.0, 0.0, 0.0]]]), 5)\n"
     ]
    }
   ],
   "source": [
    "# Difference between trainData and trainData.data\n",
    "# Difference between trainData is nomalized value of trainData.data\n",
    "torch.set_printoptions(precision=1, linewidth=50000, sci_mode=None)\n",
    "print(trainData[0])\n",
    "torch.set_printoptions(precision=4, linewidth=50000, sci_mode=None)"
   ]
  },
  {
   "cell_type": "code",
   "execution_count": 8,
   "id": "468c9d0a-e33e-4d7b-a276-4902ca8695bd",
   "metadata": {},
   "outputs": [
    {
     "name": "stdout",
     "output_type": "stream",
     "text": [
      "Image: torch.Size([1, 28, 28])\n",
      "Label: 5\n"
     ]
    }
   ],
   "source": [
    "# [0][0]: 3D-image data [0][1]: Label\n",
    "print(f'Image: {trainData[0][0].size()}')\n",
    "print(f'Label: {trainData[0][1]}')"
   ]
  },
  {
   "cell_type": "code",
   "execution_count": 9,
   "id": "382ee658-afc8-456c-96b3-852cce79e828",
   "metadata": {},
   "outputs": [
    {
     "name": "stdout",
     "output_type": "stream",
     "text": [
      "trainData.data: 136\n",
      "trainData.data/255: 0.5333333611488342\n",
      "trainData: 0.5333333611488342\n"
     ]
    }
   ],
   "source": [
    "# trainData is nomalized using /255\n",
    "print(f'trainData.data: {trainData.data[0][24][4]}')\n",
    "print(f'trainData.data/255: {trainData.data[0][24][4]/255}')\n",
    "print(f'trainData: {trainData[0][0][0][24][4]}')"
   ]
  },
  {
   "cell_type": "markdown",
   "id": "a343056c-e0cb-4ea6-bb3f-611382f0c3a4",
   "metadata": {},
   "source": [
    "# Data Loader"
   ]
  },
  {
   "cell_type": "code",
   "execution_count": 10,
   "id": "91087ef7-332d-488c-87d7-a10067486578",
   "metadata": {},
   "outputs": [
    {
     "name": "stdout",
     "output_type": "stream",
     "text": [
      "trainDataset: 50000\n",
      "validDataset: 10000\n",
      "Shape of image [N, C, H, W]:  torch.Size([64, 1, 28, 28])\n",
      "Shape of label             :  torch.Size([64]) torch.int64\n"
     ]
    }
   ],
   "source": [
    "trainDataset, validDataset = torch.utils.data.random_split(trainData, [50000, 10000])\n",
    "print(f'trainDataset: {len(trainDataset)}')\n",
    "print(f'validDataset: {len(validDataset)}')\n",
    "\n",
    "batchSize = 64\n",
    "\n",
    "trainDataLoader = DataLoader(trainDataset, batch_size=batchSize)\n",
    "validDataLoader = DataLoader(validDataset, batch_size=batchSize)\n",
    "testDataLoader  = DataLoader(testData,  batch_size=batchSize)\n",
    "\n",
    "for imgs, labs in trainDataLoader:\n",
    "\tprint(\"Shape of image [N, C, H, W]: \", imgs.shape)\n",
    "\tprint(\"Shape of label             : \", labs.shape, labs.dtype)\n",
    "\tbreak"
   ]
  },
  {
   "cell_type": "code",
   "execution_count": 11,
   "id": "80585bd6-bb82-4fbd-9864-38d00199c2a9",
   "metadata": {},
   "outputs": [
    {
     "data": {
      "image/png": "[encoded data removed]",
      "text/plain": [
       "<Figure size 1152x1152 with 64 Axes>"
      ]
     },
     "metadata": {
      "needs_background": "light"
     },
     "output_type": "display_data"
    }
   ],
   "source": [
    "figure = plt.figure(figsize=(16, 16))\n",
    "cols, rows = 8, 8\n",
    "for i in range(cols * rows ):\n",
    "\t#sampleIndex = torch.randint(len(imgs), size=(1,)).item()\n",
    "# \timg = imgs[sampleIndex]\n",
    "# \tlab = labs[sampleIndex].item()\n",
    "\n",
    "\timg = imgs[i]\n",
    "\tlab = labs[i].item()\n",
    "\tfigure.add_subplot(rows, cols, i+1)\n",
    "\tplt.title(lab)\n",
    "\tplt.axis(\"off\")\n",
    "\tplt.imshow(img.squeeze(), cmap=\"gray\")\n",
    "plt.show()"
   ]
  },
  {
   "cell_type": "markdown",
   "id": "2529cf8f-dda2-4725-beb0-6ca8402b15b1",
   "metadata": {},
   "source": [
    "# Model Build-up"
   ]
  },
  {
   "cell_type": "code",
   "execution_count": 12,
   "id": "1b9b2d95-20af-4df3-878e-ca82041a537b",
   "metadata": {},
   "outputs": [
    {
     "name": "stdout",
     "output_type": "stream",
     "text": [
      "Using cuda device\n",
      "NN(\n",
      "  (flatten): Flatten(start_dim=1, end_dim=-1)\n",
      "  (seq): Sequential(\n",
      "    (0): Linear(in_features=784, out_features=30, bias=True)\n",
      "    (1): ReLU()\n",
      "    (2): Linear(in_features=30, out_features=30, bias=True)\n",
      "    (3): ReLU()\n",
      "    (4): Linear(in_features=30, out_features=10, bias=True)\n",
      "    (5): ReLU()\n",
      "    (6): Linear(in_features=10, out_features=10, bias=True)\n",
      "    (7): ReLU()\n",
      "  )\n",
      ")\n"
     ]
    }
   ],
   "source": [
    "device = \"cuda\" if torch.cuda.is_available() else \"cpu\"\n",
    "print(\"Using {} device\".format(device))\n",
    "\n",
    "class NN(nn.Module):\n",
    "\tdef __init__(self):\n",
    "\t\tsuper(NN, self).__init__()\n",
    "\t\tself.flatten = nn.Flatten()\n",
    "\t\tself.seq = nn.Sequential(\n",
    "\t\t\tnn.Linear(28*28, 30),\n",
    "\t\t\tnn.ReLU(),\n",
    "\t\t\tnn.Linear(30, 30),\n",
    "\t\t\tnn.ReLU(),\n",
    "\t\t\tnn.Linear(30, 10),\n",
    "\t\t\tnn.ReLU(),\n",
    "\t\t\tnn.Linear(10, 10),\n",
    "\t\t\tnn.ReLU()\n",
    "\t\t)\n",
    "\n",
    "\tdef forward(self, x):\n",
    "\t\tx = self.flatten(x)\n",
    "\t\tlogits = self.seq(x)\n",
    "\t\treturn logits\n",
    "\n",
    "model = NN().to(device)\n",
    "print(model)"
   ]
  },
  {
   "cell_type": "code",
   "execution_count": 13,
   "id": "3a74ac0f-a6aa-4812-bf99-99317322eb9d",
   "metadata": {},
   "outputs": [
    {
     "name": "stdout",
     "output_type": "stream",
     "text": [
      "name:seq.0.weight\n",
      "<class 'torch.nn.parameter.Parameter'>\n",
      "param.shape:torch.Size([30, 784])\n",
      "param.requries_grad:True\n",
      "=====\n",
      "name:seq.0.bias\n",
      "<class 'torch.nn.parameter.Parameter'>\n",
      "param.shape:torch.Size([30])\n",
      "param.requries_grad:True\n",
      "=====\n",
      "name:seq.2.weight\n",
      "<class 'torch.nn.parameter.Parameter'>\n",
      "param.shape:torch.Size([30, 30])\n",
      "param.requries_grad:True\n",
      "=====\n",
      "name:seq.2.bias\n",
      "<class 'torch.nn.parameter.Parameter'>\n",
      "param.shape:torch.Size([30])\n",
      "param.requries_grad:True\n",
      "=====\n",
      "name:seq.4.weight\n",
      "<class 'torch.nn.parameter.Parameter'>\n",
      "param.shape:torch.Size([10, 30])\n",
      "param.requries_grad:True\n",
      "=====\n",
      "name:seq.4.bias\n",
      "<class 'torch.nn.parameter.Parameter'>\n",
      "param.shape:torch.Size([10])\n",
      "param.requries_grad:True\n",
      "=====\n",
      "name:seq.6.weight\n",
      "<class 'torch.nn.parameter.Parameter'>\n",
      "param.shape:torch.Size([10, 10])\n",
      "param.requries_grad:True\n",
      "=====\n",
      "name:seq.6.bias\n",
      "<class 'torch.nn.parameter.Parameter'>\n",
      "param.shape:torch.Size([10])\n",
      "param.requries_grad:True\n",
      "=====\n"
     ]
    }
   ],
   "source": [
    "for name, param in model.named_parameters(): \n",
    "\tprint(f'name:{name}') \n",
    "\tprint(type(param)) \n",
    "\tprint(f'param.shape:{param.shape}') \n",
    "\tprint(f'param.requries_grad:{param.requires_grad}') \n",
    "\tprint('=====')"
   ]
  },
  {
   "cell_type": "markdown",
   "id": "ab2888fa-1d10-4356-843e-97486ff1cdde",
   "metadata": {},
   "source": [
    "# Define Loss Function & Optimizer"
   ]
  },
  {
   "cell_type": "code",
   "execution_count": 14,
   "id": "6cb8ec62-155d-4ac0-8a87-2339c0b3027c",
   "metadata": {},
   "outputs": [],
   "source": [
    "lossFunc = nn.CrossEntropyLoss()\n",
    "optimizer = torch.optim.SGD(model.parameters(), lr=1e-2)\n",
    "trainLoss = 0\n",
    "testLoss = 0"
   ]
  },
  {
   "cell_type": "code",
   "execution_count": 15,
   "id": "d5e779a6-4c13-4426-a8b7-0b2a6ac4d673",
   "metadata": {},
   "outputs": [],
   "source": [
    "def train(trainDataLoader, model, lossFunc, optimizer, epoch, trainLoss):\n",
    "\tfor loopInEpoch, (img, lab) in enumerate(trainDataLoader):\n",
    "\t\timg, lab = img.to(device), lab.to(device)\n",
    "\t\tpred = model(img)\n",
    "\t\tloss = lossFunc(pred, lab)\n",
    "\n",
    "\t\toptimizer.zero_grad()\n",
    "\t\tloss.backward()\n",
    "\t\toptimizer.step()\n",
    "\t\t\n",
    "\t\ttrainLoss += loss.item()\n",
    "\twriter.add_scalar('trainLoss', trainLoss/len(trainDataLoader.dataset), epoch)\n",
    "\ttrainLoss = 0"
   ]
  },
  {
   "cell_type": "code",
   "execution_count": 16,
   "id": "00025085-597b-4c15-be7d-68c88d2c2c1d",
   "metadata": {},
   "outputs": [],
   "source": [
    "def test(testDataLoader, model, epoch, testLoss):\n",
    "\tmodel.eval()\n",
    "\ttestLoss, correct = 0, 0\n",
    "\twith torch.no_grad():\n",
    "\t\tfor img, lab in testDataLoader:\n",
    "\t\t\timg, lab = img.to(device), lab.to(device)\n",
    "\t\t\tpred = model(img)\n",
    "\t\t\ttestLoss += lossFunc(pred, lab).item()\n",
    "\t\t\tcorrect += (pred.argmax(1) == lab).type(torch.float).sum().item()\n",
    "\ttestLoss /= len(testDataLoader.dataset)\n",
    "\tcorrect /= len(testDataLoader.dataset)\n",
    "\tprint(f\"Accuracy: {(100*correct):>0.1f}%, Avg loss: {testLoss:>8f}\")\n",
    "\twriter.add_scalar('testLoss', testLoss, epoch)\n",
    "\ttestLoss = 0"
   ]
  },
  {
   "cell_type": "code",
   "execution_count": 17,
   "id": "bd010a79-ac78-4066-bef0-9ed75d20b869",
   "metadata": {},
   "outputs": [
    {
     "data": {
      "text/plain": [
       "odict_keys(['seq.0.weight', 'seq.0.bias', 'seq.2.weight', 'seq.2.bias', 'seq.4.weight', 'seq.4.bias', 'seq.6.weight', 'seq.6.bias'])"
      ]
     },
     "execution_count": 17,
     "metadata": {},
     "output_type": "execute_result"
    }
   ],
   "source": [
    "model.state_dict().keys()"
   ]
  },
  {
   "cell_type": "code",
   "execution_count": 18,
   "id": "36de03da-9fdb-4de4-9b75-124ea760b07b",
   "metadata": {},
   "outputs": [
    {
     "name": "stdout",
     "output_type": "stream",
     "text": [
      "tensor([-0.0212, -0.0068, -0.0212, -0.0313,  0.0042,  0.0205,  0.0013,  0.0200], device='cuda:0')\n",
      "tensor([-0.0354,  0.0993, -0.1586, -0.0522, -0.1223, -0.1363,  0.0792, -0.1736], device='cuda:0')\n",
      "tensor([ 0.0064,  0.1097, -0.0751, -0.0200, -0.0256, -0.0678, -0.1376,  0.1590], device='cuda:0')\n",
      "tensor([ 0.0368,  0.0378, -0.2582, -0.2375,  0.1906, -0.2303, -0.0362, -0.3055], device='cuda:0')\n"
     ]
    }
   ],
   "source": [
    "print(model.state_dict()['seq.0.weight'][0][:8])\n",
    "print(model.state_dict()['seq.2.weight'][0][:8])\n",
    "print(model.state_dict()['seq.4.weight'][0][:8])\n",
    "print(model.state_dict()['seq.6.weight'][0][:8])"
   ]
  },
  {
   "cell_type": "markdown",
   "id": "29b81559-683b-4cbc-9ef2-3ee9741e0e9a",
   "metadata": {},
   "source": [
    "# Please check in the https://www.h-schmidt.net/FloatConverter/IEEE754.html"
   ]
  },
  {
   "cell_type": "code",
   "execution_count": 19,
   "id": "03b9fbd4-6bf0-4c9f-ae0b-2fadf9536c88",
   "metadata": {},
   "outputs": [
    {
     "name": "stdout",
     "output_type": "stream",
     "text": [
      "tensor([ 0.3000, -0.0068, -0.0212, -0.0313,  0.0042,  0.0205,  0.0013,  0.0200], device='cuda:0')\n",
      "tensor([-0.0354,  0.0993, -0.1586, -0.0522, -0.1223, -0.1363,  0.0792, -0.1736], device='cuda:0')\n",
      "tensor([ 0.0064,  0.1097, -0.0751, -0.0200, -0.0256, -0.0678, -0.1376,  0.1590], device='cuda:0')\n",
      "tensor([ 0.0368,  0.0378, -0.2582, -0.2375,  0.1906, -0.2303, -0.0362, -0.3055], device='cuda:0')\n"
     ]
    }
   ],
   "source": [
    "model.state_dict()['seq.0.weight'][0][0]=0.3\n",
    "print(model.state_dict()['seq.0.weight'][0][:8])\n",
    "print(model.state_dict()['seq.2.weight'][0][:8])\n",
    "print(model.state_dict()['seq.4.weight'][0][:8])\n",
    "print(model.state_dict()['seq.6.weight'][0][:8])"
   ]
  },
  {
   "cell_type": "code",
   "execution_count": 20,
   "id": "3f4faeff-695b-4e6d-8d12-7d18ca16c2ee",
   "metadata": {},
   "outputs": [
    {
     "name": "stdout",
     "output_type": "stream",
     "text": [
      "Epoch   1: Accuracy: 30.4%, Avg loss: 0.034771\n",
      "Epoch   2: Accuracy: 51.5%, Avg loss: 0.023728\n",
      "Epoch   3: Accuracy: 69.8%, Avg loss: 0.015652\n",
      "Epoch   4: Accuracy: 76.6%, Avg loss: 0.012368\n",
      "Epoch   5: Accuracy: 78.0%, Avg loss: 0.011104\n",
      "Epoch   6: Accuracy: 79.4%, Avg loss: 0.010223\n",
      "Epoch   7: Accuracy: 80.5%, Avg loss: 0.009604\n",
      "Epoch   8: Accuracy: 81.3%, Avg loss: 0.009139\n",
      "Epoch   9: Accuracy: 81.9%, Avg loss: 0.008752\n",
      "Epoch  10: Accuracy: 89.8%, Avg loss: 0.005711\n",
      "Done!\n"
     ]
    }
   ],
   "source": [
    "epochs = 10\n",
    "for epoch in range(epochs):\n",
    "    print(f\"Epoch {epoch+1:3d}: \", end='')\n",
    "    train(trainDataLoader, model, lossFunc, optimizer, epoch, trainLoss)\n",
    "    test(validDataLoader, model, epoch, testLoss)\n",
    "print(\"Done!\")\n",
    "writer.close()"
   ]
  },
  {
   "cell_type": "markdown",
   "id": "3dc62e89-0938-449a-9dac-78dc5654d2e4",
   "metadata": {},
   "source": [
    "# Check updated weight in the 1st layer"
   ]
  },
  {
   "cell_type": "code",
   "execution_count": 21,
   "id": "a2b30ef2-c3f2-4db6-97b9-8ce374626f8d",
   "metadata": {},
   "outputs": [],
   "source": [
    "torch.save(model.state_dict(), \"model.pth\")"
   ]
  },
  {
   "cell_type": "code",
   "execution_count": 22,
   "id": "39191cb2-49d7-47cd-905b-f218135b6c29",
   "metadata": {},
   "outputs": [
    {
     "name": "stdout",
     "output_type": "stream",
     "text": [
      "tensor([ 0.3000, -0.0068, -0.0212, -0.0313,  0.0042,  0.0205,  0.0013,  0.0200], device='cuda:0')\n",
      "tensor([-0.0354,  0.0993, -0.1584, -0.0522, -0.1223, -0.1363,  0.0794, -0.1735], device='cuda:0')\n",
      "tensor([ 0.0063,  0.3896, -0.1111, -0.0506, -0.0255, -0.0293, -0.1532,  0.6374], device='cuda:0')\n",
      "tensor([-0.0406,  0.0194, -0.8325, -0.6182,  0.7279, -0.4614, -0.2561, -0.3025], device='cuda:0')\n"
     ]
    }
   ],
   "source": [
    "print(model.state_dict()['seq.0.weight'][0][:8])\n",
    "print(model.state_dict()['seq.2.weight'][0][:8])\n",
    "print(model.state_dict()['seq.4.weight'][0][:8])\n",
    "print(model.state_dict()['seq.6.weight'][0][:8])"
   ]
  },
  {
   "cell_type": "code",
   "execution_count": 23,
   "id": "91c510ae-2721-4782-a860-c7c1b1cf1552",
   "metadata": {},
   "outputs": [
    {
     "data": {
      "text/plain": [
       "<All keys matched successfully>"
      ]
     },
     "execution_count": 23,
     "metadata": {},
     "output_type": "execute_result"
    }
   ],
   "source": [
    "model = NN().to(device)\n",
    "model.load_state_dict(torch.load(\"model.pth\"))"
   ]
  },
  {
   "cell_type": "code",
   "execution_count": 24,
   "id": "1329d064-bdc1-41aa-aab5-b11072f0cf97",
   "metadata": {},
   "outputs": [
    {
     "name": "stdout",
     "output_type": "stream",
     "text": [
      "tensor([ 0.3000, -0.0068, -0.0212, -0.0313,  0.0042,  0.0205,  0.0013,  0.0200], device='cuda:0')\n",
      "tensor([-0.0354,  0.0993, -0.1584, -0.0522, -0.1223, -0.1363,  0.0794, -0.1735], device='cuda:0')\n",
      "tensor([ 0.0063,  0.3896, -0.1111, -0.0506, -0.0255, -0.0293, -0.1532,  0.6374], device='cuda:0')\n",
      "tensor([-0.0406,  0.0194, -0.8325, -0.6182,  0.7279, -0.4614, -0.2561, -0.3025], device='cuda:0')\n"
     ]
    }
   ],
   "source": [
    "print(model.state_dict()['seq.0.weight'][0][:8])\n",
    "print(model.state_dict()['seq.2.weight'][0][:8])\n",
    "print(model.state_dict()['seq.4.weight'][0][:8])\n",
    "print(model.state_dict()['seq.6.weight'][0][:8])"
   ]
  },
  {
   "cell_type": "code",
   "execution_count": 25,
   "id": "56841ae2-b74b-490a-80c2-217bb74531ae",
   "metadata": {},
   "outputs": [
    {
     "data": {
      "text/plain": [
       "tensor([[ 0.3000, -0.0068, -0.0212,  ..., -0.0106, -0.0061, -0.0085],\n",
       "        [ 0.0066, -0.0156, -0.0157,  ..., -0.0030, -0.0166,  0.0007],\n",
       "        [ 0.0158,  0.0160, -0.0187,  ..., -0.0024,  0.0253,  0.0040],\n",
       "        ...,\n",
       "        [ 0.0100,  0.0338,  0.0297,  ..., -0.0011,  0.0287,  0.0103],\n",
       "        [-0.0037,  0.0072,  0.0047,  ...,  0.0087,  0.0011, -0.0134],\n",
       "        [ 0.0003,  0.0232,  0.0067,  ...,  0.0340, -0.0233, -0.0266]], device='cuda:0')"
      ]
     },
     "execution_count": 25,
     "metadata": {},
     "output_type": "execute_result"
    }
   ],
   "source": [
    "model.state_dict()['seq.0.weight']"
   ]
  },
  {
   "cell_type": "code",
   "execution_count": 26,
   "id": "bc57a5fa-e0de-4bd0-8329-ffeeb0ea991f",
   "metadata": {},
   "outputs": [
    {
     "data": {
      "text/plain": [
       "array([ 0.3       , -0.00676526, -0.02116886, ...,  0.03397141,\n",
       "       -0.0232911 , -0.02658448], dtype=float32)"
      ]
     },
     "execution_count": 26,
     "metadata": {},
     "output_type": "execute_result"
    }
   ],
   "source": [
    "torch.flatten(model.state_dict()['seq.0.weight']).to('cpu').numpy()"
   ]
  },
  {
   "cell_type": "code",
   "execution_count": null,
   "id": "e80fdbd8-a719-41ca-91ea-84bd470f9ce1",
   "metadata": {},
   "outputs": [],
   "source": []
  }
 ],
 "metadata": {
  "kernelspec": {
   "display_name": "Python 3",
   "language": "python",
   "name": "python3"
  },
  "language_info": {
   "codemirror_mode": {
    "name": "ipython",
    "version": 3
   },
   "file_extension": ".py",
   "mimetype": "text/x-python",
   "name": "python",
   "nbconvert_exporter": "python",
   "pygments_lexer": "ipython3",
   "version": "3.8.10"
  }
 },
 "nbformat": 4,
 "nbformat_minor": 5
}
