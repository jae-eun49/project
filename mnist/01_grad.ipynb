{
 "cells": [
  {
   "cell_type": "markdown",
   "id": "e88a69fa-8aec-4b2f-abf8-603ec888d32b",
   "metadata": {},
   "source": [
    "# Import & Configuration"
   ]
  },
  {
   "cell_type": "code",
   "execution_count": 1,
   "id": "5e7954d7-fb2a-400c-bd98-20d7089fbf0e",
   "metadata": {},
   "outputs": [],
   "source": [
    "import torch\n",
    "import numpy as np\n",
    "from torch import nn\n",
    "from torch.utils.data import DataLoader\n",
    "import torch.nn.functional as F\n",
    "from torchvision import datasets\n",
    "from torch.autograd import grad\n",
    "from torch.utils.tensorboard import SummaryWriter\n",
    "from torchvision.transforms import ToTensor, Lambda, Compose\n",
    "import matplotlib.pyplot as plt\n",
    "import warnings\n",
    "# select multiline -> 'ctrl + /' -> multiline comment\n",
    "# print option\n",
    "torch.set_printoptions(precision=4, linewidth=50000, sci_mode=None)\n",
    "# Control Warning Message\n",
    "warnings.filterwarnings(action='ignore')\n",
    "writer = SummaryWriter('runs')"
   ]
  },
  {
   "cell_type": "markdown",
   "id": "941cbcf6-f622-4bc6-a913-2eadb95e3cd5",
   "metadata": {},
   "source": [
    "# Preparing Data"
   ]
  },
  {
   "cell_type": "code",
   "execution_count": 2,
   "id": "effd1fea-9c77-4490-b8bc-5c7144579c2a",
   "metadata": {},
   "outputs": [],
   "source": [
    "dataset_dir = '~/dataset'\n",
    "train_data = datasets.MNIST(root=dataset_dir, train=True,  download=True, transform=ToTensor())\n",
    "test_data  = datasets.MNIST(root=dataset_dir, train=False, download=True, transform=ToTensor())"
   ]
  },
  {
   "cell_type": "markdown",
   "id": "a343056c-e0cb-4ea6-bb3f-611382f0c3a4",
   "metadata": {},
   "source": [
    "# Data Loader"
   ]
  },
  {
   "cell_type": "code",
   "execution_count": 3,
   "id": "91087ef7-332d-488c-87d7-a10067486578",
   "metadata": {},
   "outputs": [],
   "source": [
    "batch_size = 64\n",
    "\n",
    "train_dataloader = DataLoader(train_data, batch_size=batch_size)\n",
    "test_dataloader  = DataLoader(test_data,  batch_size=batch_size)"
   ]
  },
  {
   "cell_type": "markdown",
   "id": "2529cf8f-dda2-4725-beb0-6ca8402b15b1",
   "metadata": {},
   "source": [
    "# Model Build-up"
   ]
  },
  {
   "cell_type": "code",
   "execution_count": 4,
   "id": "1b9b2d95-20af-4df3-878e-ca82041a537b",
   "metadata": {},
   "outputs": [
    {
     "name": "stdout",
     "output_type": "stream",
     "text": [
      "Using cpu device\n",
      "NN(\n",
      "  (flatten): Flatten(start_dim=1, end_dim=-1)\n",
      "  (fc1): Linear(in_features=784, out_features=16, bias=True)\n",
      "  (fc2): Linear(in_features=16, out_features=16, bias=True)\n",
      "  (fc3): Linear(in_features=16, out_features=10, bias=True)\n",
      ")\n"
     ]
    }
   ],
   "source": [
    "# device = \"cuda\" if torch.cuda.is_available() else \"cpu\"\n",
    "device = 'cpu'\n",
    "print(\"Using {} device\".format(device))\n",
    "\n",
    "class NN(nn.Module):\n",
    "\tdef __init__(self):\n",
    "\t\tsuper(NN, self).__init__()\n",
    "\t\tself.flatten = nn.Flatten()\n",
    "\t\tself.fc1 = nn.Linear(28*28, 16)\n",
    "\t\tself.fc2 = nn.Linear(16, 16)\n",
    "\t\tself.fc3 = nn.Linear(16, 10)\n",
    "\n",
    "\tdef forward(self, x):\n",
    "\t\tx = self.flatten(x)\n",
    "\t\tx = F.relu(self.fc1(x))\n",
    "\t\tx = F.relu(self.fc2(x))\n",
    "\t\tlogits = self.fc3(x)\n",
    "\t\treturn logits\n",
    "\t\n",
    "model = NN().to(device)\n",
    "print(model)"
   ]
  },
  {
   "cell_type": "markdown",
   "id": "70d5594b-2627-48c0-82a6-436807a024c7",
   "metadata": {},
   "source": [
    "# 훈련(Training) 전 모델 사용"
   ]
  },
  {
   "cell_type": "code",
   "execution_count": 5,
   "id": "5fdb3343-528b-46e1-9c90-8bfe3020bb25",
   "metadata": {},
   "outputs": [
    {
     "data": {
      "text/plain": [
       "tensor([[  0,   0,   0,   0,   0,   0,   0,   0,   0,   0,   0,   0,   0,   0,   0,   0,   0,   0,   0,   0,   0,   0,   0,   0,   0,   0,   0,   0],\n",
       "        [  0,   0,   0,   0,   0,   0,   0,   0,   0,   0,   0,   0,   0,   0,   0,   0,   0,   0,   0,   0,   0,   0,   0,   0,   0,   0,   0,   0],\n",
       "        [  0,   0,   0,   0,   0,   0,   0,   0,   0,   0,   0,   0,   0,   0,   0,   0,   0,   0,   0,   0,   0,   0,   0,   0,   0,   0,   0,   0],\n",
       "        [  0,   0,   0,   0,   0,   0,   0,   0,   0,   0,   0,   0,   0,   0,   0,   0,   0,   0,   0,   0,   0,   0,   0,   0,   0,   0,   0,   0],\n",
       "        [  0,   0,   0,   0,   0,   0,   0,   0,   0,   0,   0,   0,   0,   0,   0,   0,   0,   0,   0,   0,   0,   0,   0,   0,   0,   0,   0,   0],\n",
       "        [  0,   0,   0,   0,   0,   0,   0,   0,   0,   0,   0,   0,   0,   0,   0,   0,   0,   0, 124, 253, 255,  63,   0,   0,   0,   0,   0,   0],\n",
       "        [  0,   0,   0,   0,   0,   0,   0,   0,   0,   0,   0,   0,   0,   0,   0,   0,   0,  96, 244, 251, 253,  62,   0,   0,   0,   0,   0,   0],\n",
       "        [  0,   0,   0,   0,   0,   0,   0,   0,   0,   0,   0,   0,   0,   0,   0,   0,   0, 127, 251, 251, 253,  62,   0,   0,   0,   0,   0,   0],\n",
       "        [  0,   0,   0,   0,   0,   0,   0,   0,   0,   0,   0,   0,   0,   0,   0,   0,  68, 236, 251, 211,  31,   8,   0,   0,   0,   0,   0,   0],\n",
       "        [  0,   0,   0,   0,   0,   0,   0,   0,   0,   0,   0,   0,   0,   0,   0,  60, 228, 251, 251,  94,   0,   0,   0,   0,   0,   0,   0,   0],\n",
       "        [  0,   0,   0,   0,   0,   0,   0,   0,   0,   0,   0,   0,   0,   0,   0, 155, 253, 253, 189,   0,   0,   0,   0,   0,   0,   0,   0,   0],\n",
       "        [  0,   0,   0,   0,   0,   0,   0,   0,   0,   0,   0,   0,   0,   0,  20, 253, 251, 235,  66,   0,   0,   0,   0,   0,   0,   0,   0,   0],\n",
       "        [  0,   0,   0,   0,   0,   0,   0,   0,   0,   0,   0,   0,   0,  32, 205, 253, 251, 126,   0,   0,   0,   0,   0,   0,   0,   0,   0,   0],\n",
       "        [  0,   0,   0,   0,   0,   0,   0,   0,   0,   0,   0,   0,   0, 104, 251, 253, 184,  15,   0,   0,   0,   0,   0,   0,   0,   0,   0,   0],\n",
       "        [  0,   0,   0,   0,   0,   0,   0,   0,   0,   0,   0,   0,  80, 240, 251, 193,  23,   0,   0,   0,   0,   0,   0,   0,   0,   0,   0,   0],\n",
       "        [  0,   0,   0,   0,   0,   0,   0,   0,   0,   0,   0,  32, 253, 253, 253, 159,   0,   0,   0,   0,   0,   0,   0,   0,   0,   0,   0,   0],\n",
       "        [  0,   0,   0,   0,   0,   0,   0,   0,   0,   0,   0, 151, 251, 251, 251,  39,   0,   0,   0,   0,   0,   0,   0,   0,   0,   0,   0,   0],\n",
       "        [  0,   0,   0,   0,   0,   0,   0,   0,   0,   0,  48, 221, 251, 251, 172,   0,   0,   0,   0,   0,   0,   0,   0,   0,   0,   0,   0,   0],\n",
       "        [  0,   0,   0,   0,   0,   0,   0,   0,   0,   0, 234, 251, 251, 196,  12,   0,   0,   0,   0,   0,   0,   0,   0,   0,   0,   0,   0,   0],\n",
       "        [  0,   0,   0,   0,   0,   0,   0,   0,   0,   0, 253, 251, 251,  89,   0,   0,   0,   0,   0,   0,   0,   0,   0,   0,   0,   0,   0,   0],\n",
       "        [  0,   0,   0,   0,   0,   0,   0,   0,   0, 159, 255, 253, 253,  31,   0,   0,   0,   0,   0,   0,   0,   0,   0,   0,   0,   0,   0,   0],\n",
       "        [  0,   0,   0,   0,   0,   0,   0,   0,  48, 228, 253, 247, 140,   8,   0,   0,   0,   0,   0,   0,   0,   0,   0,   0,   0,   0,   0,   0],\n",
       "        [  0,   0,   0,   0,   0,   0,   0,   0,  64, 251, 253, 220,   0,   0,   0,   0,   0,   0,   0,   0,   0,   0,   0,   0,   0,   0,   0,   0],\n",
       "        [  0,   0,   0,   0,   0,   0,   0,   0,  64, 251, 253, 220,   0,   0,   0,   0,   0,   0,   0,   0,   0,   0,   0,   0,   0,   0,   0,   0],\n",
       "        [  0,   0,   0,   0,   0,   0,   0,   0,  24, 193, 253, 220,   0,   0,   0,   0,   0,   0,   0,   0,   0,   0,   0,   0,   0,   0,   0,   0],\n",
       "        [  0,   0,   0,   0,   0,   0,   0,   0,   0,   0,   0,   0,   0,   0,   0,   0,   0,   0,   0,   0,   0,   0,   0,   0,   0,   0,   0,   0],\n",
       "        [  0,   0,   0,   0,   0,   0,   0,   0,   0,   0,   0,   0,   0,   0,   0,   0,   0,   0,   0,   0,   0,   0,   0,   0,   0,   0,   0,   0],\n",
       "        [  0,   0,   0,   0,   0,   0,   0,   0,   0,   0,   0,   0,   0,   0,   0,   0,   0,   0,   0,   0,   0,   0,   0,   0,   0,   0,   0,   0]], dtype=torch.uint8)"
      ]
     },
     "execution_count": 5,
     "metadata": {},
     "output_type": "execute_result"
    }
   ],
   "source": [
    "train_dataloader.dataset.data[3]"
   ]
  },
  {
   "cell_type": "code",
   "execution_count": 6,
   "id": "70763df8-c375-4b88-ab24-347c1fc02588",
   "metadata": {},
   "outputs": [
    {
     "data": {
      "text/plain": [
       "torch.Size([64, 1, 28, 28])"
      ]
     },
     "execution_count": 6,
     "metadata": {},
     "output_type": "execute_result"
    }
   ],
   "source": [
    "images, labels = next(iter(train_dataloader))\n",
    "images.size()"
   ]
  },
  {
   "cell_type": "code",
   "execution_count": 7,
   "id": "7bcd7c8d-d753-4f89-b1f5-82a72547ebe0",
   "metadata": {},
   "outputs": [
    {
     "data": {
      "text/plain": [
       "torch.Size([1, 28, 28])"
      ]
     },
     "execution_count": 7,
     "metadata": {},
     "output_type": "execute_result"
    }
   ],
   "source": [
    "a_input = images[0]\n",
    "a_input.size()"
   ]
  },
  {
   "cell_type": "code",
   "execution_count": 8,
   "id": "f41d0833-251f-4427-805c-03b13edfbd77",
   "metadata": {},
   "outputs": [
    {
     "name": "stdout",
     "output_type": "stream",
     "text": [
      "torch.Size([64, 784])\n",
      "torch.Size([16, 784])\n"
     ]
    }
   ],
   "source": [
    "print(model.flatten(images).size())\n",
    "print(model.fc1.weight.size())"
   ]
  },
  {
   "cell_type": "code",
   "execution_count": 9,
   "id": "ed72604b-6eb6-426d-8afd-595262c64cfd",
   "metadata": {},
   "outputs": [
    {
     "data": {
      "text/plain": [
       "tensor([[ 0.1085,  0.0798, -0.2707,  0.0119, -0.0894,  0.0932, -0.0477,  0.1152, -0.2524, -0.3236,  0.0881, -0.4643,  0.2018, -0.0513,  0.3254, -0.0665]], grad_fn=<AddmmBackward>)"
      ]
     },
     "execution_count": 9,
     "metadata": {},
     "output_type": "execute_result"
    }
   ],
   "source": [
    "model.fc1(model.flatten(a_input))"
   ]
  },
  {
   "cell_type": "code",
   "execution_count": 10,
   "id": "4d975a67-e8a4-401e-a4d7-7ab95e160345",
   "metadata": {},
   "outputs": [
    {
     "data": {
      "text/plain": [
       "torch.Size([1, 784])"
      ]
     },
     "execution_count": 10,
     "metadata": {},
     "output_type": "execute_result"
    }
   ],
   "source": [
    "model.flatten(a_input).size()"
   ]
  },
  {
   "cell_type": "code",
   "execution_count": 11,
   "id": "06082c75-79c8-4f2f-a388-f2396d0f378e",
   "metadata": {},
   "outputs": [
    {
     "data": {
      "text/plain": [
       "torch.Size([1, 784])"
      ]
     },
     "execution_count": 11,
     "metadata": {},
     "output_type": "execute_result"
    }
   ],
   "source": [
    "a_input.view(-1, 28*28).size()"
   ]
  },
  {
   "cell_type": "code",
   "execution_count": 12,
   "id": "61e1e823-07db-481c-99c6-8f4e85554d64",
   "metadata": {},
   "outputs": [
    {
     "data": {
      "text/plain": [
       "torch.Size([16, 784])"
      ]
     },
     "execution_count": 12,
     "metadata": {},
     "output_type": "execute_result"
    }
   ],
   "source": [
    "model.fc1.weight.size()"
   ]
  },
  {
   "cell_type": "code",
   "execution_count": 13,
   "id": "1774da61-3b89-430a-b3ad-253704683c16",
   "metadata": {},
   "outputs": [
    {
     "data": {
      "text/plain": [
       "torch.Size([16])"
      ]
     },
     "execution_count": 13,
     "metadata": {},
     "output_type": "execute_result"
    }
   ],
   "source": [
    "model.fc1.bias.size()"
   ]
  },
  {
   "cell_type": "code",
   "execution_count": 14,
   "id": "e327db01-6853-474d-9916-71acc9e32725",
   "metadata": {},
   "outputs": [
    {
     "name": "stdout",
     "output_type": "stream",
     "text": [
      "tensor([[ 0.1085,  0.0798, -0.2707,  0.0119, -0.0894,  0.0932, -0.0477,  0.1152, -0.2524, -0.3236,  0.0881, -0.4643,  0.2018, -0.0513,  0.3254, -0.0665]], grad_fn=<AddBackward0>)\n"
     ]
    },
    {
     "data": {
      "text/plain": [
       "True"
      ]
     },
     "execution_count": 14,
     "metadata": {},
     "output_type": "execute_result"
    }
   ],
   "source": [
    "layer_fc1 = torch.matmul(model.flatten(a_input), model.fc1.weight.t()) + model.fc1.bias\n",
    "print(layer_fc1)\n",
    "torch.equal(layer_fc1, model.fc1(model.flatten(a_input)))"
   ]
  },
  {
   "cell_type": "code",
   "execution_count": 15,
   "id": "bae36733-1b6d-417d-9c43-95c64b819e6b",
   "metadata": {},
   "outputs": [
    {
     "name": "stdout",
     "output_type": "stream",
     "text": [
      "tensor([[ 0.1085,  0.0798, -0.2707,  0.0119, -0.0894,  0.0932, -0.0477,  0.1152, -0.2524, -0.3236,  0.0881, -0.4643,  0.2018, -0.0513,  0.3254, -0.0665]], grad_fn=<AddBackward0>)\n"
     ]
    },
    {
     "data": {
      "text/plain": [
       "True"
      ]
     },
     "execution_count": 15,
     "metadata": {},
     "output_type": "execute_result"
    }
   ],
   "source": [
    "layer_fc1 = torch.matmul(a_input.view(-1, 28*28), model.fc1.weight.t()) + model.fc1.bias\n",
    "print(layer_fc1)\n",
    "torch.equal(layer_fc1, model.fc1(model.flatten(a_input)))"
   ]
  },
  {
   "cell_type": "code",
   "execution_count": 16,
   "id": "7f8f829d-87b5-4e74-8022-1f70aacf73d4",
   "metadata": {},
   "outputs": [],
   "source": [
    "layer_fc1 = torch.matmul(a_input.view(-1, 28*28), model.fc1.weight.t()) + model.fc1.bias\n",
    "layer_fc2 = torch.matmul(F.relu(layer_fc1), model.fc2.weight.t()) + model.fc2.bias\n",
    "layer_fc3 = torch.matmul(F.relu(layer_fc2), model.fc3.weight.t()) + model.fc3.bias"
   ]
  },
  {
   "cell_type": "code",
   "execution_count": 17,
   "id": "81ccf5d9-aa6d-4337-ba9b-7975822391c7",
   "metadata": {},
   "outputs": [
    {
     "data": {
      "text/plain": [
       "tensor([[-0.2329,  0.0464,  0.0022,  0.1612,  0.0521, -0.1067, -0.2053, -0.0629, -0.1396,  0.0975]], grad_fn=<AddmmBackward>)"
      ]
     },
     "execution_count": 17,
     "metadata": {},
     "output_type": "execute_result"
    }
   ],
   "source": [
    "model(a_input)"
   ]
  },
  {
   "cell_type": "code",
   "execution_count": 18,
   "id": "5368e700-e67e-4609-ad6c-2c2787513f18",
   "metadata": {},
   "outputs": [
    {
     "data": {
      "text/plain": [
       "tensor([[-0.2329,  0.0464,  0.0022,  0.1612,  0.0521, -0.1067, -0.2053, -0.0629, -0.1396,  0.0975]], grad_fn=<AddBackward0>)"
      ]
     },
     "execution_count": 18,
     "metadata": {},
     "output_type": "execute_result"
    }
   ],
   "source": [
    "layer_fc3"
   ]
  },
  {
   "cell_type": "code",
   "execution_count": 19,
   "id": "04876bc1-35b8-45ac-bf46-6ada0789dad6",
   "metadata": {},
   "outputs": [
    {
     "data": {
      "text/plain": [
       "torch.Size([1, 10])"
      ]
     },
     "execution_count": 19,
     "metadata": {},
     "output_type": "execute_result"
    }
   ],
   "source": [
    "layer_fc3.size()"
   ]
  },
  {
   "cell_type": "code",
   "execution_count": 20,
   "id": "b644d246-11c9-433b-af95-daf924dd82ae",
   "metadata": {},
   "outputs": [
    {
     "data": {
      "text/plain": [
       "True"
      ]
     },
     "execution_count": 20,
     "metadata": {},
     "output_type": "execute_result"
    }
   ],
   "source": [
    "torch.equal(layer_fc3, model(a_input))"
   ]
  },
  {
   "cell_type": "markdown",
   "id": "ab2888fa-1d10-4356-843e-97486ff1cdde",
   "metadata": {},
   "source": [
    "# Define Loss Function & Optimizer"
   ]
  },
  {
   "cell_type": "code",
   "execution_count": 21,
   "id": "6cb8ec62-155d-4ac0-8a87-2339c0b3027c",
   "metadata": {},
   "outputs": [],
   "source": [
    "loss_func = nn.CrossEntropyLoss()\n",
    "optimizer = torch.optim.SGD(model.parameters(), lr=1e-2)\n",
    "train_loss = 0\n",
    "test_loss = 0"
   ]
  },
  {
   "cell_type": "code",
   "execution_count": 22,
   "id": "7e85580c-4bc7-4fb9-aaa8-c799e54f0215",
   "metadata": {},
   "outputs": [
    {
     "data": {
      "text/plain": [
       "tensor(5)"
      ]
     },
     "execution_count": 22,
     "metadata": {},
     "output_type": "execute_result"
    }
   ],
   "source": [
    "labels[0]"
   ]
  },
  {
   "cell_type": "code",
   "execution_count": 23,
   "id": "4753bf27-eb5e-4682-bff8-44247b3f0b4e",
   "metadata": {},
   "outputs": [
    {
     "data": {
      "text/plain": [
       "torch.Size([64, 10])"
      ]
     },
     "execution_count": 23,
     "metadata": {},
     "output_type": "execute_result"
    }
   ],
   "source": [
    "model(images).size()"
   ]
  },
  {
   "cell_type": "code",
   "execution_count": 24,
   "id": "9124ecba-f6ca-4eab-9ae4-b4fe518284c8",
   "metadata": {},
   "outputs": [
    {
     "data": {
      "text/plain": [
       "torch.Size([64])"
      ]
     },
     "execution_count": 24,
     "metadata": {},
     "output_type": "execute_result"
    }
   ],
   "source": [
    "labels.size()"
   ]
  },
  {
   "cell_type": "code",
   "execution_count": 25,
   "id": "2be2846a-5037-419e-bde0-e360cbc04d39",
   "metadata": {},
   "outputs": [
    {
     "data": {
      "text/plain": [
       "tensor(2.2935, grad_fn=<NllLossBackward>)"
      ]
     },
     "execution_count": 25,
     "metadata": {},
     "output_type": "execute_result"
    }
   ],
   "source": [
    "loss_func(model(images), labels)"
   ]
  },
  {
   "cell_type": "code",
   "execution_count": 26,
   "id": "f30b5e14-9c9b-43b6-8be1-ccbba495d076",
   "metadata": {},
   "outputs": [
    {
     "data": {
      "text/plain": [
       "torch.Size([1, 10])"
      ]
     },
     "execution_count": 26,
     "metadata": {},
     "output_type": "execute_result"
    }
   ],
   "source": [
    "layer_fc3.size()"
   ]
  },
  {
   "cell_type": "code",
   "execution_count": 27,
   "id": "5059fc89-d677-4169-b6a8-2288affabc0a",
   "metadata": {},
   "outputs": [
    {
     "data": {
      "text/plain": [
       "torch.Size([])"
      ]
     },
     "execution_count": 27,
     "metadata": {},
     "output_type": "execute_result"
    }
   ],
   "source": [
    "labels[0].size()"
   ]
  },
  {
   "cell_type": "code",
   "execution_count": 28,
   "id": "75328625-b907-485f-86b0-4f9e94e1a95f",
   "metadata": {},
   "outputs": [
    {
     "data": {
      "text/plain": [
       "torch.Size([1])"
      ]
     },
     "execution_count": 28,
     "metadata": {},
     "output_type": "execute_result"
    }
   ],
   "source": [
    "labels[0].view(1).size()"
   ]
  },
  {
   "cell_type": "code",
   "execution_count": 29,
   "id": "696e8548-e81a-4b6c-8259-151c5054576b",
   "metadata": {},
   "outputs": [
    {
     "data": {
      "text/plain": [
       "tensor(2.3783, grad_fn=<NllLossBackward>)"
      ]
     },
     "execution_count": 29,
     "metadata": {},
     "output_type": "execute_result"
    }
   ],
   "source": [
    "loss_func(layer_fc3, labels[0].view(1))"
   ]
  },
  {
   "cell_type": "code",
   "execution_count": 30,
   "id": "b4bb2a47-909a-4868-9cab-82fb31c2a7a1",
   "metadata": {},
   "outputs": [],
   "source": [
    "def myCrossEntropyLoss(logits, labels):\n",
    "\tcee = 0\n",
    "\tfor idx, logit in enumerate(logits):\n",
    "\t\ty  = labels[idx]\n",
    "\t\ty_ = F.softmax(logit)[y]\n",
    "\t\tcee = cee - torch.log(y_)/len(logits)\n",
    "\tprint(f'Loss: {cee}')\n",
    "\treturn cee"
   ]
  },
  {
   "cell_type": "code",
   "execution_count": 31,
   "id": "b32824c7-dedb-4cc7-a120-4e1b767147b6",
   "metadata": {},
   "outputs": [
    {
     "name": "stdout",
     "output_type": "stream",
     "text": [
      "Loss: 2.378310203552246\n"
     ]
    },
    {
     "data": {
      "text/plain": [
       "True"
      ]
     },
     "execution_count": 31,
     "metadata": {},
     "output_type": "execute_result"
    }
   ],
   "source": [
    "cee = myCrossEntropyLoss(layer_fc3, labels)\n",
    "torch.equal(cee, loss_func(layer_fc3, labels[0].view(1)))"
   ]
  },
  {
   "cell_type": "code",
   "execution_count": 32,
   "id": "8ade0340-7ab6-4d50-bab1-2d0f20316f25",
   "metadata": {},
   "outputs": [],
   "source": [
    "loss_func = nn.CrossEntropyLoss()\n",
    "optimizer = torch.optim.SGD(model.parameters(), lr=1e-2)\n",
    "optimizer.zero_grad()"
   ]
  },
  {
   "cell_type": "code",
   "execution_count": 33,
   "id": "b745090e-98cd-4089-8d2e-550c803c8607",
   "metadata": {},
   "outputs": [],
   "source": [
    "pred = model(images[0])\n",
    "loss = loss_func(pred, labels[0].view(1))"
   ]
  },
  {
   "cell_type": "code",
   "execution_count": 34,
   "id": "0c8e0abc-e306-4aaf-bb05-ba852584e22c",
   "metadata": {},
   "outputs": [],
   "source": [
    "model.fc3.weight.grad"
   ]
  },
  {
   "cell_type": "code",
   "execution_count": 35,
   "id": "761b8f21-6109-4952-b59a-6859cbf2a354",
   "metadata": {},
   "outputs": [],
   "source": [
    "loss.backward()"
   ]
  },
  {
   "cell_type": "code",
   "execution_count": 36,
   "id": "9dc96759-2c77-4d02-beb6-ff034366dd0b",
   "metadata": {},
   "outputs": [
    {
     "data": {
      "text/plain": [
       "tensor([[ 0.0000,  0.0169,  0.0053,  0.0000,  0.0063,  0.0000,  0.0025,  0.0070,  0.0048,  0.0056,  0.0000,  0.0223,  0.0132,  0.0000,  0.0000,  0.0102],\n",
       "        [ 0.0000,  0.0223,  0.0070,  0.0000,  0.0083,  0.0000,  0.0034,  0.0093,  0.0063,  0.0074,  0.0000,  0.0294,  0.0174,  0.0000,  0.0000,  0.0135],\n",
       "        [ 0.0000,  0.0214,  0.0067,  0.0000,  0.0080,  0.0000,  0.0032,  0.0089,  0.0060,  0.0071,  0.0000,  0.0282,  0.0167,  0.0000,  0.0000,  0.0129],\n",
       "        [ 0.0000,  0.0250,  0.0079,  0.0000,  0.0093,  0.0000,  0.0038,  0.0104,  0.0071,  0.0083,  0.0000,  0.0330,  0.0195,  0.0000,  0.0000,  0.0151],\n",
       "        [ 0.0000,  0.0225,  0.0071,  0.0000,  0.0084,  0.0000,  0.0034,  0.0094,  0.0064,  0.0074,  0.0000,  0.0296,  0.0175,  0.0000,  0.0000,  0.0136],\n",
       "        [-0.0000, -0.1875, -0.0589, -0.0000, -0.0700, -0.0000, -0.0282, -0.0781, -0.0531, -0.0620, -0.0000, -0.2471, -0.1462, -0.0000, -0.0000, -0.1133],\n",
       "        [ 0.0000,  0.0174,  0.0055,  0.0000,  0.0065,  0.0000,  0.0026,  0.0072,  0.0049,  0.0057,  0.0000,  0.0229,  0.0135,  0.0000,  0.0000,  0.0105],\n",
       "        [ 0.0000,  0.0200,  0.0063,  0.0000,  0.0075,  0.0000,  0.0030,  0.0083,  0.0057,  0.0066,  0.0000,  0.0264,  0.0156,  0.0000,  0.0000,  0.0121],\n",
       "        [ 0.0000,  0.0185,  0.0058,  0.0000,  0.0069,  0.0000,  0.0028,  0.0077,  0.0052,  0.0061,  0.0000,  0.0244,  0.0145,  0.0000,  0.0000,  0.0112],\n",
       "        [ 0.0000,  0.0235,  0.0074,  0.0000,  0.0088,  0.0000,  0.0035,  0.0098,  0.0067,  0.0078,  0.0000,  0.0310,  0.0183,  0.0000,  0.0000,  0.0142]])"
      ]
     },
     "execution_count": 36,
     "metadata": {},
     "output_type": "execute_result"
    }
   ],
   "source": [
    "model.fc3.weight.grad"
   ]
  },
  {
   "cell_type": "code",
   "execution_count": 37,
   "id": "191af2a7-575d-4e93-ac0b-6886fdc12fca",
   "metadata": {},
   "outputs": [
    {
     "data": {
      "text/plain": [
       "tensor([[ 0.1750, -0.1287, -0.0902,  0.2107, -0.0483, -0.0139, -0.1286,  0.2436,  0.0267,  0.0610,  0.1243,  0.0817, -0.2035, -0.2417, -0.1590,  0.0428],\n",
       "        [ 0.1264,  0.0822,  0.2236, -0.0562,  0.0035,  0.0723, -0.2063,  0.0979,  0.1763, -0.1489,  0.1637,  0.2431, -0.1810,  0.1353,  0.2021,  0.0085],\n",
       "        [-0.0924,  0.0389, -0.0249,  0.1632, -0.2444,  0.1350, -0.2495, -0.1282, -0.0348,  0.0310,  0.1813, -0.2181, -0.1959, -0.1994, -0.0335,  0.0327],\n",
       "        [-0.2007,  0.1495, -0.2259,  0.0909, -0.0700,  0.0561, -0.0032,  0.0201, -0.0749, -0.2481, -0.1285,  0.2216,  0.2127,  0.0663,  0.1453, -0.1051],\n",
       "        [-0.0071, -0.2253, -0.0555, -0.2311,  0.0015, -0.1449,  0.2466, -0.0707,  0.0715,  0.2438, -0.0492,  0.0046,  0.0418, -0.0353,  0.1927,  0.1976],\n",
       "        [ 0.0549, -0.2247, -0.2277, -0.0884, -0.1646, -0.1301, -0.1878,  0.1994,  0.1693,  0.1127, -0.1307, -0.2377,  0.0484,  0.1716,  0.1420, -0.0022],\n",
       "        [-0.1298, -0.0939,  0.0607,  0.2299, -0.1827, -0.0609,  0.2212,  0.1813, -0.0307,  0.0889, -0.1519, -0.0774,  0.2140,  0.2285, -0.1400, -0.0098],\n",
       "        [ 0.0201, -0.0606, -0.1120,  0.2021,  0.0624, -0.0574,  0.0556, -0.1681, -0.1609,  0.1162,  0.1876, -0.1077,  0.1970, -0.2461,  0.1523,  0.1513],\n",
       "        [-0.2493, -0.0611, -0.2345,  0.2398,  0.1668,  0.2495, -0.1280, -0.1403, -0.1210, -0.1574,  0.1948, -0.0787,  0.0912, -0.0187,  0.0495,  0.0809],\n",
       "        [-0.0679,  0.1680, -0.0779, -0.1360,  0.0913,  0.2179,  0.2200, -0.2203, -0.1886, -0.0707,  0.1805, -0.0085, -0.0190,  0.2489,  0.2404,  0.2347]])"
      ]
     },
     "execution_count": 37,
     "metadata": {},
     "output_type": "execute_result"
    }
   ],
   "source": [
    "before_training = model.fc3.weight.clone().detach()\n",
    "before_training"
   ]
  },
  {
   "cell_type": "code",
   "execution_count": 38,
   "id": "325fdfc4-5560-407b-b204-ea5cff711e59",
   "metadata": {},
   "outputs": [],
   "source": [
    "optimizer.step()"
   ]
  },
  {
   "cell_type": "code",
   "execution_count": 39,
   "id": "5ac38dea-e8f6-4026-8e11-e9da81c63614",
   "metadata": {},
   "outputs": [
    {
     "data": {
      "text/plain": [
       "Parameter containing:\n",
       "tensor([[ 0.1750, -0.1289, -0.0902,  0.2107, -0.0484, -0.0139, -0.1287,  0.2436,  0.0267,  0.0609,  0.1243,  0.0815, -0.2036, -0.2417, -0.1590,  0.0427],\n",
       "        [ 0.1264,  0.0820,  0.2235, -0.0562,  0.0034,  0.0723, -0.2064,  0.0978,  0.1763, -0.1490,  0.1637,  0.2428, -0.1812,  0.1353,  0.2021,  0.0084],\n",
       "        [-0.0924,  0.0387, -0.0250,  0.1632, -0.2445,  0.1350, -0.2496, -0.1283, -0.0349,  0.0310,  0.1813, -0.2184, -0.1961, -0.1994, -0.0335,  0.0326],\n",
       "        [-0.2007,  0.1493, -0.2260,  0.0909, -0.0701,  0.0561, -0.0032,  0.0200, -0.0750, -0.2482, -0.1285,  0.2213,  0.2125,  0.0663,  0.1453, -0.1052],\n",
       "        [-0.0071, -0.2255, -0.0556, -0.2311,  0.0014, -0.1449,  0.2466, -0.0708,  0.0715,  0.2437, -0.0492,  0.0043,  0.0416, -0.0353,  0.1927,  0.1975],\n",
       "        [ 0.0549, -0.2228, -0.2271, -0.0884, -0.1639, -0.1301, -0.1875,  0.2001,  0.1699,  0.1134, -0.1307, -0.2352,  0.0499,  0.1716,  0.1420, -0.0011],\n",
       "        [-0.1298, -0.0941,  0.0607,  0.2299, -0.1827, -0.0609,  0.2212,  0.1812, -0.0308,  0.0888, -0.1519, -0.0777,  0.2139,  0.2285, -0.1400, -0.0099],\n",
       "        [ 0.0201, -0.0608, -0.1120,  0.2021,  0.0623, -0.0574,  0.0556, -0.1682, -0.1610,  0.1161,  0.1876, -0.1079,  0.1968, -0.2461,  0.1523,  0.1512],\n",
       "        [-0.2493, -0.0613, -0.2345,  0.2398,  0.1667,  0.2495, -0.1281, -0.1404, -0.1211, -0.1574,  0.1948, -0.0789,  0.0911, -0.0187,  0.0495,  0.0808],\n",
       "        [-0.0679,  0.1677, -0.0780, -0.1360,  0.0912,  0.2179,  0.2200, -0.2204, -0.1887, -0.0707,  0.1805, -0.0088, -0.0192,  0.2489,  0.2404,  0.2346]], requires_grad=True)"
      ]
     },
     "execution_count": 39,
     "metadata": {},
     "output_type": "execute_result"
    }
   ],
   "source": [
    "model.fc3.weight"
   ]
  },
  {
   "cell_type": "code",
   "execution_count": 40,
   "id": "34f16cca-6e9c-454d-be1e-142d8de01215",
   "metadata": {},
   "outputs": [
    {
     "data": {
      "text/plain": [
       "True"
      ]
     },
     "execution_count": 40,
     "metadata": {},
     "output_type": "execute_result"
    }
   ],
   "source": [
    "torch.equal(before_training[0][0], model.fc3.weight[0][0])"
   ]
  },
  {
   "cell_type": "code",
   "execution_count": 41,
   "id": "b3240bdb-e634-425b-aaf1-4c8d031942a1",
   "metadata": {},
   "outputs": [
    {
     "data": {
      "text/plain": [
       "[{'params': [Parameter containing:\n",
       "   tensor([[-0.0297, -0.0256,  0.0351,  ..., -0.0076, -0.0124,  0.0043],\n",
       "           [ 0.0241, -0.0155,  0.0266,  ..., -0.0235,  0.0289,  0.0357],\n",
       "           [ 0.0023,  0.0281,  0.0080,  ...,  0.0141, -0.0080,  0.0247],\n",
       "           ...,\n",
       "           [ 0.0027, -0.0152, -0.0005,  ..., -0.0141,  0.0264,  0.0188],\n",
       "           [ 0.0180,  0.0305,  0.0340,  ..., -0.0047, -0.0077,  0.0248],\n",
       "           [ 0.0329,  0.0333,  0.0189,  ..., -0.0354,  0.0121, -0.0170]], requires_grad=True),\n",
       "   Parameter containing:\n",
       "   tensor([ 0.0348,  0.0227,  0.0091,  0.0110, -0.0347,  0.0225,  0.0286,  0.0071,  0.0270,  0.0123,  0.0253,  0.0131,  0.0258,  0.0003,  0.0167,  0.0351], requires_grad=True),\n",
       "   Parameter containing:\n",
       "   tensor([[ 0.2184, -0.1006,  0.1165, -0.2377,  0.0142, -0.2131, -0.2422,  0.2175,  0.0339, -0.2054, -0.1353, -0.1485, -0.2431,  0.0934, -0.0510, -0.0994],\n",
       "           [ 0.1819,  0.1668, -0.1939, -0.2437, -0.0299,  0.1234,  0.0464,  0.1891, -0.0769, -0.0777, -0.1835, -0.0356,  0.0128, -0.2119, -0.0248,  0.0411],\n",
       "           [-0.0832, -0.0767,  0.0784, -0.0953,  0.0567, -0.2290, -0.1040,  0.0962, -0.2313, -0.1255,  0.1702,  0.1200,  0.1984, -0.1083, -0.2074,  0.0485],\n",
       "           [ 0.0022,  0.0653,  0.0012, -0.0589,  0.1391, -0.0152, -0.1603,  0.0840, -0.1372, -0.0003,  0.0595, -0.0631, -0.1329, -0.1448, -0.1216,  0.0251],\n",
       "           [ 0.2455, -0.1378,  0.2143, -0.0496, -0.0813,  0.1162,  0.2274,  0.2117,  0.1836, -0.2283, -0.0695, -0.0655,  0.0500, -0.0449, -0.1266, -0.1952],\n",
       "           [ 0.0427, -0.2159,  0.2420,  0.0059, -0.1620, -0.2406, -0.1257, -0.1673,  0.1561,  0.0367, -0.0396, -0.1141, -0.1111, -0.2372, -0.0965,  0.2406],\n",
       "           [-0.0145, -0.1837,  0.0924,  0.1154,  0.0546,  0.2371,  0.0157,  0.0740, -0.1143, -0.0275, -0.0370,  0.1398, -0.1620, -0.1036,  0.0630,  0.2166],\n",
       "           [-0.1795,  0.1483, -0.0220, -0.1377,  0.0537, -0.1998, -0.2034, -0.0070,  0.2420,  0.0330, -0.1145, -0.0624, -0.1986, -0.2477,  0.0797, -0.0675],\n",
       "           [ 0.1426,  0.0322, -0.1813, -0.1221, -0.0979,  0.0151, -0.0775,  0.0721, -0.2092, -0.1910,  0.0045, -0.0620,  0.2493,  0.0770,  0.0264, -0.0798],\n",
       "           [-0.1150, -0.2460, -0.1860,  0.0880,  0.0938, -0.2489, -0.0338,  0.1150,  0.2377,  0.1402,  0.0441, -0.0863, -0.2320, -0.0394,  0.0649, -0.2044],\n",
       "           [-0.1590, -0.1976, -0.1613, -0.1002,  0.2394, -0.0102,  0.0847, -0.1381, -0.1468, -0.1654,  0.1411,  0.2326,  0.1768,  0.1649, -0.1649, -0.1701],\n",
       "           [-0.0267, -0.1845, -0.0985,  0.2170,  0.0024, -0.1536, -0.0311,  0.0319, -0.0951,  0.2492,  0.1073,  0.2200,  0.0008, -0.0596,  0.2079, -0.1849],\n",
       "           [ 0.2283,  0.0667,  0.0193, -0.1887, -0.1308,  0.0085, -0.2395, -0.0391,  0.1209,  0.1382,  0.1944,  0.1935,  0.0472, -0.1044,  0.1160,  0.0425],\n",
       "           [-0.1018, -0.1084,  0.2243, -0.1027,  0.1230, -0.1196, -0.0217,  0.1760,  0.1500,  0.0907, -0.0119, -0.0039,  0.1745,  0.0220, -0.0714, -0.0590],\n",
       "           [ 0.2428, -0.1792, -0.0581, -0.0534,  0.2242,  0.1606, -0.1425, -0.1519,  0.0594,  0.0433,  0.0549, -0.1996, -0.1154,  0.1750,  0.0203, -0.1036],\n",
       "           [-0.1580,  0.2453,  0.0654, -0.1029,  0.1269,  0.1452,  0.2351,  0.0535, -0.2055,  0.2078,  0.2194, -0.2240,  0.0729, -0.1106, -0.1850,  0.2216]], requires_grad=True),\n",
       "   Parameter containing:\n",
       "   tensor([-0.1041,  0.1625,  0.1021,  0.0344,  0.0625, -0.2196,  0.0287,  0.1415, -0.0248,  0.1326, -0.1753,  0.2180,  0.0730, -0.0821, -0.1421,  0.1293], requires_grad=True),\n",
       "   Parameter containing:\n",
       "   tensor([[ 0.1750, -0.1289, -0.0902,  0.2107, -0.0484, -0.0139, -0.1287,  0.2436,  0.0267,  0.0609,  0.1243,  0.0815, -0.2036, -0.2417, -0.1590,  0.0427],\n",
       "           [ 0.1264,  0.0820,  0.2235, -0.0562,  0.0034,  0.0723, -0.2064,  0.0978,  0.1763, -0.1490,  0.1637,  0.2428, -0.1812,  0.1353,  0.2021,  0.0084],\n",
       "           [-0.0924,  0.0387, -0.0250,  0.1632, -0.2445,  0.1350, -0.2496, -0.1283, -0.0349,  0.0310,  0.1813, -0.2184, -0.1961, -0.1994, -0.0335,  0.0326],\n",
       "           [-0.2007,  0.1493, -0.2260,  0.0909, -0.0701,  0.0561, -0.0032,  0.0200, -0.0750, -0.2482, -0.1285,  0.2213,  0.2125,  0.0663,  0.1453, -0.1052],\n",
       "           [-0.0071, -0.2255, -0.0556, -0.2311,  0.0014, -0.1449,  0.2466, -0.0708,  0.0715,  0.2437, -0.0492,  0.0043,  0.0416, -0.0353,  0.1927,  0.1975],\n",
       "           [ 0.0549, -0.2228, -0.2271, -0.0884, -0.1639, -0.1301, -0.1875,  0.2001,  0.1699,  0.1134, -0.1307, -0.2352,  0.0499,  0.1716,  0.1420, -0.0011],\n",
       "           [-0.1298, -0.0941,  0.0607,  0.2299, -0.1827, -0.0609,  0.2212,  0.1812, -0.0308,  0.0888, -0.1519, -0.0777,  0.2139,  0.2285, -0.1400, -0.0099],\n",
       "           [ 0.0201, -0.0608, -0.1120,  0.2021,  0.0623, -0.0574,  0.0556, -0.1682, -0.1610,  0.1161,  0.1876, -0.1079,  0.1968, -0.2461,  0.1523,  0.1512],\n",
       "           [-0.2493, -0.0613, -0.2345,  0.2398,  0.1667,  0.2495, -0.1281, -0.1404, -0.1211, -0.1574,  0.1948, -0.0789,  0.0911, -0.0187,  0.0495,  0.0808],\n",
       "           [-0.0679,  0.1677, -0.0780, -0.1360,  0.0912,  0.2179,  0.2200, -0.2204, -0.1887, -0.0707,  0.1805, -0.0088, -0.0192,  0.2489,  0.2404,  0.2346]], requires_grad=True),\n",
       "   Parameter containing:\n",
       "   tensor([-0.2151, -0.0267,  0.1192,  0.0873,  0.0460,  0.0045, -0.2155, -0.0560, -0.0950,  0.0637], requires_grad=True)],\n",
       "  'lr': 0.01,\n",
       "  'momentum': 0,\n",
       "  'dampening': 0,\n",
       "  'weight_decay': 0,\n",
       "  'nesterov': False}]"
      ]
     },
     "execution_count": 41,
     "metadata": {},
     "output_type": "execute_result"
    }
   ],
   "source": [
    "optimizer.param_groups"
   ]
  },
  {
   "cell_type": "code",
   "execution_count": 42,
   "id": "8dd90bd2-dbd3-4b4b-948a-441553ca854a",
   "metadata": {},
   "outputs": [
    {
     "data": {
      "text/plain": [
       "0.01"
      ]
     },
     "execution_count": 42,
     "metadata": {},
     "output_type": "execute_result"
    }
   ],
   "source": [
    "optimizer.param_groups[0]['lr']"
   ]
  },
  {
   "cell_type": "code",
   "execution_count": 43,
   "id": "34c7879e-4416-4373-96a5-75e0714c0d9b",
   "metadata": {},
   "outputs": [
    {
     "data": {
      "text/plain": [
       "True"
      ]
     },
     "execution_count": 43,
     "metadata": {},
     "output_type": "execute_result"
    }
   ],
   "source": [
    "torch.equal(before_training[0][0] - optimizer.param_groups[0]['lr'] * model.fc3.weight.grad[0][0] , model.fc3.weight[0][0])"
   ]
  },
  {
   "cell_type": "code",
   "execution_count": 44,
   "id": "ebc3ccaa-5453-4b6a-8615-c79acd90a9ac",
   "metadata": {},
   "outputs": [],
   "source": [
    "loss_func = nn.CrossEntropyLoss()\n",
    "optimizer = torch.optim.SGD(model.parameters(), lr=1e-2)\n",
    "optimizer.zero_grad()"
   ]
  },
  {
   "cell_type": "code",
   "execution_count": 45,
   "id": "a59ec84b-5d9d-4f33-af77-d46f0eba291a",
   "metadata": {},
   "outputs": [],
   "source": [
    "pred = model(images)\n",
    "loss = loss_func(pred, labels)"
   ]
  },
  {
   "cell_type": "code",
   "execution_count": 46,
   "id": "18b3f512-720d-4068-8581-4d529399f752",
   "metadata": {},
   "outputs": [
    {
     "data": {
      "text/plain": [
       "tensor([[[0.0000, 0.0000, 0.0000, 0.0000, 0.0000, 0.0000, 0.0000, 0.0000, 0.0000, 0.0000, 0.0000, 0.0000, 0.0000, 0.0000, 0.0000, 0.0000, 0.0000, 0.0000, 0.0000, 0.0000, 0.0000, 0.0000, 0.0000, 0.0000, 0.0000, 0.0000, 0.0000, 0.0000],\n",
       "         [0.0000, 0.0000, 0.0000, 0.0000, 0.0000, 0.0000, 0.0000, 0.0000, 0.0000, 0.0000, 0.0000, 0.0000, 0.0000, 0.0000, 0.0000, 0.0000, 0.0000, 0.0000, 0.0000, 0.0000, 0.0000, 0.0000, 0.0000, 0.0000, 0.0000, 0.0000, 0.0000, 0.0000],\n",
       "         [0.0000, 0.0000, 0.0000, 0.0000, 0.0000, 0.0000, 0.0000, 0.0000, 0.0000, 0.0000, 0.0000, 0.0000, 0.0000, 0.0000, 0.0000, 0.0000, 0.0000, 0.0000, 0.0000, 0.0000, 0.0000, 0.0000, 0.0000, 0.0000, 0.0000, 0.0000, 0.0000, 0.0000],\n",
       "         [0.0000, 0.0000, 0.0000, 0.0000, 0.0000, 0.0000, 0.0000, 0.0000, 0.0000, 0.0000, 0.0000, 0.0000, 0.0000, 0.0000, 0.0000, 0.0000, 0.0000, 0.0000, 0.0000, 0.0000, 0.0000, 0.0000, 0.0000, 0.0000, 0.0000, 0.0000, 0.0000, 0.0000],\n",
       "         [0.0000, 0.0000, 0.0000, 0.0000, 0.0000, 0.0000, 0.0000, 0.0000, 0.0000, 0.0000, 0.0000, 0.0000, 0.0000, 0.0000, 0.0000, 0.0000, 0.0000, 0.0000, 0.0000, 0.0000, 0.0000, 0.0000, 0.0000, 0.0000, 0.0000, 0.0000, 0.0000, 0.0000],\n",
       "         [0.0000, 0.0000, 0.0000, 0.0000, 0.0000, 0.0000, 0.0000, 0.0000, 0.0000, 0.0000, 0.0000, 0.0000, 0.0118, 0.0706, 0.0706, 0.0706, 0.4941, 0.5333, 0.6863, 0.1020, 0.6510, 1.0000, 0.9686, 0.4980, 0.0000, 0.0000, 0.0000, 0.0000],\n",
       "         [0.0000, 0.0000, 0.0000, 0.0000, 0.0000, 0.0000, 0.0000, 0.0000, 0.1176, 0.1412, 0.3686, 0.6039, 0.6667, 0.9922, 0.9922, 0.9922, 0.9922, 0.9922, 0.8824, 0.6745, 0.9922, 0.9490, 0.7647, 0.2510, 0.0000, 0.0000, 0.0000, 0.0000],\n",
       "         [0.0000, 0.0000, 0.0000, 0.0000, 0.0000, 0.0000, 0.0000, 0.1922, 0.9333, 0.9922, 0.9922, 0.9922, 0.9922, 0.9922, 0.9922, 0.9922, 0.9922, 0.9843, 0.3647, 0.3216, 0.3216, 0.2196, 0.1529, 0.0000, 0.0000, 0.0000, 0.0000, 0.0000],\n",
       "         [0.0000, 0.0000, 0.0000, 0.0000, 0.0000, 0.0000, 0.0000, 0.0706, 0.8588, 0.9922, 0.9922, 0.9922, 0.9922, 0.9922, 0.7765, 0.7137, 0.9686, 0.9451, 0.0000, 0.0000, 0.0000, 0.0000, 0.0000, 0.0000, 0.0000, 0.0000, 0.0000, 0.0000],\n",
       "         [0.0000, 0.0000, 0.0000, 0.0000, 0.0000, 0.0000, 0.0000, 0.0000, 0.3137, 0.6118, 0.4196, 0.9922, 0.9922, 0.8039, 0.0431, 0.0000, 0.1686, 0.6039, 0.0000, 0.0000, 0.0000, 0.0000, 0.0000, 0.0000, 0.0000, 0.0000, 0.0000, 0.0000],\n",
       "         [0.0000, 0.0000, 0.0000, 0.0000, 0.0000, 0.0000, 0.0000, 0.0000, 0.0000, 0.0549, 0.0039, 0.6039, 0.9922, 0.3529, 0.0000, 0.0000, 0.0000, 0.0000, 0.0000, 0.0000, 0.0000, 0.0000, 0.0000, 0.0000, 0.0000, 0.0000, 0.0000, 0.0000],\n",
       "         [0.0000, 0.0000, 0.0000, 0.0000, 0.0000, 0.0000, 0.0000, 0.0000, 0.0000, 0.0000, 0.0000, 0.5451, 0.9922, 0.7451, 0.0078, 0.0000, 0.0000, 0.0000, 0.0000, 0.0000, 0.0000, 0.0000, 0.0000, 0.0000, 0.0000, 0.0000, 0.0000, 0.0000],\n",
       "         [0.0000, 0.0000, 0.0000, 0.0000, 0.0000, 0.0000, 0.0000, 0.0000, 0.0000, 0.0000, 0.0000, 0.0431, 0.7451, 0.9922, 0.2745, 0.0000, 0.0000, 0.0000, 0.0000, 0.0000, 0.0000, 0.0000, 0.0000, 0.0000, 0.0000, 0.0000, 0.0000, 0.0000],\n",
       "         [0.0000, 0.0000, 0.0000, 0.0000, 0.0000, 0.0000, 0.0000, 0.0000, 0.0000, 0.0000, 0.0000, 0.0000, 0.1373, 0.9451, 0.8824, 0.6275, 0.4235, 0.0039, 0.0000, 0.0000, 0.0000, 0.0000, 0.0000, 0.0000, 0.0000, 0.0000, 0.0000, 0.0000],\n",
       "         [0.0000, 0.0000, 0.0000, 0.0000, 0.0000, 0.0000, 0.0000, 0.0000, 0.0000, 0.0000, 0.0000, 0.0000, 0.0000, 0.3176, 0.9412, 0.9922, 0.9922, 0.4667, 0.0980, 0.0000, 0.0000, 0.0000, 0.0000, 0.0000, 0.0000, 0.0000, 0.0000, 0.0000],\n",
       "         [0.0000, 0.0000, 0.0000, 0.0000, 0.0000, 0.0000, 0.0000, 0.0000, 0.0000, 0.0000, 0.0000, 0.0000, 0.0000, 0.0000, 0.1765, 0.7294, 0.9922, 0.9922, 0.5882, 0.1059, 0.0000, 0.0000, 0.0000, 0.0000, 0.0000, 0.0000, 0.0000, 0.0000],\n",
       "         [0.0000, 0.0000, 0.0000, 0.0000, 0.0000, 0.0000, 0.0000, 0.0000, 0.0000, 0.0000, 0.0000, 0.0000, 0.0000, 0.0000, 0.0000, 0.0627, 0.3647, 0.9882, 0.9922, 0.7333, 0.0000, 0.0000, 0.0000, 0.0000, 0.0000, 0.0000, 0.0000, 0.0000],\n",
       "         [0.0000, 0.0000, 0.0000, 0.0000, 0.0000, 0.0000, 0.0000, 0.0000, 0.0000, 0.0000, 0.0000, 0.0000, 0.0000, 0.0000, 0.0000, 0.0000, 0.0000, 0.9765, 0.9922, 0.9765, 0.2510, 0.0000, 0.0000, 0.0000, 0.0000, 0.0000, 0.0000, 0.0000],\n",
       "         [0.0000, 0.0000, 0.0000, 0.0000, 0.0000, 0.0000, 0.0000, 0.0000, 0.0000, 0.0000, 0.0000, 0.0000, 0.0000, 0.0000, 0.1804, 0.5098, 0.7176, 0.9922, 0.9922, 0.8118, 0.0078, 0.0000, 0.0000, 0.0000, 0.0000, 0.0000, 0.0000, 0.0000],\n",
       "         [0.0000, 0.0000, 0.0000, 0.0000, 0.0000, 0.0000, 0.0000, 0.0000, 0.0000, 0.0000, 0.0000, 0.0000, 0.1529, 0.5804, 0.8980, 0.9922, 0.9922, 0.9922, 0.9804, 0.7137, 0.0000, 0.0000, 0.0000, 0.0000, 0.0000, 0.0000, 0.0000, 0.0000],\n",
       "         [0.0000, 0.0000, 0.0000, 0.0000, 0.0000, 0.0000, 0.0000, 0.0000, 0.0000, 0.0000, 0.0941, 0.4471, 0.8667, 0.9922, 0.9922, 0.9922, 0.9922, 0.7882, 0.3059, 0.0000, 0.0000, 0.0000, 0.0000, 0.0000, 0.0000, 0.0000, 0.0000, 0.0000],\n",
       "         [0.0000, 0.0000, 0.0000, 0.0000, 0.0000, 0.0000, 0.0000, 0.0000, 0.0902, 0.2588, 0.8353, 0.9922, 0.9922, 0.9922, 0.9922, 0.7765, 0.3176, 0.0078, 0.0000, 0.0000, 0.0000, 0.0000, 0.0000, 0.0000, 0.0000, 0.0000, 0.0000, 0.0000],\n",
       "         [0.0000, 0.0000, 0.0000, 0.0000, 0.0000, 0.0000, 0.0706, 0.6706, 0.8588, 0.9922, 0.9922, 0.9922, 0.9922, 0.7647, 0.3137, 0.0353, 0.0000, 0.0000, 0.0000, 0.0000, 0.0000, 0.0000, 0.0000, 0.0000, 0.0000, 0.0000, 0.0000, 0.0000],\n",
       "         [0.0000, 0.0000, 0.0000, 0.0000, 0.2157, 0.6745, 0.8863, 0.9922, 0.9922, 0.9922, 0.9922, 0.9569, 0.5216, 0.0431, 0.0000, 0.0000, 0.0000, 0.0000, 0.0000, 0.0000, 0.0000, 0.0000, 0.0000, 0.0000, 0.0000, 0.0000, 0.0000, 0.0000],\n",
       "         [0.0000, 0.0000, 0.0000, 0.0000, 0.5333, 0.9922, 0.9922, 0.9922, 0.8314, 0.5294, 0.5176, 0.0627, 0.0000, 0.0000, 0.0000, 0.0000, 0.0000, 0.0000, 0.0000, 0.0000, 0.0000, 0.0000, 0.0000, 0.0000, 0.0000, 0.0000, 0.0000, 0.0000],\n",
       "         [0.0000, 0.0000, 0.0000, 0.0000, 0.0000, 0.0000, 0.0000, 0.0000, 0.0000, 0.0000, 0.0000, 0.0000, 0.0000, 0.0000, 0.0000, 0.0000, 0.0000, 0.0000, 0.0000, 0.0000, 0.0000, 0.0000, 0.0000, 0.0000, 0.0000, 0.0000, 0.0000, 0.0000],\n",
       "         [0.0000, 0.0000, 0.0000, 0.0000, 0.0000, 0.0000, 0.0000, 0.0000, 0.0000, 0.0000, 0.0000, 0.0000, 0.0000, 0.0000, 0.0000, 0.0000, 0.0000, 0.0000, 0.0000, 0.0000, 0.0000, 0.0000, 0.0000, 0.0000, 0.0000, 0.0000, 0.0000, 0.0000],\n",
       "         [0.0000, 0.0000, 0.0000, 0.0000, 0.0000, 0.0000, 0.0000, 0.0000, 0.0000, 0.0000, 0.0000, 0.0000, 0.0000, 0.0000, 0.0000, 0.0000, 0.0000, 0.0000, 0.0000, 0.0000, 0.0000, 0.0000, 0.0000, 0.0000, 0.0000, 0.0000, 0.0000, 0.0000]]])"
      ]
     },
     "execution_count": 46,
     "metadata": {},
     "output_type": "execute_result"
    }
   ],
   "source": [
    "images[0]"
   ]
  },
  {
   "cell_type": "code",
   "execution_count": 47,
   "id": "6b73f82f-0634-4d14-951c-4a12f9234dba",
   "metadata": {},
   "outputs": [],
   "source": [
    "loss.backward()"
   ]
  },
  {
   "cell_type": "code",
   "execution_count": 48,
   "id": "25f3f81d-57d7-4393-8b1a-f2799e060f03",
   "metadata": {},
   "outputs": [
    {
     "data": {
      "text/plain": [
       "tensor([[ 0.0000e+00, -3.0644e-03,  3.8743e-03,  2.6230e-04, -3.1600e-03,  0.0000e+00, -3.7481e-03,  2.6523e-03, -1.6785e-03, -1.7007e-03,  0.0000e+00, -1.4364e-02, -2.9594e-03, -2.2354e-05,  0.0000e+00, -1.1005e-03],\n",
       "        [ 0.0000e+00, -6.5290e-03,  1.7637e-04, -2.0299e-04, -3.3200e-03,  0.0000e+00,  2.5607e-05, -3.0064e-03,  3.9526e-04, -1.4833e-03,  0.0000e+00, -1.9085e-03, -3.4982e-03,  1.5408e-04,  0.0000e+00, -1.5963e-03],\n",
       "        [ 0.0000e+00,  5.9107e-03,  1.4837e-03,  3.3003e-04, -1.8078e-03,  0.0000e+00,  1.7502e-03,  5.8350e-03, -7.7737e-06,  5.9028e-03,  0.0000e+00,  1.1762e-02,  5.8528e-03, -8.5891e-04,  0.0000e+00,  5.1828e-03],\n",
       "        [ 0.0000e+00, -2.9406e-03, -1.7590e-03,  2.8957e-04, -8.5970e-04,  0.0000e+00, -1.5932e-04,  1.7608e-03, -1.9589e-03,  2.0207e-04,  0.0000e+00, -3.6920e-03,  2.1640e-04,  1.6099e-04,  0.0000e+00,  3.8480e-05],\n",
       "        [ 0.0000e+00,  2.5440e-03, -1.6979e-03, -7.9597e-04,  1.7274e-03,  0.0000e+00, -3.4775e-03, -2.7498e-03,  2.1088e-03, -3.1394e-03,  0.0000e+00, -2.6017e-03,  3.7592e-03,  1.5283e-04,  0.0000e+00, -1.6453e-03],\n",
       "        [ 0.0000e+00,  6.3245e-03, -1.2091e-05,  2.7706e-04,  6.5756e-03,  0.0000e+00,  2.9680e-03, -7.6762e-04,  1.0937e-03,  3.4781e-03,  0.0000e+00,  8.4132e-03,  1.7402e-03,  1.2579e-04,  0.0000e+00,  5.0687e-03],\n",
       "        [ 0.0000e+00, -3.3866e-03,  3.2913e-03,  2.6586e-04, -1.0119e-03,  0.0000e+00, -2.7493e-03, -2.5382e-03,  1.5756e-03, -2.3921e-03,  0.0000e+00, -1.0108e-03,  1.6399e-03,  1.1335e-04,  0.0000e+00, -3.7775e-03],\n",
       "        [ 0.0000e+00,  2.7914e-03, -2.6254e-03,  3.0653e-04,  2.3995e-03,  0.0000e+00,  3.3446e-03,  2.4825e-04, -9.3873e-04,  1.8140e-03,  0.0000e+00,  5.6440e-03,  6.3446e-04, -1.1990e-04,  0.0000e+00,  2.6635e-03],\n",
       "        [ 0.0000e+00,  4.8439e-04,  1.9358e-03,  2.7276e-05,  1.1934e-03,  0.0000e+00, -1.0094e-03, -3.2871e-05,  1.0391e-03, -1.9962e-03,  0.0000e+00,  1.5626e-03, -1.3030e-03,  1.2696e-04,  0.0000e+00,  4.0900e-03],\n",
       "        [ 0.0000e+00, -2.1343e-03, -4.6671e-03, -7.5967e-04, -1.7366e-03,  0.0000e+00,  3.0552e-03, -1.4014e-03, -1.6286e-03, -6.8534e-04,  0.0000e+00, -3.8048e-03, -6.0823e-03,  1.6716e-04,  0.0000e+00, -8.9238e-03]])"
      ]
     },
     "execution_count": 48,
     "metadata": {},
     "output_type": "execute_result"
    }
   ],
   "source": [
    "model.fc3.weight.grad"
   ]
  },
  {
   "cell_type": "code",
   "execution_count": null,
   "id": "04e779a0-82f4-487c-b9f2-1bbba4139c2f",
   "metadata": {},
   "outputs": [],
   "source": []
  },
  {
   "cell_type": "code",
   "execution_count": null,
   "id": "ad667629-418e-45bd-9e6a-998dccf605b8",
   "metadata": {},
   "outputs": [],
   "source": []
  },
  {
   "cell_type": "code",
   "execution_count": 49,
   "id": "d5e779a6-4c13-4426-a8b7-0b2a6ac4d673",
   "metadata": {},
   "outputs": [],
   "source": [
    "def train(train_dataloader, model, loss_func, optimizer, epoch, train_loss):\n",
    "\tfor batch_index, (img, lab) in enumerate(train_dataloader):\n",
    "\t\timg, lab = img.to(device), lab.to(device)\n",
    "\t\tpred = model(img)\n",
    "\t\tloss = loss_func(pred, lab)\n",
    "\t\tprint(batch_index, end = ' ')\n",
    "# \t\toptimizer.zero_grad()\n",
    "\t\tloss.backward()\n",
    "\t\t\n",
    "\t\toptimizer.step()\n",
    "\t\t\n",
    "\t\ttrain_loss += loss.item()\n",
    "\twriter.add_scalar('trainLoss', train_loss/len(train_dataloader.dataset), epoch)\n",
    "\ttrainLoss = 0\n",
    "\treturn loss"
   ]
  },
  {
   "cell_type": "code",
   "execution_count": 50,
   "id": "00025085-597b-4c15-be7d-68c88d2c2c1d",
   "metadata": {},
   "outputs": [],
   "source": [
    "def test(test_dataloader, model, epoch, test_loss):\n",
    "\tmodel.eval()\n",
    "\ttest_loss, correct = 0, 0\n",
    "\twith torch.no_grad():\n",
    "\t\tfor img, lab in test_dataloader:\n",
    "\t\t\timg, lab = img.to(device), lab.to(device)\n",
    "\t\t\tpred = model(img)\n",
    "\t\t\ttest_loss += loss_func(pred, lab).item()\n",
    "\t\t\tcorrect += (pred.argmax(1) == lab).type(torch.float).sum().item()\n",
    "\ttest_loss /= len(test_dataloader.dataset)\n",
    "\tcorrect /= len(test_dataloader.dataset)\n",
    "\tprint(f\"Accuracy: {(100*correct):>0.1f}%, Avg loss: {test_loss:>8f}\")\n",
    "\twriter.add_scalar('testLoss', test_loss, epoch)\n",
    "\ttest_loss = 0"
   ]
  },
  {
   "cell_type": "code",
   "execution_count": 51,
   "id": "bd010a79-ac78-4066-bef0-9ed75d20b869",
   "metadata": {},
   "outputs": [
    {
     "data": {
      "text/plain": [
       "odict_keys(['fc1.weight', 'fc1.bias', 'fc2.weight', 'fc2.bias', 'fc3.weight', 'fc3.bias'])"
      ]
     },
     "execution_count": 51,
     "metadata": {},
     "output_type": "execute_result"
    }
   ],
   "source": [
    "model.state_dict().keys()"
   ]
  },
  {
   "cell_type": "code",
   "execution_count": 52,
   "id": "3f4faeff-695b-4e6d-8d12-7d18ca16c2ee",
   "metadata": {},
   "outputs": [
    {
     "name": "stdout",
     "output_type": "stream",
     "text": [
      "Epoch   1: 0 1 2 3 4 5 6 7 8 9 10 11 12 13 14 15 16 17 18 19 20 21 22 23 24 25 26 27 28 29 30 31 32 33 34 35 36 37 38 39 40 41 42 43 44 45 46 47 48 49 50 51 52 53 54 55 56 57 58 59 60 61 62 63 64 65 66 67 68 69 70 71 72 73 74 75 76 77 78 79 80 81 82 83 84 85 86 87 88 89 90 91 92 93 94 95 96 97 98 99 100 101 102 103 104 105 106 107 108 109 110 111 112 113 114 115 116 117 118 119 120 121 122 123 124 125 126 127 128 129 130 131 132 133 134 135 136 137 138 139 140 141 142 143 144 145 146 147 148 149 150 151 152 153 154 155 156 157 158 159 160 161 162 163 164 165 166 167 168 169 170 171 172 173 174 175 176 177 178 179 180 181 182 183 184 185 186 187 188 189 190 191 192 193 194 195 196 197 198 199 200 201 202 203 204 205 206 207 208 209 210 211 212 213 214 215 216 217 218 219 220 221 222 223 224 225 226 227 228 229 230 231 232 233 234 235 236 237 238 239 240 241 242 243 244 245 246 247 248 249 250 251 252 253 254 255 256 257 258 259 260 261 262 263 264 265 266 267 268 269 270 271 272 273 274 275 276 277 278 279 280 281 282 283 284 285 286 287 288 289 290 291 292 293 294 295 296 297 298 299 300 301 302 303 304 305 306 307 308 309 310 311 312 313 314 315 316 317 318 319 320 321 322 323 324 325 326 327 328 329 330 331 332 333 334 335 336 337 338 339 340 341 342 343 344 345 346 347 348 349 350 351 352 353 354 355 356 357 358 359 360 361 362 363 364 365 366 367 368 369 370 371 372 373 374 375 376 377 378 379 380 381 382 383 384 385 386 387 388 389 390 391 392 393 394 395 396 397 398 399 400 401 402 403 404 405 406 407 408 409 410 411 412 413 414 415 416 417 418 419 420 421 422 423 424 425 426 427 428 429 430 431 432 433 434 435 436 437 438 439 440 441 442 443 444 445 446 447 448 449 450 451 452 453 454 455 456 457 458 459 460 461 462 463 464 465 466 467 468 469 470 471 472 473 474 475 476 477 478 479 480 481 482 483 484 485 486 487 488 489 490 491 492 493 494 495 496 497 498 499 500 501 502 503 504 505 506 507 508 509 510 511 512 513 514 515 516 517 518 519 520 521 522 523 524 525 526 527 528 529 530 531 532 533 534 535 536 537 538 539 540 541 542 543 544 545 546 547 548 549 550 551 552 553 554 555 556 557 558 559 560 561 562 563 564 565 566 567 568 569 570 571 572 573 574 575 576 577 578 579 580 581 582 583 584 585 586 587 588 589 590 591 592 593 594 595 596 597 598 599 600 601 602 603 604 605 606 607 608 609 610 611 612 613 614 615 616 617 618 619 620 621 622 623 624 625 626 627 628 629 630 631 632 633 634 635 636 637 638 639 640 641 642 643 644 645 646 647 648 649 650 651 652 653 654 655 656 657 658 659 660 661 662 663 664 665 666 667 668 669 670 671 672 673 674 675 676 677 678 679 680 681 682 683 684 685 686 687 688 689 690 691 692 693 694 695 696 697 698 699 700 701 702 703 704 705 706 707 708 709 710 711 712 713 714 715 716 717 718 719 720 721 722 723 724 725 726 727 728 729 730 731 732 733 734 735 736 737 738 739 740 741 742 743 744 745 746 747 748 749 750 751 752 753 754 755 756 757 758 759 760 761 762 763 764 765 766 767 768 769 770 771 772 773 774 775 776 777 778 779 780 781 782 783 784 785 786 787 788 789 790 791 792 793 794 795 796 797 798 799 800 801 802 803 804 805 806 807 808 809 810 811 812 813 814 815 816 817 818 819 820 821 822 823 824 825 826 827 828 829 830 831 832 833 834 835 836 837 838 839 840 841 842 843 844 845 846 847 848 849 850 851 852 853 854 855 856 857 858 859 860 861 862 863 864 865 866 867 868 869 870 871 872 873 874 875 876 877 878 879 880 881 882 883 884 885 886 887 888 889 890 891 892 893 894 895 896 897 898 899 900 901 902 903 904 905 906 907 908 909 910 911 912 913 914 915 916 917 918 919 920 921 922 923 924 925 926 927 928 929 930 931 932 933 934 935 936 937 Accuracy: 12.9%, Avg loss: 0.037572\n",
      "Epoch   2: 0 1 2 3 4 5 6 7 8 9 10 11 12 13 14 15 16 17 18 19 20 21 22 23 24 25 26 27 28 29 30 31 32 33 34 35 36 37 38 39 40 41 42 43 44 45 46 47 48 49 50 51 52 53 54 55 56 57 58 59 60 61 62 63 64 65 66 67 68 69 70 71 72 73 74 75 76 77 78 79 80 81 82 83 84 85 86 87 88 89 90 91 92 93 94 95 96 97 98 99 100 101 102 103 104 105 106 107 108 109 110 111 112 113 114 115 116 117 118 119 120 121 122 123 124 125 126 127 128 129 130 131 132 133 134 135 136 137 138 139 140 141 142 143 144 145 146 147 148 149 150 151 152 153 154 155 156 157 158 159 160 161 162 163 164 165 166 167 168 169 170 171 172 173 174 175 176 177 178 179 180 181 182 183 184 185 186 187 188 189 190 191 192 193 194 195 196 197 198 199 200 201 202 203 204 205 206 207 208 209 210 211 212 213 214 215 216 217 218 219 220 221 222 223 224 225 226 227 228 229 230 231 232 233 234 235 236 237 238 239 240 241 242 243 244 245 246 247 248 249 250 251 252 253 254 255 256 257 258 259 260 261 262 263 264 265 266 267 268 269 270 271 272 273 274 275 276 277 278 279 280 281 282 283 284 285 286 287 288 289 290 291 292 293 294 295 296 297 298 299 300 301 302 303 304 305 306 307 308 309 310 311 312 313 314 315 316 317 318 319 320 321 322 323 324 325 326 327 328 329 330 331 332 333 334 335 336 337 338 339 340 341 342 343 344 345 346 347 348 349 350 351 352 353 354 355 356 357 358 359 360 361 362 363 364 365 366 367 368 369 370 371 372 373 374 375 376 377 378 379 380 381 382 383 384 385 386 387 388 389 390 391 392 393 394 395 396 397 398 399 400 401 402 403 404 405 406 407 408 409 410 411 412 413 414 415 416 417 418 419 420 421 422 423 424 425 426 427 428 429 430 431 432 433 434 435 436 437 438 439 440 441 442 443 444 445 446 447 448 449 450 451 452 453 454 455 456 457 458 459 460 461 462 463 464 465 466 467 468 469 470 471 472 473 474 475 476 477 478 479 480 481 482 483 484 485 486 487 488 489 490 491 492 493 494 495 496 497 498 499 500 501 502 503 504 505 506 507 508 509 510 511 512 513 514 515 516 517 518 519 520 521 522 523 524 525 526 527 528 529 530 531 532 533 534 535 536 537 538 539 540 541 542 543 544 545 546 547 548 549 550 551 552 553 554 555 556 557 558 559 560 561 562 563 564 565 566 567 568 569 570 571 572 573 574 575 576 577 578 579 580 581 582 583 584 585 586 587 588 589 590 591 592 593 594 595 596 597 598 599 600 601 602 603 604 605 606 607 608 609 610 611 612 613 614 615 616 617 618 619 620 621 622 623 624 625 626 627 628 629 630 631 632 633 634 635 636 637 638 639 640 641 642 643 644 645 646 647 648 649 650 651 652 653 654 655 656 657 658 659 660 661 662 663 664 665 666 667 668 669 670 671 672 673 674 675 676 677 678 679 680 681 682 683 684 685 686 687 688 689 690 691 692 693 694 695 696 697 698 699 700 701 702 703 704 705 706 707 708 709 710 711 712 713 714 715 716 717 718 719 720 721 722 723 724 725 726 727 728 729 730 731 732 733 734 735 736 737 738 739 740 741 742 743 744 745 746 747 748 749 750 751 752 753 754 755 756 757 758 759 760 761 762 763 764 765 766 767 768 769 770 771 772 773 774 775 776 777 778 779 780 781 782 783 784 785 786 787 788 789 790 791 792 793 794 795 796 797 798 799 800 801 802 803 804 805 806 807 808 809 810 811 812 813 814 815 816 817 818 819 820 821 822 823 824 825 826 827 828 829 830 831 832 833 834 835 836 837 838 839 840 841 842 843 844 845 846 847 848 849 850 851 852 853 854 855 856 857 858 859 860 861 862 863 864 865 866 867 868 869 870 871 872 873 874 875 876 877 878 879 880 881 882 883 884 885 886 887 888 889 890 891 892 893 894 895 896 897 898 899 900 901 902 903 904 905 906 907 908 909 910 911 912 913 914 915 916 917 918 919 920 921 922 923 924 925 926 927 928 929 930 931 932 933 934 935 936 937 Accuracy: 10.3%, Avg loss: 0.040095\n",
      "Epoch   3: 0 1 2 3 4 5 6 7 8 9 10 11 12 13 14 15 16 17 18 19 20 21 22 23 24 25 26 27 28 29 30 31 32 33 34 35 36 37 38 39 40 41 42 43 44 45 46 47 48 49 50 51 52 53 54 55 56 57 58 59 60 61 62 63 64 65 66 67 68 69 70 71 72 73 74 75 76 77 78 79 80 81 82 83 84 85 86 87 88 89 90 91 92 93 94 95 96 97 98 99 100 101 102 103 104 105 106 107 108 109 110 111 112 113 114 115 116 117 118 119 120 121 122 123 124 125 126 127 128 129 130 131 132 133 134 135 136 137 138 139 140 141 142 143 144 145 146 147 148 149 150 151 152 153 154 155 156 157 158 159 160 161 162 163 164 165 166 167 168 169 170 171 172 173 174 175 176 177 178 179 180 181 182 183 184 185 186 187 188 189 190 191 192 193 194 195 196 197 198 199 200 201 202 203 204 205 206 207 208 209 210 211 212 213 214 215 216 217 218 219 220 221 222 223 224 225 226 227 228 229 230 231 232 233 234 235 236 237 238 239 240 241 242 243 244 245 246 247 248 249 250 251 252 253 254 255 256 257 258 259 260 261 262 263 264 265 266 267 268 269 270 271 272 273 274 275 276 277 278 279 280 281 282 283 284 285 286 287 288 289 290 291 292 293 294 295 296 297 298 299 300 301 302 303 304 305 306 307 308 309 310 311 312 313 314 315 316 317 318 319 320 321 322 323 324 325 326 327 328 329 330 331 332 333 334 335 336 337 338 339 340 341 342 343 344 345 346 347 348 349 350 351 352 353 354 355 356 357 358 359 360 361 362 363 364 365 366 367 368 369 370 371 372 373 374 375 376 377 378 379 380 381 382 383 384 385 386 387 388 389 390 391 392 393 394 395 396 397 398 399 400 401 402 403 404 405 406 407 408 409 410 411 412 413 414 415 416 417 418 419 420 421 422 423 424 425 426 427 428 429 430 431 432 433 434 435 436 437 438 439 440 441 442 443 444 445 446 447 448 449 450 451 452 453 454 455 456 457 458 459 460 461 462 463 464 465 466 467 468 469 470 471 472 473 474 475 476 477 478 479 480 481 482 483 484 485 486 487 488 489 490 491 492 493 494 495 496 497 498 499 500 501 502 503 504 505 506 507 508 509 510 511 512 513 514 515 516 517 518 519 520 521 522 523 524 525 526 527 528 529 530 531 532 533 534 535 536 537 538 539 540 541 542 543 544 545 546 547 548 549 550 551 552 553 554 555 556 557 558 559 560 561 562 563 564 565 566 567 568 569 570 571 572 573 574 575 576 577 578 579 580 581 582 583 584 585 586 587 588 589 590 591 592 593 594 595 596 597 598 599 600 601 602 603 604 605 606 607 608 609 610 611 612 613 614 615 616 617 618 619 620 621 622 623 624 625 626 627 628 629 630 631 632 633 634 635 636 637 638 639 640 641 642 643 644 645 646 647 648 649 650 651 652 653 654 655 656 657 658 659 660 661 662 663 664 665 666 667 668 669 670 671 672 673 674 675 676 677 678 679 680 681 682 683 684 685 686 687 688 689 690 691 692 693 694 695 696 697 698 699 700 701 702 703 704 705 706 707 708 709 710 711 712 713 714 715 716 717 718 719 720 721 722 723 724 725 726 727 728 729 730 731 732 733 734 735 736 737 738 739 740 741 742 743 744 745 746 747 748 749 750 751 752 753 754 755 756 757 758 759 760 761 762 763 764 765 766 767 768 769 770 771 772 773 774 775 776 777 778 779 780 781 782 783 784 785 786 787 788 789 790 791 792 793 794 795 796 797 798 799 800 801 802 803 804 805 806 807 808 809 810 811 812 813 814 815 816 817 818 819 820 821 822 823 824 825 826 827 828 829 830 831 832 833 834 835 836 837 838 839 840 841 842 843 844 845 846 847 848 849 850 851 852 853 854 855 856 857 858 859 860 861 862 863 864 865 866 867 868 869 870 871 872 873 874 875 876 877 878 879 880 881 882 883 884 885 886 887 888 889 890 891 892 893 894 895 896 897 898 899 900 901 902 903 904 905 906 907 908 909 910 911 912 913 914 915 916 917 918 919 920 921 922 923 924 925 926 927 928 929 930 931 932 933 934 935 936 937 Accuracy: 10.1%, Avg loss: 0.039937\n",
      "Epoch   4: 0 1 2 3 4 5 6 7 8 9 10 11 12 13 14 15 16 17 18 19 20 21 22 23 24 25 26 27 28 29 30 31 32 33 34 35 36 37 38 39 40 41 42 43 44 45 46 47 48 49 50 51 52 53 54 55 56 57 58 59 60 61 62 63 64 65 66 67 68 69 70 71 72 73 74 75 76 77 78 79 80 81 82 83 84 85 86 87 88 89 90 91 92 93 94 95 96 97 98 99 100 101 102 103 104 105 106 107 108 109 110 111 112 113 114 115 116 117 118 119 120 121 122 123 124 125 126 127 128 129 130 131 132 133 134 135 136 137 138 139 140 141 142 143 144 145 146 147 148 149 150 151 152 153 154 155 156 157 158 159 160 161 162 163 164 165 166 167 168 169 170 171 172 173 174 175 176 177 178 179 180 181 182 183 184 185 186 187 188 189 190 191 192 193 194 195 196 197 198 199 200 201 202 203 204 205 206 207 208 209 210 211 212 213 214 215 216 217 218 219 220 221 222 223 224 225 226 227 228 229 230 231 232 233 234 235 236 237 238 239 240 241 242 243 244 245 246 247 248 249 250 251 252 253 254 255 256 257 258 259 260 261 262 263 264 265 266 267 268 269 270 271 272 273 274 275 276 277 278 279 280 281 282 283 284 285 286 287 288 289 290 291 292 293 294 295 296 297 298 299 300 301 302 303 304 305 306 307 308 309 310 311 312 313 314 315 316 317 318 319 320 321 322 323 324 325 326 327 328 329 330 331 332 333 334 335 336 337 338 339 340 341 342 343 344 345 346 347 348 349 350 351 352 353 354 355 356 357 358 359 360 361 362 363 364 365 366 367 368 369 370 371 372 373 374 375 376 377 378 379 380 381 382 383 384 385 386 387 388 389 390 391 392 393 394 395 396 397 398 399 400 401 402 403 404 405 406 407 408 409 410 411 412 413 414 415 416 417 418 419 420 421 422 423 424 425 426 427 428 429 430 431 432 433 434 435 436 437 438 439 440 441 442 443 444 445 446 447 448 449 450 451 452 453 454 455 456 457 458 459 460 461 462 463 464 465 466 467 468 469 470 471 472 473 474 475 476 477 478 479 480 481 482 483 484 485 486 487 488 489 490 491 492 493 494 495 496 497 498 499 500 501 502 503 504 505 506 507 508 509 510 511 512 513 514 515 516 517 518 519 520 521 522 523 524 525 526 527 528 529 530 531 532 533 534 535 536 537 538 539 540 541 542 543 544 545 546 547 548 549 550 551 552 553 554 555 556 557 558 559 560 561 562 563 564 565 566 567 568 569 570 571 572 573 574 575 576 577 578 579 580 581 582 583 584 585 586 587 588 589 590 591 592 593 594 595 596 597 598 599 600 601 602 603 604 605 606 607 608 609 610 611 612 613 614 615 616 617 618 619 620 621 622 623 624 625 626 627 628 629 630 631 632 633 634 635 636 637 638 639 640 641 642 643 644 645 646 647 648 649 650 651 652 653 654 655 656 657 658 659 660 661 662 663 664 665 666 667 668 669 670 671 672 673 674 675 676 677 678 679 680 681 682 683 684 685 686 687 688 689 690 691 692 693 694 695 696 697 698 699 700 701 702 703 704 705 706 707 708 709 710 711 712 713 714 715 716 717 718 719 720 721 722 723 724 725 726 727 728 729 730 731 732 733 734 735 736 737 738 739 740 741 742 743 744 745 746 747 748 749 750 751 752 753 754 755 756 757 758 759 760 761 762 763 764 765 766 767 768 769 770 771 772 773 774 775 776 777 778 779 780 781 782 783 784 785 786 787 788 789 790 791 792 793 794 795 796 797 798 799 800 801 802 803 804 805 806 807 808 809 810 811 812 813 814 815 816 817 818 819 820 821 822 823 824 825 826 827 828 829 830 831 832 833 834 835 836 837 838 839 840 841 842 843 844 845 846 847 848 849 850 851 852 853 854 855 856 857 858 859 860 861 862 863 864 865 866 867 868 869 870 871 872 873 874 875 876 877 878 879 880 881 882 883 884 885 886 887 888 889 890 891 892 893 894 895 896 897 898 899 900 901 902 903 904 905 906 907 908 909 910 911 912 913 914 915 916 917 918 919 920 921 922 923 924 925 926 927 928 929 930 931 932 933 934 935 936 937 Accuracy: 11.3%, Avg loss: 0.038711\n",
      "Epoch   5: 0 1 2 3 4 5 6 7 8 9 10 11 12 13 14 15 16 17 18 19 20 21 22 23 24 25 26 27 28 29 30 31 32 33 34 35 36 37 38 39 40 41 42 43 44 45 46 47 48 49 50 51 52 53 54 55 56 57 58 59 60 61 62 63 64 65 66 67 68 69 70 71 72 73 74 75 76 77 78 79 80 81 82 83 84 85 86 87 88 89 90 91 92 93 94 95 96 97 98 99 100 101 102 103 104 105 106 107 108 109 110 111 112 113 114 115 116 117 118 119 120 121 122 123 124 125 126 127 128 129 130 131 132 133 134 135 136 137 138 139 140 141 142 143 144 145 146 147 148 149 150 151 152 153 154 155 156 157 158 159 160 161 162 163 164 165 166 167 168 169 170 171 172 173 174 175 176 177 178 179 180 181 182 183 184 185 186 187 188 189 190 191 192 193 194 195 196 197 198 199 200 201 202 203 204 205 206 207 208 209 210 211 212 213 214 215 216 217 218 219 220 221 222 223 224 225 226 227 228 229 230 231 232 233 234 235 236 237 238 239 240 241 242 243 244 245 246 247 248 249 250 251 252 253 254 255 256 257 258 259 260 261 262 263 264 265 266 267 268 269 270 271 272 273 274 275 276 277 278 279 280 281 282 283 284 285 286 287 288 289 290 291 292 293 294 295 296 297 298 299 300 301 302 303 304 305 306 307 308 309 310 311 312 313 314 315 316 317 318 319 320 321 322 323 324 325 326 327 328 329 330 331 332 333 334 335 336 337 338 339 340 341 342 343 344 345 346 347 348 349 350 351 352 353 354 355 356 357 358 359 360 361 362 363 364 365 366 367 368 369 370 371 372 373 374 375 376 377 378 379 380 381 382 383 384 385 386 387 388 389 390 391 392 393 394 395 396 397 398 399 400 401 402 403 404 405 406 407 408 409 410 411 412 413 414 415 416 417 418 419 420 421 422 423 424 425 426 427 428 429 430 431 432 433 434 435 436 437 438 439 440 441 442 443 444 445 446 447 448 449 450 451 452 453 454 455 456 457 458 459 460 461 462 463 464 465 466 467 468 469 470 471 472 473 474 475 476 477 478 479 480 481 482 483 484 485 486 487 488 489 490 491 492 493 494 495 496 497 498 499 500 501 502 503 504 505 506 507 508 509 510 511 512 513 514 515 516 517 518 519 520 521 522 523 524 525 526 527 528 529 530 531 532 533 534 535 536 537 538 539 540 541 542 543 544 545 546 547 548 549 550 551 552 553 554 555 556 557 558 559 560 561 562 563 564 565 566 567 568 569 570 571 572 573 574 575 576 577 578 579 580 581 582 583 584 585 586 587 588 589 590 591 592 593 594 595 596 597 598 599 600 601 602 603 604 605 606 607 608 609 610 611 612 613 614 615 616 617 618 619 620 621 622 623 624 625 626 627 628 629 630 631 632 633 634 635 636 637 638 639 640 641 642 643 644 645 646 647 648 649 650 651 652 653 654 655 656 657 658 659 660 661 662 663 664 665 666 667 668 669 670 671 672 673 674 675 676 677 678 679 680 681 682 683 684 685 686 687 688 689 690 691 692 693 694 695 696 697 698 699 700 701 702 703 704 705 706 707 708 709 710 711 712 713 714 715 716 717 718 719 720 721 722 723 724 725 726 727 728 729 730 731 732 733 734 735 736 737 738 739 740 741 742 743 744 745 746 747 748 749 750 751 752 753 754 755 756 757 758 759 760 761 762 763 764 765 766 767 768 769 770 771 772 773 774 775 776 777 778 779 780 781 782 783 784 785 786 787 788 789 790 791 792 793 794 795 796 797 798 799 800 801 802 803 804 805 806 807 808 809 810 811 812 813 814 815 816 817 818 819 820 821 822 823 824 825 826 827 828 829 830 831 832 833 834 835 836 837 838 839 840 841 842 843 844 845 846 847 848 849 850 851 852 853 854 855 856 857 858 859 860 861 862 863 864 865 866 867 868 869 870 871 872 873 874 875 876 877 878 879 880 881 882 883 884 885 886 887 888 889 890 891 892 893 894 895 896 897 898 899 900 901 902 903 904 905 906 907 908 909 910 911 912 913 914 915 916 917 918 919 920 921 922 923 924 925 926 927 928 929 930 931 932 933 934 935 936 937 Accuracy: 10.1%, Avg loss: 0.039741\n",
      "Done!\n"
     ]
    }
   ],
   "source": [
    "epochs = 5\n",
    "for epoch in range(epochs):\n",
    "\tprint(f\"Epoch {epoch+1:3d}: \", end='')\n",
    "\tloss = train(train_dataloader, model, loss_func, optimizer, epoch, train_loss)\n",
    "\ttest(test_dataloader, model, epoch, test_loss)\n",
    "print(\"Done!\")\n",
    "writer.close()"
   ]
  },
  {
   "cell_type": "code",
   "execution_count": 53,
   "id": "50681779-6e4f-4beb-955a-c8acff179741",
   "metadata": {},
   "outputs": [
    {
     "data": {
      "text/plain": [
       "Parameter containing:\n",
       "tensor([[-0.0297, -0.0256,  0.0351,  ..., -0.0076, -0.0124,  0.0043],\n",
       "        [ 0.0241, -0.0155,  0.0266,  ..., -0.0235,  0.0289,  0.0357],\n",
       "        [ 0.0023,  0.0281,  0.0080,  ...,  0.0141, -0.0080,  0.0247],\n",
       "        ...,\n",
       "        [ 0.0027, -0.0152, -0.0005,  ..., -0.0141,  0.0264,  0.0188],\n",
       "        [ 0.0180,  0.0305,  0.0340,  ..., -0.0047, -0.0077,  0.0248],\n",
       "        [ 0.0329,  0.0333,  0.0189,  ..., -0.0354,  0.0121, -0.0170]], requires_grad=True)"
      ]
     },
     "execution_count": 53,
     "metadata": {},
     "output_type": "execute_result"
    }
   ],
   "source": [
    "model.fc1.weight"
   ]
  },
  {
   "cell_type": "code",
   "execution_count": 54,
   "id": "a52d3b72-a90e-41fd-a8a8-6e92293447db",
   "metadata": {},
   "outputs": [
    {
     "data": {
      "text/plain": [
       "tensor([[ 1.5744e+00,  5.6859e-01,  4.8134e+00, -2.7338e-03,  3.6798e-01,  9.2795e-01,  1.9497e+00, -2.0374e-03,  1.8977e+00, -8.9890e-02, -3.3157e-02,  1.9824e-02,  8.3217e-02, -6.4346e-03, -4.4225e-02,  1.2580e+00],\n",
       "        [ 2.4415e+00,  1.7940e+00,  1.9261e-01,  1.0768e+00, -6.4617e-02,  1.3890e+00,  5.3226e-01,  1.0674e+00,  2.2285e+00,  2.9046e-01,  1.4834e+00,  1.1693e+00,  2.0378e+00, -3.1069e-01,  8.9808e-01,  3.7648e+00],\n",
       "        [ 1.2804e+00,  1.8796e+00,  1.6328e+00,  7.5941e-02,  3.6955e-01,  8.9219e-01,  6.0784e-01, -3.6053e-01,  1.6417e+00,  5.4127e-01,  3.8321e-02,  8.9872e-01,  6.6316e-01,  5.2462e-01,  8.6481e-01,  4.7609e-01],\n",
       "        [ 1.5760e-02,  1.2095e-01,  1.2316e-01,  6.7805e-03,  2.0561e-01,  1.2125e-01,  6.3861e-03,  1.0159e-02,  6.1074e-03,  7.2756e-03,  8.9574e-03,  2.0344e-03,  3.9869e-03,  1.4419e-02,  1.0611e-02,  1.3823e-01],\n",
       "        [-1.4326e-01,  8.1639e-01,  6.3954e+00,  6.7654e-01,  1.2040e+00,  7.7855e-01,  6.3737e+00, -3.9706e-01,  7.0889e-01,  6.6985e-01,  2.9035e-01,  1.0115e+00,  2.1290e-01,  1.5354e+00,  1.3848e+00,  2.4596e+00],\n",
       "        [ 3.4683e-01,  5.8397e-01,  5.1032e+01,  6.4736e-02,  7.8832e-01,  6.1564e-01,  5.1134e-01,  2.1330e-02,  1.4954e+00,  2.4736e-01,  5.4775e-03, -1.0187e-01,  2.7094e-01,  4.0016e-01,  6.5388e-02, -3.9921e-01],\n",
       "        [ 1.2792e+00,  1.2894e+00,  2.0424e+00,  1.2304e+00,  1.1093e+00,  2.1509e-01, -7.6607e-02,  1.1687e-02,  3.4042e-01,  7.2127e-01,  5.4707e-01, -1.0322e-01,  6.3600e-01,  1.1466e+00,  4.6941e-01,  4.9370e+00],\n",
       "        [ 1.0803e+00,  5.4511e+00,  1.5992e+00, -1.5288e+00,  4.5878e-01,  1.0685e+00,  1.7125e+00,  1.3277e-02,  1.1356e+00,  5.6012e-01, -4.4200e-02,  2.4728e+00,  6.0427e-01,  6.4985e+00, -6.3229e-02,  8.8554e-01],\n",
       "        [ 8.2761e-01,  1.1918e+00,  1.9263e+00,  6.5962e-02,  1.8535e-01,  7.1501e-01,  5.4886e-01, -6.8865e-02,  1.2059e+00,  1.2303e-01,  2.1323e-01,  3.7771e-01,  9.8165e-01,  5.7376e-01,  7.1399e-01,  8.8825e-01],\n",
       "        [ 6.1112e-01,  2.7738e+00,  5.1035e+00,  4.5091e-01,  6.8937e-01,  1.9299e+00,  2.2994e+00, -3.1046e-02,  2.4474e+00,  6.7586e-01,  8.3502e-01,  3.8143e-01,  9.5302e-01, -1.2828e+00, -4.1786e-01,  1.5462e+00],\n",
       "        [ 2.6731e-01,  9.5294e-01,  6.7110e+00,  4.0104e-02,  1.4302e+00,  1.8142e+00,  1.5393e-02, -2.4669e-02,  5.3527e-01,  8.9137e-01,  1.1617e-01,  2.9570e-01, -3.6243e-02,  9.0740e-01,  4.2639e-02,  1.2051e-01],\n",
       "        [ 1.6527e+00,  2.8054e+00,  1.9419e+00,  3.0576e-01,  2.7558e-01,  9.5985e-01,  5.3170e-01, -5.1147e-02,  1.1755e+00,  9.5297e-01,  1.3402e-01,  1.0588e+00, -1.0488e-01,  1.3515e+00, -3.5109e-01,  1.0254e+00],\n",
       "        [ 1.0764e+00,  2.3454e+00,  2.7122e-01,  7.0560e-01,  8.4024e-03,  2.1103e+00,  1.6572e+00,  3.0552e-01,  9.4305e-01,  8.8371e-01,  6.3189e-01,  1.7458e+00,  4.3904e-01,  9.1620e-01,  1.0412e-01,  1.5600e+00],\n",
       "        [ 2.9410e-01,  1.1914e+00,  1.6034e+00,  1.8543e-01,  7.0285e-02,  2.3048e-01,  3.5172e-01, -1.4796e-01,  3.5718e+00,  2.6427e-01, -3.3179e-01,  1.3543e+00,  7.9425e-01, -3.0222e-01, -1.8793e-01,  3.7130e-01],\n",
       "        [ 1.5456e-01,  4.7545e+00,  2.3527e+00,  9.7544e-01,  7.4202e-01,  2.2303e+00,  3.1254e+00, -5.4714e-02,  2.0242e+00,  3.5568e+00,  2.6082e-01,  2.4053e-01,  2.5789e-01,  6.9799e-01, -9.3929e-01,  1.3473e+00],\n",
       "        [ 3.2195e-01,  2.5778e+00,  3.7394e+00,  1.9245e+00,  2.7675e-01,  3.8178e+00,  1.0925e+00,  3.4342e-01,  9.3169e-01,  7.8537e-01,  3.7387e-01,  5.2979e-01,  2.5993e-02,  1.5199e+00,  7.3211e-01,  1.4553e+00]])"
      ]
     },
     "execution_count": 54,
     "metadata": {},
     "output_type": "execute_result"
    }
   ],
   "source": [
    "model.fc2.weight.grad"
   ]
  },
  {
   "cell_type": "code",
   "execution_count": null,
   "id": "c64576f4-9bde-4941-adba-8f4c934ba615",
   "metadata": {},
   "outputs": [],
   "source": []
  }
 ],
 "metadata": {
  "kernelspec": {
   "display_name": "Python 3",
   "language": "python",
   "name": "python3"
  },
  "language_info": {
   "codemirror_mode": {
    "name": "ipython",
    "version": 3
   },
   "file_extension": ".py",
   "mimetype": "text/x-python",
   "name": "python",
   "nbconvert_exporter": "python",
   "pygments_lexer": "ipython3",
   "version": "3.8.10"
  }
 },
 "nbformat": 4,
 "nbformat_minor": 5
}
