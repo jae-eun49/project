{
 "cells": [
  {
   "cell_type": "markdown",
   "id": "583fd3a6-b9a0-44d6-b3bc-4699bef35c5e",
   "metadata": {},
   "source": [
    "# MNIST Model"
   ]
  },
  {
   "cell_type": "code",
   "execution_count": 1,
   "id": "123cecf8-ae11-4ee8-b20d-aafd8d64c244",
   "metadata": {},
   "outputs": [],
   "source": [
    "#from __future__ import print_function\n",
    "#import argparse\n",
    "import torch\n",
    "import torch.nn as nn\n",
    "import torch.nn.functional as F\n",
    "import torch.optim as optim\n",
    "from torchvision import datasets, transforms\n",
    "import warnings\n",
    "warnings.filterwarnings(action='ignore')\n",
    "\n",
    "class Net(nn.Module):\n",
    "\tdef __init__(self, mnist=True):\n",
    "\t\tsuper(Net, self).__init__()\n",
    "\t\tif mnist:\n",
    "\t\t\tnum_channels = 1\n",
    "\t\telse:\n",
    "\t\t\tnum_channels = 3\n",
    "\t\t\t\n",
    "\t\tself.conv1 = nn.Conv2d(num_channels, 20, 5, 1)\n",
    "\t\tself.conv2 = nn.Conv2d(20, 50, 5, 1)\n",
    "\n",
    "\t\tif mnist:\n",
    "\t\t\tself.fc1 = nn.Linear(4*4*50, 500)\n",
    "\t\t\tself.flatten_shape = 4*4*50\n",
    "\t\telse:\n",
    "\t\t\tself.fc1 = nn.Linear(1250, 500)\n",
    "\t\t\tself.flatten_shape = 1250\n",
    "\n",
    "\t\tself.fc2 = nn.Linear(500, 10)\n",
    "\t\t\n",
    "\t\t\n",
    "\tdef forward(self, x, vis=False, axs=None):\n",
    "\t\tX = 0\n",
    "\t\ty = 0\n",
    "\n",
    "\t\tif vis:\n",
    "\t\t\taxs[X,y].set_xlabel('Entry into network, input distribution visualised below: ')\n",
    "\t\t\tvisualise(x, axs[X,y])\n",
    "\n",
    "\t\t\taxs[X,y+1].set_xlabel(\"Visualising weights of conv 1 layer: \")\n",
    "\t\t\tvisualise(self.conv1.weight.data, axs[X,y+1])\n",
    "\t\t\t\n",
    "\t\tx = F.relu(self.conv1(x))\n",
    "\n",
    "\t\tif vis:\n",
    "\t\t\taxs[X,y+2].set_xlabel('Output after conv1 visualised below: ')\n",
    "\t\t\tvisualise(x,axs[X,y+2])\n",
    "\n",
    "\t\t\taxs[X,y+3].set_xlabel(\"Visualising weights of conv 2 layer: \")\n",
    "\t\t\tvisualise(self.conv2.weight.data, axs[X,y+3])\n",
    "\n",
    "\t\tx = F.max_pool2d(x, 2, 2)\n",
    "\t\tx = F.relu(self.conv2(x))\n",
    "\n",
    "\t\tif vis:\n",
    "\t\t\taxs[X,y+4].set_xlabel('Output after conv2 visualised below: ')\n",
    "\t\t\tvisualise(x,axs[X,y+4])\n",
    "\n",
    "\t\t\taxs[X+1,y].set_xlabel(\"Visualising weights of fc 1 layer: \")\n",
    "\t\t\tvisualise(self.fc1.weight.data, axs[X+1,y])\n",
    "\n",
    "\t\tx = F.max_pool2d(x, 2, 2)  \n",
    "\t\tx = x.view(-1, self.flatten_shape)\n",
    "\t\tx = F.relu(self.fc1(x))\n",
    "\n",
    "\t\tif vis:\n",
    "\t\t\taxs[X+1,y+1].set_xlabel('Output after fc1 visualised below: ')\n",
    "\t\t\tvisualise(x,axs[X+1,y+1])\n",
    "\n",
    "\t\t\taxs[X+1,y+2].set_xlabel(\"Visualising weights of fc 2 layer: \")\n",
    "\t\t\tvisualise(self.fc2.weight.data, axs[X+1,y+2])\n",
    "\n",
    "\t\tx = self.fc2(x)\n",
    "\n",
    "\t\tif vis:\n",
    "\t\t\taxs[X+1,y+3].set_xlabel('Output after fc2 visualised below: ')\n",
    "\t\t\tvisualise(x,axs[X+1,y+3])\n",
    "\n",
    "\t\treturn F.log_softmax(x, dim=1)\n"
   ]
  },
  {
   "cell_type": "markdown",
   "id": "169b664c-17c4-4d34-ba3b-93497aa44698",
   "metadata": {},
   "source": [
    "# Training"
   ]
  },
  {
   "cell_type": "code",
   "execution_count": 2,
   "id": "551c673d-bd95-4694-a284-ae510bf9e89d",
   "metadata": {},
   "outputs": [
    {
     "name": "stdout",
     "output_type": "stream",
     "text": [
      "Train Epoch: 1 [0/60000 (0%)]\tLoss: 2.299174\n",
      "Train Epoch: 1 [32000/60000 (53%)]\tLoss: 0.154332\n",
      "\n",
      "Test set: Average loss: 0.1055, Accuracy: 9677/10000 (97%)\n",
      "\n",
      "Train Epoch: 2 [0/60000 (0%)]\tLoss: 0.211600\n",
      "Train Epoch: 2 [32000/60000 (53%)]\tLoss: 0.162916\n",
      "\n",
      "Test set: Average loss: 0.0674, Accuracy: 9785/10000 (98%)\n",
      "\n",
      "Train Epoch: 3 [0/60000 (0%)]\tLoss: 0.027712\n",
      "Train Epoch: 3 [32000/60000 (53%)]\tLoss: 0.070007\n",
      "\n",
      "Test set: Average loss: 0.0483, Accuracy: 9844/10000 (98%)\n",
      "\n",
      "Train Epoch: 4 [0/60000 (0%)]\tLoss: 0.020521\n",
      "Train Epoch: 4 [32000/60000 (53%)]\tLoss: 0.029861\n",
      "\n",
      "Test set: Average loss: 0.0407, Accuracy: 9860/10000 (99%)\n",
      "\n",
      "Train Epoch: 5 [0/60000 (0%)]\tLoss: 0.094927\n",
      "Train Epoch: 5 [32000/60000 (53%)]\tLoss: 0.035500\n",
      "\n",
      "Test set: Average loss: 0.0359, Accuracy: 9881/10000 (99%)\n",
      "\n",
      "Train Epoch: 6 [0/60000 (0%)]\tLoss: 0.079521\n",
      "Train Epoch: 6 [32000/60000 (53%)]\tLoss: 0.013685\n",
      "\n",
      "Test set: Average loss: 0.0393, Accuracy: 9877/10000 (99%)\n",
      "\n",
      "Train Epoch: 7 [0/60000 (0%)]\tLoss: 0.011801\n",
      "Train Epoch: 7 [32000/60000 (53%)]\tLoss: 0.023254\n",
      "\n",
      "Test set: Average loss: 0.0341, Accuracy: 9886/10000 (99%)\n",
      "\n",
      "Train Epoch: 8 [0/60000 (0%)]\tLoss: 0.036492\n",
      "Train Epoch: 8 [32000/60000 (53%)]\tLoss: 0.003403\n",
      "\n",
      "Test set: Average loss: 0.0446, Accuracy: 9853/10000 (99%)\n",
      "\n",
      "Train Epoch: 9 [0/60000 (0%)]\tLoss: 0.008121\n",
      "Train Epoch: 9 [32000/60000 (53%)]\tLoss: 0.027925\n",
      "\n",
      "Test set: Average loss: 0.0299, Accuracy: 9905/10000 (99%)\n",
      "\n",
      "Train Epoch: 10 [0/60000 (0%)]\tLoss: 0.007681\n",
      "Train Epoch: 10 [32000/60000 (53%)]\tLoss: 0.049007\n",
      "\n",
      "Test set: Average loss: 0.0320, Accuracy: 9893/10000 (99%)\n",
      "\n"
     ]
    }
   ],
   "source": [
    "def train(args, model, device, train_loader, optimizer, epoch):\n",
    "\tmodel.train()\n",
    "\tfor batch_idx, (data, target) in enumerate(train_loader):\n",
    "\t\tdata, target = data.to(device), target.to(device)\n",
    "\t\toptimizer.zero_grad()\n",
    "\t\toutput = model(data)\n",
    "\t\tloss = F.nll_loss(output, target)\n",
    "\t\tloss.backward()\n",
    "\t\toptimizer.step()\n",
    "\t\t\n",
    "\t\tif batch_idx % args[\"log_interval\"] == 0:\n",
    "\t\t\tprint('Train Epoch: {} [{}/{} ({:.0f}%)]\\tLoss: {:.6f}'.format(\n",
    "\t\t\t\tepoch, batch_idx * len(data), len(train_loader.dataset),\n",
    "\t\t\t\t100. * batch_idx / len(train_loader), loss.item()))\n",
    "\n",
    "def test(args, model, device, test_loader):\n",
    "\tmodel.eval()\n",
    "\ttest_loss = 0\n",
    "\tcorrect = 0\n",
    "\twith torch.no_grad():\n",
    "\t\tfor data, target in test_loader:\n",
    "\t\t\tdata, target = data.to(device), target.to(device)\n",
    "\t\t\toutput = model(data)\n",
    "\t\t\ttest_loss += F.nll_loss(output, target, reduction='sum').item() # sum up batch loss\n",
    "\t\t\tpred = output.argmax(dim=1, keepdim=True) # get the index of the max log-probability\n",
    "\t\t\tcorrect += pred.eq(target.view_as(pred)).sum().item()\n",
    "\n",
    "\ttest_loss /= len(test_loader.dataset)\n",
    "\n",
    "\tprint('\\nTest set: Average loss: {:.4f}, Accuracy: {}/{} ({:.0f}%)\\n'.format(\n",
    "\t\ttest_loss, correct, len(test_loader.dataset),\n",
    "\t\t100. * correct / len(test_loader.dataset)))\n",
    "\n",
    "def main(mnist=True):\n",
    "\n",
    "\tbatch_size = 64\n",
    "\ttest_batch_size = 64\n",
    "\tepochs = 10\n",
    "\tlr = 0.01\n",
    "\tmomentum = 0.5\n",
    "\tseed = 1\n",
    "\tlog_interval = 500\n",
    "\tsave_model = False\n",
    "\tno_cuda = False\n",
    "\n",
    "\tuse_cuda = not no_cuda and torch.cuda.is_available()\n",
    "\n",
    "\ttorch.manual_seed(seed)\n",
    "\n",
    "\tdevice = torch.device(\"cuda\" if use_cuda else \"cpu\")\n",
    "\n",
    "\tkwargs = {'num_workers': 1, 'pin_memory': True} if use_cuda else {}\n",
    "\n",
    "\tif mnist:\n",
    "\t\ttrain_loader = torch.utils.data.DataLoader(\n",
    "\t\t\tdatasets.MNIST('../data', train=True, download=True,\n",
    "\t\t\t\ttransform=transforms.Compose([\n",
    "\t\t\t\t\ttransforms.ToTensor(),\n",
    "\t\t\t\t\ttransforms.Normalize((0.1307,), (0.3081,))\n",
    "\t\t\t\t])),\n",
    "\t\t\tbatch_size=batch_size, shuffle=True, **kwargs)\n",
    "\n",
    "\t\ttest_loader = torch.utils.data.DataLoader(\n",
    "\t\t\tdatasets.MNIST('../data', train=False, transform=transforms.Compose([\n",
    "\t\t\t\t\ttransforms.ToTensor(),\n",
    "\t\t\t\t\ttransforms.Normalize((0.1307,), (0.3081,))\n",
    "\t\t\t\t])),\n",
    "\t\t\tbatch_size=test_batch_size, shuffle=True, **kwargs)\n",
    "\telse:\n",
    "\t\ttransform = transforms.Compose(\n",
    "\t\t[transforms.ToTensor(),\n",
    "\t\ttransforms.Normalize((0.5, 0.5, 0.5), (0.5, 0.5, 0.5))])\n",
    "\n",
    "\t\ttrainset = datasets.CIFAR10(root='./dataCifar', train=True,\n",
    "\t\t\t\t\t\t\t\t  download=True, transform=transform)\n",
    "\t\ttrain_loader = torch.utils.data.DataLoader(trainset, batch_size=batch_size,\n",
    "\t\t\t\t\t\t\t\t\tshuffle=True, num_workers=2)\n",
    "\n",
    "\t\ttestset = datasets.CIFAR10(root='./dataCifar', train=False,\n",
    "\t\t\t\t\t\t\t\tdownload=True, transform=transform)\n",
    "\t\ttest_loader = torch.utils.data.DataLoader(testset, batch_size=test_batch_size,\n",
    "\t\t\t\t\t\t\t\t  shuffle=False, num_workers=2)\n",
    "\n",
    "\tmodel = Net(mnist=mnist).to(device)\n",
    "\toptimizer = optim.SGD(model.parameters(), lr=lr, momentum=momentum)\n",
    "\targs = {}\n",
    "\targs[\"log_interval\"] = log_interval\n",
    "\tfor epoch in range(1, epochs + 1):\n",
    "\t\ttrain(args, model, device, train_loader, optimizer, epoch)\n",
    "\t\ttest(args, model, device, test_loader)\n",
    "\n",
    "\tif (save_model):\n",
    "\t\ttorch.save(model.state_dict(),\"mnist_cnn.pt\")\n",
    "\n",
    "\treturn model\n",
    "\n",
    "model = main()"
   ]
  },
  {
   "cell_type": "markdown",
   "id": "c01350b1-661b-44f3-bd40-9d6f2eb91552",
   "metadata": {},
   "source": [
    "# Quantization of Network"
   ]
  },
  {
   "cell_type": "markdown",
   "id": "47b732b0-6fd7-4714-aa25-c79dfbba54b7",
   "metadata": {},
   "source": [
    "## Quantization Functions"
   ]
  },
  {
   "cell_type": "code",
   "execution_count": 3,
   "id": "f7eb2241-3b6c-4de9-9b9b-329074b327df",
   "metadata": {},
   "outputs": [],
   "source": [
    "from collections import namedtuple\n",
    "import torch\n",
    "import torch.nn as nn\n",
    "\n",
    "QTensor = namedtuple('QTensor', ['tensor', 'scale', 'zero_point'])\n",
    "\n",
    "def calcScaleZeroPoint(min_val, max_val, num_bits=8):\n",
    "\t# Calc Scale and zero point of next \n",
    "\tqmin = 0.\n",
    "\tqmax = 2.**num_bits - 1.\n",
    "\n",
    "\tscale = (max_val - min_val) / (qmax - qmin)\n",
    "\n",
    "\tinitial_zero_point = qmin - min_val / scale\n",
    "\n",
    "\tzero_point = 0\n",
    "\tif initial_zero_point < qmin:\n",
    "\t\tzero_point = qmin\n",
    "\telif initial_zero_point > qmax:\n",
    "\t\tzero_point = qmax\n",
    "\telse:\n",
    "\t\tzero_point = initial_zero_point\n",
    "\n",
    "\tzero_point = int(zero_point)\n",
    "\n",
    "\treturn scale, zero_point\n",
    "\n",
    "def calcScaleZeroPointSym(min_val, max_val,num_bits=8):\n",
    "\n",
    "\t# Calc Scale \n",
    "\tmax_val = max(abs(min_val), abs(max_val))\n",
    "\tqmin = 0.\n",
    "\tqmax = 2.**(num_bits-1) - 1.\n",
    "\n",
    "\tscale = max_val / qmax\n",
    "\n",
    "\treturn scale, 0\n",
    "\n",
    "def quantize_tensor(x, num_bits=8, min_val=None, max_val=None):\n",
    "\n",
    "\tif not min_val and not max_val: \n",
    "\t\tmin_val, max_val = x.min(), x.max()\n",
    "\n",
    "\tqmin = 0.\n",
    "\tqmax = 2.**num_bits - 1.\n",
    "\n",
    "\tscale, zero_point = calcScaleZeroPoint(min_val, max_val, num_bits)\n",
    "\tq_x = zero_point + x / scale\n",
    "\tq_x.clamp_(qmin, qmax).round_()\n",
    "\tq_x = q_x.round().byte()\n",
    "\n",
    "\treturn QTensor(tensor=q_x, scale=scale, zero_point=zero_point)\n",
    "\n",
    "def dequantize_tensor(q_x):\n",
    "\treturn q_x.scale * (q_x.tensor.float() - q_x.zero_point)\n",
    "\n",
    "def quantize_tensor_sym(x, num_bits=8, min_val=None, max_val=None):\n",
    "\n",
    "\tif not min_val and not max_val: \n",
    "\t\tmin_val, max_val = x.min(), x.max()\n",
    "\n",
    "\tmax_val = max(abs(min_val), abs(max_val))\n",
    "\tqmin = 0.\n",
    "\tqmax = 2.**(num_bits-1) - 1.\n",
    "\n",
    "\tscale = max_val / qmax   \n",
    "\n",
    "\tq_x = x/scale\n",
    "\n",
    "\tq_x.clamp_(-qmax, qmax).round_()\n",
    "\tq_x = q_x.round()\n",
    "\treturn QTensor(tensor=q_x, scale=scale, zero_point=0)\n",
    "\n",
    "def dequantize_tensor_sym(q_x):\n",
    "    return q_x.scale * (q_x.tensor.float())"
   ]
  },
  {
   "cell_type": "markdown",
   "id": "00aff51b-eec0-4568-ba99-55daa00f9a89",
   "metadata": {},
   "source": [
    "## Rework Forward pass of Linear and Conv Layers to support Quantisation"
   ]
  },
  {
   "cell_type": "code",
   "execution_count": 4,
   "id": "0599bda1-d099-4fbb-b3ee-7e7824f6e3d7",
   "metadata": {},
   "outputs": [],
   "source": [
    "def quantizeLayer(x, layer, stat, scale_x, zp_x, vis=False, axs=None, X=None, y=None, sym=False, num_bits=8):\n",
    "\t# for both conv and linear layers\n",
    "\n",
    "\t# cache old values\n",
    "\tW = layer.weight.data\n",
    "\tB = layer.bias.data\n",
    "\n",
    "\t# WEIGHTS SIMULATED QUANTISED\n",
    "\n",
    "\t# quantise weights, activations are already quantised\n",
    "\tif sym:\n",
    "\t\tw = quantize_tensor_sym(layer.weight.data,num_bits=num_bits) \n",
    "\t\tb = quantize_tensor_sym(layer.bias.data,num_bits=num_bits)\n",
    "\telse:\n",
    "\t\tw = quantize_tensor(layer.weight.data, num_bits=num_bits) \n",
    "\t\tb = quantize_tensor(layer.bias.data, num_bits=num_bits)\n",
    "\n",
    "\tlayer.weight.data = w.tensor.float()\n",
    "\tlayer.bias.data = b.tensor.float()\n",
    "\n",
    "\t## END WEIGHTS QUANTISED SIMULATION\n",
    "\n",
    "\n",
    "\tif vis:\n",
    "\t\taxs[X,y].set_xlabel(\"Visualising weights of layer: \")\n",
    "\t\tvisualise(layer.weight.data, axs[X,y])\n",
    "\n",
    "\t# QUANTISED OP, USES SCALE AND ZERO POINT TO DO LAYER FORWARD PASS. (How does backprop change here ?)\n",
    "\t# This is Quantisation Arithmetic\n",
    "\tscale_w = w.scale\n",
    "\tzp_w = w.zero_point\n",
    "\tscale_b = b.scale\n",
    "\tzp_b = b.zero_point\n",
    "\n",
    "\tif sym:\n",
    "\t\tscale_next, zero_point_next = calcScaleZeroPointSym(min_val=stat['min'], max_val=stat['max'])\n",
    "\telse:\n",
    "\t\tscale_next, zero_point_next = calcScaleZeroPoint(min_val=stat['min'], max_val=stat['max'])\n",
    "\n",
    "\t# Preparing input by saturating range to num_bits range.\n",
    "\tif sym:\n",
    "\t\tX = x.float()\n",
    "\t\tlayer.weight.data = ((scale_x * scale_w) / scale_next)*(layer.weight.data)\n",
    "\t\tlayer.bias.data = (scale_b/scale_next)*(layer.bias.data)\n",
    "\telse:\n",
    "\t\tX = x.float() - zp_x\n",
    "\t\tlayer.weight.data = ((scale_x * scale_w) / scale_next)*(layer.weight.data - zp_w)\n",
    "\t\tlayer.bias.data = (scale_b/scale_next)*(layer.bias.data + zp_b)\n",
    "\n",
    "\t# All int computation\n",
    "\tif sym:  \n",
    "\t\tx = (layer(X)) \n",
    "\telse:\n",
    "\t\tx = (layer(X)) + zero_point_next \n",
    "\n",
    "\t# cast to int\n",
    "\tx.round_()\n",
    "\n",
    "\t# Perform relu too\n",
    "\tx = F.leaky_relu(x)\n",
    "\n",
    "\t# Reset weights for next forward pass\n",
    "\tlayer.weight.data = W\n",
    "\tlayer.bias.data = B\n",
    "\n",
    "\treturn x, scale_next, zero_point_next\n"
   ]
  },
  {
   "cell_type": "markdown",
   "id": "4a930bbf-4853-448c-8f1f-d40d7a3f85b9",
   "metadata": {},
   "source": [
    "## Get Stats for Quantising Activations of Network.\n",
    "\n",
    "This is done by running the network with around 1000 examples and getting the average min and max activation values before and after each layer."
   ]
  },
  {
   "cell_type": "code",
   "execution_count": 5,
   "id": "071711b2-0ae9-4de8-9205-129e20e60e3b",
   "metadata": {},
   "outputs": [],
   "source": [
    "# Get Min and max of x tensor, and stores it\n",
    "def updateStats(x, stats, key):\n",
    "\tmax_val, _ = torch.max(x, dim=1)\n",
    "\tmin_val, _ = torch.min(x, dim=1)\n",
    "\n",
    "\t# add ema calculation\n",
    "\n",
    "\tif key not in stats:\n",
    "\t\tstats[key] = {\"max\": max_val.sum(), \"min\": min_val.sum(), \"total\": 1}\n",
    "\telse:\n",
    "\t\tstats[key]['max'] += max_val.sum().item()\n",
    "\t\tstats[key]['min'] += min_val.sum().item()\n",
    "\t\tstats[key]['total'] += 1\n",
    "\n",
    "\tweighting = 2.0 / (stats[key]['total']) + 1\n",
    "\n",
    "\tif 'ema_min' in stats[key]:\n",
    "\t\tstats[key]['ema_min'] = weighting*(min_val.mean().item()) + (1- weighting) * stats[key]['ema_min']\n",
    "\telse:\n",
    "\t\tstats[key]['ema_min'] = weighting*(min_val.mean().item())\n",
    "\n",
    "\tif 'ema_max' in stats[key]:\n",
    "\t\tstats[key]['ema_max'] = weighting*(max_val.mean().item()) + (1- weighting) * stats[key]['ema_max']\n",
    "\telse: \n",
    "\t\tstats[key]['ema_max'] = weighting*(max_val.mean().item())\n",
    "\n",
    "\t\tstats[key]['min_val'] = stats[key]['min']/ stats[key]['total']\n",
    "\t\tstats[key]['max_val'] = stats[key]['max']/ stats[key]['total']\n",
    "\n",
    "\treturn stats\n",
    "\n",
    "# Reworked Forward Pass to access activation Stats through updateStats function\n",
    "def gatherActivationStats(model, x, stats):\n",
    "\n",
    "\tstats = updateStats(x.clone().view(x.shape[0], -1), stats, 'conv1')\n",
    "\n",
    "\tx = F.relu(model.conv1(x))\n",
    "\n",
    "\tx = F.max_pool2d(x, 2, 2)\n",
    "\n",
    "\tstats = updateStats(x.clone().view(x.shape[0], -1), stats, 'conv2')\n",
    "\n",
    "\tx = F.relu(model.conv2(x))\n",
    "\n",
    "\tx = F.max_pool2d(x, 2, 2)\n",
    "\n",
    "\tx = x.view(-1, 4*4*50)\n",
    "\n",
    "\tstats = updateStats(x, stats, 'fc1')\n",
    "\n",
    "\tx = F.relu(model.fc1(x))\n",
    "\n",
    "\tstats = updateStats(x, stats, 'fc2')\n",
    "\n",
    "\tx = model.fc2(x)\n",
    "\n",
    "\treturn stats\n",
    "\n",
    "# Entry function to get stats of all functions.\n",
    "def gatherStats(model, test_loader):\n",
    "\tdevice = 'cuda'\n",
    "\n",
    "\tmodel.eval()\n",
    "\ttest_loss = 0\n",
    "\tcorrect = 0\n",
    "\tstats = {}\n",
    "\twith torch.no_grad():\n",
    "\t\tfor data, target in test_loader:\n",
    "\t\t\tdata, target = data.to(device), target.to(device)\n",
    "\t\t\tstats = gatherActivationStats(model, data, stats)\n",
    "\n",
    "\tfinal_stats = {}\n",
    "\tfor key, value in stats.items():\n",
    "\t\tfinal_stats[key] = { \"max\" : value[\"max\"] / value[\"total\"], \"min\" : value[\"min\"] / value[\"total\"], \"ema_min\": value[\"ema_min\"], \"ema_max\": value[\"ema_max\"] }\n",
    "\treturn final_stats"
   ]
  },
  {
   "cell_type": "markdown",
   "id": "1e29842e-916a-4f2a-a203-a4f4bb90835c",
   "metadata": {},
   "source": [
    "## Forward Pass for Quantised Inference"
   ]
  },
  {
   "cell_type": "code",
   "execution_count": 6,
   "id": "2e446ee1-eb6a-41cb-9a9c-ad42dc8c2c56",
   "metadata": {},
   "outputs": [],
   "source": [
    "def quantForward(model, x, stats, vis=False, axs=None, sym=False, num_bits=16):\n",
    "\tX = 0\n",
    "\ty = 0\n",
    "\t# Quantise before inputting into incoming layers\n",
    "\tif sym:\n",
    "\t\tx = quantize_tensor_sym(x, min_val=stats['conv1']['min'], max_val=stats['conv1']['max'], num_bits=num_bits)\n",
    "\telse:\n",
    "\t\tx = quantize_tensor(x, min_val=stats['conv1']['min'], max_val=stats['conv1']['max'], num_bits=num_bits)\n",
    "\n",
    "\tif vis:\n",
    "\t\taxs[X,y].set_xlabel('Entry into network, input distribution visualised below: ')\n",
    "\t\tvisualise(x.tensor, axs[X,y])\n",
    "\n",
    "\tx, scale_next, zero_point_next = quantizeLayer(x.tensor, model.conv1, stats['conv2'], x.scale, x.zero_point, vis, axs, X=X, y=y+1, sym=sym, num_bits=num_bits)\n",
    "\n",
    "\tx = F.max_pool2d(x, 2, 2)\n",
    "\n",
    "\tif vis:\n",
    "\t\taxs[X,y+2].set_xlabel('Output after conv1 visualised below: ')\n",
    "\t\tvisualise(x,axs[X,y+2])\n",
    "\n",
    "\tx, scale_next, zero_point_next = quantizeLayer(x, model.conv2, stats['fc1'], scale_next, zero_point_next, vis, axs, X=X, y=y+3, sym=sym, num_bits=num_bits)\n",
    "\n",
    "\tx = F.max_pool2d(x, 2, 2)\n",
    "\n",
    "\tif vis:\n",
    "\t\taxs[X,y+4].set_xlabel('Output after conv2 visualised below: ')\n",
    "\t\tvisualise(x,axs[X,y+4])\n",
    "\n",
    "\tx = x.view(-1, 4*4*50)\n",
    "\n",
    "\tx, scale_next, zero_point_next = quantizeLayer(x, model.fc1, stats['fc2'], scale_next, zero_point_next, vis, axs, X=X+1, y=0, sym=sym, num_bits=num_bits)\n",
    "\n",
    "\tif vis:\n",
    "\t\taxs[X+1,1].set_xlabel('Output after fc1 visualised below: ')\n",
    "\t\tvisualise(x,axs[X+1,1])\n",
    "\n",
    "\t# Back to dequant for final layer\n",
    "# \tif sym:\n",
    "# \t\tx = dequantize_tensor_sym(QTensor(tensor=x, scale=scale_next, zero_point=zero_point_next))\n",
    "# \telse:\n",
    "# \t\tx = dequantize_tensor(QTensor(tensor=x, scale=scale_next, zero_point=zero_point_next))\n",
    "\n",
    "\tif vis:\n",
    "\t\taxs[X+1,2].set_xlabel('Output after fc1 but dequantised visualised below: ')\n",
    "\t\tvisualise(x,axs[X+1,2])\n",
    "\n",
    "\tx = model.fc2(x)\n",
    "\n",
    "\tif vis:\n",
    "\t\taxs[X+1,3].set_xlabel('Unquantised Weights of fc2 layer')\n",
    "\t\tvisualise(model.fc2.weight.data,axs[X+1,3])\n",
    "\n",
    "\t\taxs[X+1,2].set_xlabel('Output after fc2 but dequantised visualised below: ')\n",
    "\t\tvisualise(x,axs[X+1,4])\n",
    "\n",
    "\treturn F.log_softmax(x, dim=1)"
   ]
  },
  {
   "cell_type": "markdown",
   "id": "dfb69345-b3bf-492c-95c9-d278812351f0",
   "metadata": {},
   "source": [
    "# Testing Function for Quantisation"
   ]
  },
  {
   "cell_type": "code",
   "execution_count": 7,
   "id": "81b6e4b4-f67f-4204-a8a6-142071595fb4",
   "metadata": {},
   "outputs": [],
   "source": [
    "def testQuant(model, test_loader, quant=False, stats=None, sym=False, num_bits=8):\n",
    "\tdevice = 'cuda'\n",
    "\n",
    "\tmodel.eval()\n",
    "\ttest_loss = 0\n",
    "\tcorrect = 0\n",
    "\twith torch.no_grad():\n",
    "\t\tfor data, target in test_loader:\n",
    "\t\t\tdata, target = data.to(device), target.to(device)\n",
    "\t\t\tif quant:\n",
    "\t\t\t\toutput = quantForward(model, data, stats, sym=sym, num_bits=num_bits)\n",
    "\t\t\telse:\n",
    "\t\t\t\toutput = model(data)\n",
    "\t\t\ttest_loss += F.nll_loss(output, target, reduction='sum').item() # sum up batch loss\n",
    "\t\t\tpred = output.argmax(dim=1, keepdim=True) # get the index of the max log-probability\n",
    "\t\t\tcorrect += pred.eq(target.view_as(pred)).sum().item()\n",
    "\n",
    "\ttest_loss /= len(test_loader.dataset)\n",
    "\n",
    "\tprint('\\nTest set: Average loss: {:.4f}, Accuracy: {}/{} ({:.0f}%)\\n'.format(\n",
    "\t\ttest_loss, correct, len(test_loader.dataset),\n",
    "\t\t100. * correct / len(test_loader.dataset)))"
   ]
  },
  {
   "cell_type": "markdown",
   "id": "8ee26b7b-9f07-4403-8159-624b6a8b5101",
   "metadata": {},
   "source": [
    "# Get Accuracy of Non Quantised Model"
   ]
  },
  {
   "cell_type": "code",
   "execution_count": 8,
   "id": "decc1f3c-5ee2-455e-9a42-a5b7b2d965c5",
   "metadata": {},
   "outputs": [],
   "source": [
    "import copy\n",
    "q_model = copy.deepcopy(model)"
   ]
  },
  {
   "cell_type": "code",
   "execution_count": 9,
   "id": "91a884e5-945c-47d7-8146-bcebf7658ec5",
   "metadata": {},
   "outputs": [],
   "source": [
    "kwargs = {'num_workers': 1, 'pin_memory': True}\n",
    "test_loader = torch.utils.data.DataLoader(\n",
    "    datasets.MNIST('../data', train=False, transform=transforms.Compose([\n",
    "                       transforms.ToTensor(),\n",
    "                       transforms.Normalize((0.1307,), (0.3081,))\n",
    "                   ])),\n",
    "    batch_size=64, shuffle=True, **kwargs)"
   ]
  },
  {
   "cell_type": "code",
   "execution_count": 10,
   "id": "27084e94-4dec-420e-bd54-08e8dbc9bf26",
   "metadata": {},
   "outputs": [
    {
     "name": "stdout",
     "output_type": "stream",
     "text": [
      "\n",
      "Test set: Average loss: 0.0320, Accuracy: 9893/10000 (99%)\n",
      "\n"
     ]
    }
   ],
   "source": [
    "testQuant(q_model, test_loader, quant=False)"
   ]
  },
  {
   "cell_type": "markdown",
   "id": "417d2fe2-d590-4e32-8cfd-6c209e4556fd",
   "metadata": {},
   "source": [
    "# Gather Stats of Activations"
   ]
  },
  {
   "cell_type": "code",
   "execution_count": 11,
   "id": "38afb81d-8d76-417e-a4d7-46a57848cab1",
   "metadata": {},
   "outputs": [
    {
     "name": "stdout",
     "output_type": "stream",
     "text": [
      "{'conv1': {'max': tensor(179.6297, device='cuda:0'), 'min': tensor(-27.0200, device='cuda:0'), 'ema_min': -0.4242129623889923, 'ema_max': 2.819079776573962}, 'conv2': {'max': tensor(569.2243, device='cuda:0'), 'min': tensor(0., device='cuda:0'), 'ema_min': 0.0, 'ema_max': 8.867166618634581}, 'fc1': {'max': tensor(1014.1198, device='cuda:0'), 'min': tensor(0., device='cuda:0'), 'ema_min': 0.0, 'ema_max': 16.227576207016824}, 'fc2': {'max': tensor(539.4450, device='cuda:0'), 'min': tensor(0., device='cuda:0'), 'ema_min': 0.0, 'ema_max': 8.823977986412519}}\n"
     ]
    }
   ],
   "source": [
    "stats = gatherStats(q_model, test_loader)\n",
    "print(stats)"
   ]
  },
  {
   "cell_type": "markdown",
   "id": "ef078e0c-5caf-49dc-9189-5e97fb4a1115",
   "metadata": {},
   "source": [
    "# Test Quantised Inference Of Model"
   ]
  },
  {
   "cell_type": "code",
   "execution_count": 12,
   "id": "c362a0cf-f437-4f2c-bef7-c89012fe3e2e",
   "metadata": {},
   "outputs": [
    {
     "name": "stdout",
     "output_type": "stream",
     "text": [
      "\n",
      "Test set: Average loss: 0.1033, Accuracy: 9702/10000 (97%)\n",
      "\n"
     ]
    }
   ],
   "source": [
    "testQuant(q_model, test_loader, quant=True, stats=stats, sym=False, num_bits=6)"
   ]
  },
  {
   "cell_type": "code",
   "execution_count": 13,
   "id": "83f3e168-1ff0-4077-ae2a-33b95e1fb44c",
   "metadata": {},
   "outputs": [
    {
     "name": "stdout",
     "output_type": "stream",
     "text": [
      "\n",
      "Test set: Average loss: 0.2641, Accuracy: 9744/10000 (97%)\n",
      "\n"
     ]
    }
   ],
   "source": [
    "testQuant(q_model, test_loader, quant=True, stats=stats, sym=True, num_bits=8)"
   ]
  },
  {
   "cell_type": "code",
   "execution_count": 14,
   "id": "e83055cf-ef08-4ef8-8f4e-1cecde1cc8e8",
   "metadata": {},
   "outputs": [
    {
     "name": "stdout",
     "output_type": "stream",
     "text": [
      "\n",
      "Test set: Average loss: 2.3026, Accuracy: 1028/10000 (10%)\n",
      "\n"
     ]
    }
   ],
   "source": [
    "testQuant(q_model, test_loader, quant=True, stats=stats, sym=True, num_bits=4)"
   ]
  },
  {
   "cell_type": "markdown",
   "id": "704f2e15-076d-46e2-bd6e-cc30bd803028",
   "metadata": {},
   "source": [
    "# Visualise Weights and Activations"
   ]
  },
  {
   "cell_type": "code",
   "execution_count": 15,
   "id": "0bcbe1f2-3b30-482c-9eb2-6b8329d21908",
   "metadata": {},
   "outputs": [],
   "source": [
    "def visualise(x, axs):\n",
    "\tx = x.view(-1).cpu().numpy()\n",
    "\taxs.hist(x) "
   ]
  },
  {
   "cell_type": "markdown",
   "id": "365b4ddf-23a2-48dc-a625-41023a3fae78",
   "metadata": {},
   "source": [
    "## Visualise Quantised Model"
   ]
  },
  {
   "cell_type": "code",
   "execution_count": 16,
   "id": "40e334fd-133a-4dd8-901b-9f7867e1de5e",
   "metadata": {},
   "outputs": [
    {
     "data": {
      "image/png": "[encoded data removed]",
      "text/plain": [
       "<Figure size 1440x720 with 10 Axes>"
      ]
     },
     "metadata": {
      "needs_background": "light"
     },
     "output_type": "display_data"
    }
   ],
   "source": [
    "import matplotlib.pyplot as plt\n",
    "# run through one example and plot weights and activations quantised in real time\n",
    "device = 'cuda'\n",
    "fig, axs = plt.subplots(2, 5, figsize=(20, 10))\n",
    "with torch.no_grad():\n",
    "\tfor data, target in test_loader:\n",
    "\t\tdata, target = data.to(device), target.to(device)\n",
    "\t\toutput = quantForward(q_model, data, stats, vis=True, axs=axs, sym=False)\n",
    "\t\tbreak\n",
    "plt.show()"
   ]
  },
  {
   "cell_type": "code",
   "execution_count": 17,
   "id": "6442b0e5-1d76-4df2-8e87-bc420ee2eb2d",
   "metadata": {},
   "outputs": [
    {
     "data": {
      "image/png": "[encoded data removed]",
      "text/plain": [
       "<Figure size 1440x720 with 10 Axes>"
      ]
     },
     "metadata": {
      "needs_background": "light"
     },
     "output_type": "display_data"
    }
   ],
   "source": [
    "import matplotlib.pyplot as plt\n",
    "# run through one example and plot weights and activations quantised in real time\n",
    "device = 'cuda'\n",
    "fig, axs = plt.subplots(2, 5, figsize=(20, 10))\n",
    "with torch.no_grad():\n",
    "\tfor data, target in test_loader:\n",
    "\t\tdata, target = data.to(device), target.to(device)\n",
    "\t\toutput = quantForward(q_model, data, stats, vis=True, axs=axs, sym=True)\n",
    "\t\tbreak\n",
    "plt.show()"
   ]
  },
  {
   "cell_type": "markdown",
   "id": "fd784c35-94f0-4b81-a3bc-857886e08fd8",
   "metadata": {},
   "source": [
    "## Non Quantised Network weights and activations"
   ]
  },
  {
   "cell_type": "code",
   "execution_count": 18,
   "id": "6e83396a-5d41-48d9-9ac7-0a384b3af1b4",
   "metadata": {},
   "outputs": [
    {
     "data": {
      "image/png": "[encoded data removed]",
      "text/plain": [
       "<Figure size 1440x720 with 10 Axes>"
      ]
     },
     "metadata": {
      "needs_background": "light"
     },
     "output_type": "display_data"
    }
   ],
   "source": [
    "# run through one example and plot weights and activations quantised in real time\n",
    "device = 'cuda'\n",
    "fig, axs = plt.subplots(2, 5, figsize=(20, 10))\n",
    "with torch.no_grad():\n",
    "\tfor data, target in test_loader:\n",
    "\t\tdata, target = data.to(device), target.to(device)\n",
    "\t\toutput = model(data, vis=True, axs=axs)\n",
    "\t\tbreak\n",
    "plt.show()"
   ]
  },
  {
   "cell_type": "code",
   "execution_count": 19,
   "id": "b1d35b51-e9df-43d5-b3f1-b5a42529326a",
   "metadata": {},
   "outputs": [
    {
     "data": {
      "image/png": "[encoded data removed]",
      "text/plain": [
       "<Figure size 360x360 with 1 Axes>"
      ]
     },
     "metadata": {
      "needs_background": "light"
     },
     "output_type": "display_data"
    },
    {
     "data": {
      "image/png": "[encoded data removed]",
      "text/plain": [
       "<Figure size 360x360 with 1 Axes>"
      ]
     },
     "metadata": {
      "needs_background": "light"
     },
     "output_type": "display_data"
    },
    {
     "data": {
      "image/png": "[encoded data removed]",
      "text/plain": [
       "<Figure size 360x360 with 1 Axes>"
      ]
     },
     "metadata": {
      "needs_background": "light"
     },
     "output_type": "display_data"
    },
    {
     "data": {
      "image/png": "[encoded data removed]",
      "text/plain": [
       "<Figure size 360x360 with 1 Axes>"
      ]
     },
     "metadata": {
      "needs_background": "light"
     },
     "output_type": "display_data"
    }
   ],
   "source": [
    "quantisedConv1 = quantize_tensor(model.conv1.weight.data)\n",
    "fig, axs = plt.subplots(1, 1, figsize=(5, 5))\n",
    "axs.hist(quantisedConv1.tensor.cpu().view(-1).numpy())\n",
    "\n",
    "plt.show()\n",
    "\n",
    "quantisedConv1 = model.conv1.weight.data\n",
    "fig, axs = plt.subplots(1, 1, figsize=(5, 5))\n",
    "axs.hist(quantisedConv1.cpu().view(-1).numpy())\n",
    "\n",
    "plt.show()\n",
    "\n",
    "quantisedConv1 = quantize_tensor_sym(model.conv1.weight.data)\n",
    "fig, axs = plt.subplots(1, 1, figsize=(5, 5))\n",
    "axs.hist(quantisedConv1.tensor.cpu().view(-1).numpy())\n",
    "\n",
    "plt.show()\n",
    "\n",
    "unquantisedConv1 = dequantize_tensor_sym(quantisedConv1)\n",
    "fig, axs = plt.subplots(1, 1, figsize=(5, 5))\n",
    "axs.hist(unquantisedConv1.cpu().view(-1).numpy())\n",
    "\n",
    "plt.show()"
   ]
  },
  {
   "cell_type": "markdown",
   "id": "b74e4bfb-64c9-44bb-bb86-85a39b8f4523",
   "metadata": {},
   "source": [
    "# Quantisation Aware Training"
   ]
  },
  {
   "cell_type": "code",
   "execution_count": 20,
   "id": "9c9a4f38-03c2-480f-9939-01adc1397946",
   "metadata": {},
   "outputs": [],
   "source": [
    "import torch\n",
    "\n",
    "class FakeQuantOp(torch.autograd.Function):\n",
    "    @staticmethod\n",
    "    def forward(ctx, x, num_bits=8, min_val=None, max_val=None):\n",
    "        x = quantize_tensor(x,num_bits=num_bits, min_val=min_val, max_val=max_val)\n",
    "        x = dequantize_tensor(x)\n",
    "        return x\n",
    "\n",
    "    @staticmethod\n",
    "    def backward(ctx, grad_output):\n",
    "        # straight through estimator\n",
    "        return grad_output, None, None, None"
   ]
  },
  {
   "cell_type": "code",
   "execution_count": 21,
   "id": "cc06cf44-0e02-4003-8fdb-aff4f2b599aa",
   "metadata": {},
   "outputs": [
    {
     "name": "stdout",
     "output_type": "stream",
     "text": [
      "tensor([1., 2., 3., 3.])\n"
     ]
    }
   ],
   "source": [
    "x = torch.tensor([1,2,3,4]).float()\n",
    "print(FakeQuantOp.apply(x))"
   ]
  },
  {
   "cell_type": "markdown",
   "id": "b0e87a92-ed98-47c3-aec7-d748e7c2cefc",
   "metadata": {},
   "source": [
    "## Quantization Aware Training Forward Pass"
   ]
  },
  {
   "cell_type": "code",
   "execution_count": 22,
   "id": "706585e0-c16e-432e-880b-9afbf831c027",
   "metadata": {},
   "outputs": [],
   "source": [
    "def quantAwareTrainingForward(model, x, stats, vis=False, axs=None, sym=False, num_bits=8, act_quant=False):\n",
    "  \n",
    "\tconv1weight = model.conv1.weight.data\n",
    "\tmodel.conv1.weight.data = FakeQuantOp.apply(model.conv1.weight.data, num_bits)\n",
    "\tx = F.relu(model.conv1(x))\n",
    "\n",
    "\twith torch.no_grad():\n",
    "\t\tstats = updateStats(x.clone().view(x.shape[0], -1), stats, 'conv1')\n",
    "\n",
    "\tif act_quant:\n",
    "\t\tx = FakeQuantOp.apply(x, num_bits, stats['conv1']['ema_min'], stats['conv1']['ema_max'])\n",
    "\n",
    "\tx = F.max_pool2d(x, 2, 2)\n",
    "\n",
    "\tconv2weight = model.conv2.weight.data\n",
    "\tmodel.conv2.weight.data = FakeQuantOp.apply(model.conv2.weight.data, num_bits)\n",
    "\tx = F.relu(model.conv2(x))\n",
    "\n",
    "\twith torch.no_grad():\n",
    "\t\tstats = updateStats(x.clone().view(x.shape[0], -1), stats, 'conv2')\n",
    "\n",
    "\tif act_quant:\n",
    "\t\tx = FakeQuantOp.apply(x, num_bits, stats['conv2']['ema_min'], stats['conv2']['ema_max'])\n",
    "\n",
    "\tx = F.max_pool2d(x, 2, 2)\n",
    "\n",
    "\tx = x.view(-1, 4*4*50)\n",
    "\n",
    "\tfc1weight = model.fc1.weight.data\n",
    "\tmodel.fc1.weight.data = FakeQuantOp.apply(model.fc1.weight.data, num_bits)\n",
    "\tx = F.relu(model.fc1(x))\n",
    "\n",
    "\twith torch.no_grad():\n",
    "\t\tstats = updateStats(x.clone().view(x.shape[0], -1), stats, 'fc1')\n",
    "\n",
    "\tif act_quant:\n",
    "\t\tx = FakeQuantOp.apply(x, num_bits, stats['fc1']['ema_min'], stats['fc1']['ema_max'])\n",
    "\n",
    "\tx = model.fc2(x)\n",
    "\n",
    "\twith torch.no_grad():\n",
    "\t\tstats = updateStats(x.clone().view(x.shape[0], -1), stats, 'fc2')\n",
    "\n",
    "\treturn F.log_softmax(x, dim=1), conv1weight, conv2weight, fc1weight, stats"
   ]
  },
  {
   "cell_type": "markdown",
   "id": "4e1a6440-9f9e-46f8-8487-1f3caf1ae95a",
   "metadata": {},
   "source": [
    "# Train using Quantization Aware Training"
   ]
  },
  {
   "cell_type": "code",
   "execution_count": 23,
   "id": "cab687ff-84bd-4a21-836e-3e63cec891bd",
   "metadata": {},
   "outputs": [
    {
     "name": "stdout",
     "output_type": "stream",
     "text": [
      "Train Epoch: 1 [0/60000 (0%)]\tLoss: 2.298120\n",
      "Train Epoch: 1 [32000/60000 (53%)]\tLoss: 0.151010\n",
      "\n",
      "Test set: Average loss: 0.1062, Accuracy: 9677/10000 (97%)\n",
      "\n",
      "Train Epoch: 2 [0/60000 (0%)]\tLoss: 0.216733\n",
      "Train Epoch: 2 [32000/60000 (53%)]\tLoss: 0.157493\n",
      "\n",
      "Test set: Average loss: 0.0670, Accuracy: 9787/10000 (98%)\n",
      "\n",
      "Train Epoch: 3 [0/60000 (0%)]\tLoss: 0.026277\n",
      "Train Epoch: 3 [32000/60000 (53%)]\tLoss: 0.073493\n",
      "\n",
      "Test set: Average loss: 0.0489, Accuracy: 9836/10000 (98%)\n",
      "\n",
      "Train Epoch: 4 [0/60000 (0%)]\tLoss: 0.024750\n",
      "Train Epoch: 4 [32000/60000 (53%)]\tLoss: 0.031454\n",
      "\n",
      "Test set: Average loss: 0.0425, Accuracy: 9858/10000 (99%)\n",
      "\n",
      "Train Epoch: 5 [0/60000 (0%)]\tLoss: 0.091234\n",
      "Train Epoch: 5 [32000/60000 (53%)]\tLoss: 0.034427\n",
      "\n",
      "Test set: Average loss: 0.0380, Accuracy: 9875/10000 (99%)\n",
      "\n",
      "Train Epoch: 6 [0/60000 (0%)]\tLoss: 0.078404\n",
      "Train Epoch: 6 [32000/60000 (53%)]\tLoss: 0.017781\n",
      "\n",
      "Test set: Average loss: 0.0444, Accuracy: 9861/10000 (99%)\n",
      "\n",
      "Train Epoch: 7 [0/60000 (0%)]\tLoss: 0.015681\n",
      "Train Epoch: 7 [32000/60000 (53%)]\tLoss: 0.024849\n",
      "\n",
      "Test set: Average loss: 0.0344, Accuracy: 9891/10000 (99%)\n",
      "\n",
      "Train Epoch: 8 [0/60000 (0%)]\tLoss: 0.039625\n",
      "Train Epoch: 8 [32000/60000 (53%)]\tLoss: 0.003955\n",
      "\n",
      "Test set: Average loss: 0.0452, Accuracy: 9846/10000 (98%)\n",
      "\n",
      "Train Epoch: 9 [0/60000 (0%)]\tLoss: 0.009421\n",
      "Train Epoch: 9 [32000/60000 (53%)]\tLoss: 0.042486\n",
      "\n",
      "Test set: Average loss: 0.0331, Accuracy: 9885/10000 (99%)\n",
      "\n",
      "Train Epoch: 10 [0/60000 (0%)]\tLoss: 0.026416\n",
      "Train Epoch: 10 [32000/60000 (53%)]\tLoss: 0.055322\n",
      "\n",
      "Test set: Average loss: 0.0350, Accuracy: 9892/10000 (99%)\n",
      "\n"
     ]
    }
   ],
   "source": [
    "def trainQuantAware(args, model, device, train_loader, optimizer, epoch, stats, act_quant=False, num_bits=4):\n",
    "\tmodel.train()\n",
    "\tfor batch_idx, (data, target) in enumerate(train_loader):\n",
    "\t\tdata, target = data.to(device), target.to(device)\n",
    "\t\toptimizer.zero_grad()\n",
    "\t\toutput, conv1weight, conv2weight, fc1weight, stats = quantAwareTrainingForward(model, data, stats, num_bits=num_bits, act_quant=act_quant)\n",
    "\n",
    "\t\tmodel.conv1.weight.data = conv1weight\n",
    "\t\tmodel.conv2.weight.data = conv2weight\n",
    "\t\tmodel.fc1.weight.data = fc1weight\n",
    "\n",
    "\t\tloss = F.nll_loss(output, target)\n",
    "\t\tloss.backward()\n",
    "\t\toptimizer.step()\n",
    "\n",
    "\t\tif batch_idx % args[\"log_interval\"] == 0:\n",
    "\t\t\tprint('Train Epoch: {} [{}/{} ({:.0f}%)]\\tLoss: {:.6f}'.format(\n",
    "\t\t\t\tepoch, batch_idx * len(data), len(train_loader.dataset),\n",
    "\t\t\t\t100. * batch_idx / len(train_loader), loss.item()))\n",
    "\treturn stats\n",
    "\n",
    "def testQuantAware(args, model, device, test_loader, stats, act_quant, num_bits=4):\n",
    "\tmodel.eval()\n",
    "\ttest_loss = 0\n",
    "\tcorrect = 0\n",
    "\twith torch.no_grad():\n",
    "\t\tfor data, target in test_loader:\n",
    "\t\t\tdata, target = data.to(device), target.to(device)\n",
    "\t\t\toutput, conv1weight, conv2weight, fc1weight, _ = quantAwareTrainingForward(model, data, stats, num_bits=num_bits, act_quant=act_quant)\n",
    "\n",
    "\t\t\tmodel.conv1.weight.data = conv1weight\n",
    "\t\t\tmodel.conv2.weight.data = conv2weight\n",
    "\t\t\tmodel.fc1.weight.data = fc1weight\n",
    "\n",
    "\t\t\ttest_loss += F.nll_loss(output, target, reduction='sum').item() # sum up batch loss\n",
    "\t\t\tpred = output.argmax(dim=1, keepdim=True) # get the index of the max log-probability\n",
    "\t\t\tcorrect += pred.eq(target.view_as(pred)).sum().item()\n",
    "\n",
    "\ttest_loss /= len(test_loader.dataset)\n",
    "\n",
    "\tprint('\\nTest set: Average loss: {:.4f}, Accuracy: {}/{} ({:.0f}%)\\n'.format(\n",
    "\t\ttest_loss, correct, len(test_loader.dataset),\n",
    "\t\t100. * correct / len(test_loader.dataset)))\n",
    "\n",
    "def mainQuantAware(mnist=True):\n",
    "\n",
    "\tbatch_size = 64\n",
    "\ttest_batch_size = 64\n",
    "\tepochs = 10\n",
    "\tlr = 0.01\n",
    "\tmomentum = 0.5\n",
    "\tseed = 1\n",
    "\tlog_interval = 500\n",
    "\tsave_model = False\n",
    "\tno_cuda = False\n",
    "\n",
    "\tuse_cuda = not no_cuda and torch.cuda.is_available()\n",
    "\n",
    "\ttorch.manual_seed(seed)\n",
    "\n",
    "\tdevice = torch.device(\"cuda\" if use_cuda else \"cpu\")\n",
    "\n",
    "\tkwargs = {'num_workers': 1, 'pin_memory': True} if use_cuda else {}\n",
    "\n",
    "\tif mnist:\n",
    "\t\ttrain_loader = torch.utils.data.DataLoader(\n",
    "\t\t\tdatasets.MNIST('../data', train=True, download=True,\n",
    "\t\t\t\ttransform=transforms.Compose([\n",
    "\t\t\t\t\ttransforms.ToTensor(),\n",
    "\t\t\t\t\ttransforms.Normalize((0.1307,), (0.3081,))\n",
    "\t\t\t\t\t\t])),\n",
    "\t\t\tbatch_size=batch_size, shuffle=True, **kwargs)\n",
    "\n",
    "\t\ttest_loader = torch.utils.data.DataLoader(\n",
    "\t\t\tdatasets.MNIST('../data', train=False, transform=transforms.Compose([\n",
    "\t\t\t\ttransforms.ToTensor(),\n",
    "\t\t\t\ttransforms.Normalize((0.1307,), (0.3081,))\n",
    "\t\t\t\t\t\t])),\n",
    "\t\t\tbatch_size=test_batch_size, shuffle=True, **kwargs)\n",
    "\telse:\n",
    "\t\ttransform = transforms.Compose(\n",
    "\t\t\t[transforms.ToTensor(),\n",
    "\t\t\ttransforms.Normalize((0.5, 0.5, 0.5), (0.5, 0.5, 0.5))])\n",
    "\n",
    "\t\ttrainset = datasets.CIFAR10(root='./dataCifar', train=True, download=True, transform=transform)\n",
    "\t\ttrain_loader = torch.utils.data.DataLoader(trainset, batch_size=batch_size,\tshuffle=True, num_workers=2)\n",
    "\n",
    "\t\ttestset = datasets.CIFAR10(root='./dataCifar', train=False,\tdownload=True, transform=transform)\n",
    "\t\ttest_loader = torch.utils.data.DataLoader(testset, batch_size=test_batch_size, shuffle=False, num_workers=2)\n",
    "          \n",
    "\n",
    "\tmodel = Net(mnist=mnist).to(device)\n",
    "\toptimizer = optim.SGD(model.parameters(), lr=lr, momentum=momentum)\n",
    "\targs = {}\n",
    "\targs[\"log_interval\"] = log_interval\n",
    "\tepochs = 10\n",
    "\tnum_bits=4\n",
    "\tstats = {}\n",
    "\tfor epoch in range(1, epochs + 1):\n",
    "\t\tif epoch > 5:\n",
    "\t\t\tact_quant = True \n",
    "\t\telse:\n",
    "\t\t\tact_quant = False\n",
    "\n",
    "\t\tstats = trainQuantAware(args, model, device, train_loader, optimizer, epoch, stats, act_quant, num_bits=num_bits)\n",
    "\t\ttestQuantAware(args, model, device, test_loader, stats, act_quant, num_bits=num_bits)\n",
    "\n",
    "\tif (save_model):\n",
    "\t\ttorch.save(model.state_dict(),\"mnist_cnn.pt\")\n",
    "\n",
    "\treturn model, stats\n",
    "\n",
    "model, old_stats = mainQuantAware()"
   ]
  },
  {
   "cell_type": "markdown",
   "id": "cdd27480-b62f-4aff-b4f3-b640eb21624a",
   "metadata": {},
   "source": [
    "# Test Quantization Aware Training"
   ]
  },
  {
   "cell_type": "code",
   "execution_count": 24,
   "id": "09a1d3f0-518f-496f-8de3-438e8a5c0487",
   "metadata": {},
   "outputs": [],
   "source": [
    "def testQuantAware(model, test_loader, stats=None, sym=False, num_bits=4):\n",
    "\tmodel.eval()\n",
    "\ttest_loss = 0\n",
    "\tcorrect = 0\n",
    "\twith torch.no_grad():\n",
    "\t\tfor data, target in test_loader:\n",
    "\t\t\tdata, target = data.to(device), target.to(device)\n",
    "\t\t\toutput, conv1weight, conv2weight, fc1weight, _ = quantAwareTrainingForward(model, data, stats, num_bits=num_bits, act_quant=True, sym=False)\n",
    "\n",
    "\t\t\tmodel.conv1.weight.data = conv1weight\n",
    "\t\t\tmodel.conv2.weight.data = conv2weight\n",
    "\t\t\tmodel.fc1.weight.data = fc1weight\n",
    "\n",
    "\t\t\ttest_loss += F.nll_loss(output, target, reduction='sum').item() # sum up batch loss\n",
    "\t\t\tpred = output.argmax(dim=1, keepdim=True) # get the index of the max log-probability\n",
    "\t\t\tcorrect += pred.eq(target.view_as(pred)).sum().item()\n",
    "\n",
    "\ttest_loss /= len(test_loader.dataset)\n",
    "\n",
    "\tprint('\\nTest set: Average loss: {:.4f}, Accuracy: {}/{} ({:.0f}%)\\n'.format(\n",
    "\t\ttest_loss, correct, len(test_loader.dataset),\n",
    "\t\t100. * correct / len(test_loader.dataset)))"
   ]
  },
  {
   "cell_type": "markdown",
   "id": "8390f35d-aee3-404c-b3f8-659cfded11d0",
   "metadata": {},
   "source": [
    "## Load Dataset"
   ]
  },
  {
   "cell_type": "code",
   "execution_count": 25,
   "id": "6ffb2e40-823c-4f5d-9dc8-e7a43eba4f69",
   "metadata": {},
   "outputs": [],
   "source": [
    "kwargs = {'num_workers': 1, 'pin_memory': True}\n",
    "test_loader = torch.utils.data.DataLoader(\n",
    "    datasets.MNIST('../data', train=False, transform=transforms.Compose([\n",
    "                       transforms.ToTensor(),\n",
    "                       transforms.Normalize((0.1307,), (0.3081,))\n",
    "                   ])),\n",
    "    batch_size=64, shuffle=True, **kwargs)"
   ]
  },
  {
   "cell_type": "markdown",
   "id": "effe5f83-a4ae-4d60-9d6b-7dd1732475f8",
   "metadata": {},
   "source": [
    "## Test Quant Aware "
   ]
  },
  {
   "cell_type": "code",
   "execution_count": 26,
   "id": "0b36c104-d30f-4caa-a339-1d32abc55a15",
   "metadata": {},
   "outputs": [
    {
     "name": "stdout",
     "output_type": "stream",
     "text": [
      "{'conv1': {'max': tensor(5780542., device='cuda:0'), 'min': tensor(0., device='cuda:0'), 'total': 10950, 'ema_min': 0.0, 'ema_max': 9.041528145101111, 'min_val': tensor(0., device='cuda:0'), 'max_val': tensor(206.9818, device='cuda:0')}, 'conv2': {'max': tensor(9734579., device='cuda:0'), 'min': tensor(0., device='cuda:0'), 'total': 10950, 'ema_min': 0.0, 'ema_max': 16.66567353061743, 'min_val': tensor(0., device='cuda:0'), 'max_val': tensor(109.5277, device='cuda:0')}, 'fc1': {'max': tensor(5027847., device='cuda:0'), 'min': tensor(0., device='cuda:0'), 'total': 10950, 'ema_min': 0.0, 'ema_max': 9.025002462699344, 'min_val': tensor(0., device='cuda:0'), 'max_val': tensor(45.7052, device='cuda:0')}, 'fc2': {'max': tensor(9054357., device='cuda:0'), 'min': tensor(-5875963., device='cuda:0'), 'total': 10950, 'ema_min': -9.644148672800076, 'ema_max': 17.99328554070657, 'min_val': tensor(-9.8527, device='cuda:0'), 'max_val': tensor(10.2268, device='cuda:0')}}\n"
     ]
    }
   ],
   "source": [
    "print(old_stats)"
   ]
  },
  {
   "cell_type": "code",
   "execution_count": 27,
   "id": "90950a67-2294-4474-a819-f2e34c2f64d9",
   "metadata": {},
   "outputs": [],
   "source": [
    "import copy\n",
    "q_model = copy.deepcopy(model)"
   ]
  },
  {
   "cell_type": "code",
   "execution_count": 28,
   "id": "8cc372b9-5a3a-46d9-9c49-37883d49db0e",
   "metadata": {},
   "outputs": [
    {
     "name": "stdout",
     "output_type": "stream",
     "text": [
      "\n",
      "Test set: Average loss: 0.0354, Accuracy: 9883/10000 (99%)\n",
      "\n"
     ]
    }
   ],
   "source": [
    "testQuantAware(q_model, test_loader, stats=old_stats, sym=False, num_bits=4)"
   ]
  },
  {
   "cell_type": "markdown",
   "id": "97cc25cb-8616-4191-9d44-4f8191088f4b",
   "metadata": {},
   "source": [
    "# Vis 2 bit Model Weights"
   ]
  },
  {
   "cell_type": "code",
   "execution_count": 29,
   "id": "43f4d532-3ab5-4e0c-95cb-919775b4bff1",
   "metadata": {},
   "outputs": [
    {
     "data": {
      "image/png": "[encoded data removed]",
      "text/plain": [
       "<Figure size 1440x720 with 10 Axes>"
      ]
     },
     "metadata": {
      "needs_background": "light"
     },
     "output_type": "display_data"
    }
   ],
   "source": [
    "import matplotlib.pyplot as plt\n",
    "# run through one example and plot weights and activations quantised in real time\n",
    "device = 'cuda'\n",
    "fig, axs = plt.subplots(2, 5, figsize=(20, 10))\n",
    "with torch.no_grad():\n",
    "\tfor data, target in test_loader:\n",
    "\t\tdata, target = data.to(device), target.to(device)\n",
    "\t\tquantForward(q_model, data, old_stats, vis=True, axs=axs, sym=False, num_bits=4)\n",
    "\t\t# output = quantAwareTrainingForward(q_model, data, old_stats, vis=True, axs=axs, sym=False, num_bits=2, act_quant=True)\n",
    "\t\tbreak\n",
    "plt.show()"
   ]
  },
  {
   "cell_type": "code",
   "execution_count": 37,
   "id": "facbcef4-a5f1-41a8-b758-aeff5cac4200",
   "metadata": {},
   "outputs": [
    {
     "data": {
      "text/plain": [
       "tensor([[ 0.0251, -0.0343, -0.0164,  ...,  0.0137, -0.0332,  0.0101],\n",
       "        [-0.0250, -0.0066, -0.0169,  ...,  0.0263, -0.0165, -0.0056],\n",
       "        [ 0.0122, -0.0037, -0.0118,  ...,  0.0168,  0.0178,  0.0177],\n",
       "        ...,\n",
       "        [-0.0138,  0.0120,  0.0117,  ...,  0.0098, -0.0233,  0.0254],\n",
       "        [-0.0010,  0.0238, -0.0058,  ..., -0.0198,  0.0147,  0.0292],\n",
       "        [-0.0112,  0.0301, -0.0203,  ..., -0.0136,  0.0359, -0.0355]],\n",
       "       device='cuda:0')"
      ]
     },
     "execution_count": 37,
     "metadata": {},
     "output_type": "execute_result"
    }
   ],
   "source": [
    "a = model.state_dict()['fc1.weight']\n",
    "a"
   ]
  },
  {
   "cell_type": "code",
   "execution_count": 38,
   "id": "76b4de89-eb19-4797-9a3a-f9c3f4398bd7",
   "metadata": {},
   "outputs": [
    {
     "data": {
      "text/plain": [
       "QTensor(tensor=tensor([[171,  70, 100,  ..., 151,  72, 145],\n",
       "        [ 86, 117,  99,  ..., 173, 100, 119],\n",
       "        [149, 122, 108,  ..., 156, 158, 158],\n",
       "        ...,\n",
       "        [105, 148, 148,  ..., 145,  88, 171],\n",
       "        [126, 168, 118,  ...,  94, 153, 178],\n",
       "        [109, 179,  94,  ..., 105, 189,  68]], device='cuda:0',\n",
       "       dtype=torch.uint8), scale=tensor(0.0006, device='cuda:0'), zero_point=128)"
      ]
     },
     "execution_count": 38,
     "metadata": {},
     "output_type": "execute_result"
    }
   ],
   "source": [
    "quantize_tensor(a)"
   ]
  },
  {
   "cell_type": "code",
   "execution_count": null,
   "id": "4582b31e-b1c3-44da-851f-15ba24caa2c9",
   "metadata": {},
   "outputs": [],
   "source": []
  }
 ],
 "metadata": {
  "kernelspec": {
   "display_name": "Python 3",
   "language": "python",
   "name": "python3"
  },
  "language_info": {
   "codemirror_mode": {
    "name": "ipython",
    "version": 3
   },
   "file_extension": ".py",
   "mimetype": "text/x-python",
   "name": "python",
   "nbconvert_exporter": "python",
   "pygments_lexer": "ipython3",
   "version": "3.8.10"
  }
 },
 "nbformat": 4,
 "nbformat_minor": 5
}
